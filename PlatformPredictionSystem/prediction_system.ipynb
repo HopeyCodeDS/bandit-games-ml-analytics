{
 "cells": [
  {
   "cell_type": "code",
   "id": "initial_id",
   "metadata": {
    "collapsed": true,
    "ExecuteTime": {
     "end_time": "2024-11-25T14:00:26.342140Z",
     "start_time": "2024-11-25T14:00:26.332402Z"
    }
   },
   "source": [
    "# Import Libraries\n",
    "import numpy as np\n",
    "import pandas as pd\n",
    "import matplotlib.pyplot as plt\n",
    "from PlatformPredictionSystem.gamingPredictionSystem import *"
   ],
   "outputs": [],
   "execution_count": 3
  },
  {
   "metadata": {
    "ExecuteTime": {
     "end_time": "2024-11-25T14:00:27.541371Z",
     "start_time": "2024-11-25T14:00:26.351922Z"
    }
   },
   "cell_type": "code",
   "outputs": [
    {
     "name": "stdout",
     "output_type": "stream",
     "text": [
      "\n",
      "Player Churn Prediction Results:\n",
      "\n",
      "Win Probability Prediction Results:\n",
      "\n",
      "Player Insights:\n",
      "\n"
     ]
    }
   ],
   "execution_count": 4,
   "source": [
    "predictor = GamingPredictionSystem('../Battleship/battleship_player_data.csv')\n",
    "\n",
    "# Generate churn predictions\n",
    "print(\"\\nPlayer Churn Prediction Results:\")\n",
    "playerChurn = predictor.predict_player_churn()\n",
    "\n",
    "# Generate win probability predictions\n",
    "print(\"\\nWin Probability Prediction Results:\")\n",
    "playerWinProbability = predictor.predict_win_probability()\n",
    "\n",
    "# Generate player insights\n",
    "print(\"\\nPlayer Insights:\")\n",
    "playerInsights = predictor.generate_player_insights()\n",
    "print()"
   ],
   "id": "4f80b5eadf07fa74"
  }
 ],
 "metadata": {
  "kernelspec": {
   "display_name": "Python 3",
   "language": "python",
   "name": "python3"
  },
  "language_info": {
   "codemirror_mode": {
    "name": "ipython",
    "version": 2
   },
   "file_extension": ".py",
   "mimetype": "text/x-python",
   "name": "python",
   "nbconvert_exporter": "python",
   "pygments_lexer": "ipython2",
   "version": "2.7.6"
  }
 },
 "nbformat": 4,
 "nbformat_minor": 5
}
