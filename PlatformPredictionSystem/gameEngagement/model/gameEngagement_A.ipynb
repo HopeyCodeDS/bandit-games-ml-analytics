{
 "cells": [
  {
   "cell_type": "code",
   "id": "initial_id",
   "metadata": {
    "collapsed": true,
    "ExecuteTime": {
     "end_time": "2024-12-15T14:38:37.865158Z",
     "start_time": "2024-12-15T14:38:37.051531Z"
    }
   },
   "source": [
    "import pandas as pd\n",
    "import numpy as np\n",
    "from IPython.display import display\n",
    "from sklearn.model_selection import train_test_split, GridSearchCV, cross_val_score\n",
    "from sklearn.preprocessing import StandardScaler, LabelEncoder\n",
    "from sklearn.linear_model import LinearRegression\n",
    "from sklearn.ensemble import GradientBoostingRegressor, RandomForestRegressor\n",
    "from sklearn.metrics import accuracy_score\n",
    "from sklearn.svm import SVR\n",
    "import xgboost as xgb\n",
    "from sklearn.metrics import mean_squared_error, r2_score\n",
    "import seaborn as sns\n",
    "import matplotlib.pyplot as plt\n",
    "from datetime import datetime\n",
    "import pickle"
   ],
   "outputs": [],
   "execution_count": 1
  },
  {
   "metadata": {
    "ExecuteTime": {
     "end_time": "2024-12-15T14:39:36.167195Z",
     "start_time": "2024-12-15T14:39:36.115772Z"
    }
   },
   "cell_type": "code",
   "source": [
    "# Load dataset\n",
    "df = pd.read_csv('../../data/player_game_statistics.csv')\n",
    "display(df.columns)"
   ],
   "id": "768cd1bc5287961e",
   "outputs": [
    {
     "data": {
      "text/plain": [
       "Index(['stat_id', 'player_id', 'player_name', 'age', 'gender', 'country',\n",
       "       'game_id', 'game_name', 'total_games_played', 'total_wins',\n",
       "       'total_losses', 'total_moves', 'total_time_played_minutes', 'win_ratio',\n",
       "       'rating', 'last_played'],\n",
       "      dtype='object')"
      ]
     },
     "metadata": {},
     "output_type": "display_data"
    }
   ],
   "execution_count": 2
  },
  {
   "metadata": {
    "ExecuteTime": {
     "end_time": "2024-12-15T14:41:03.407774Z",
     "start_time": "2024-12-15T14:41:03.324554Z"
    }
   },
   "cell_type": "code",
   "source": "display(df.game_name.unique())",
   "id": "b7b424dcffef9dfb",
   "outputs": [
    {
     "data": {
      "text/plain": [
       "array(['battleship', 'chess', 'connect four', 'tic tac toe',\n",
       "       'dots and boxes'], dtype=object)"
      ]
     },
     "metadata": {},
     "output_type": "display_data"
    }
   ],
   "execution_count": 4
  },
  {
   "metadata": {},
   "cell_type": "code",
   "source": [
    "# Inspect the target column (game engagement duration)\n",
    "display(df.head())"
   ],
   "id": "6d64fe422b9e39d9",
   "outputs": [],
   "execution_count": null
  },
  {
   "metadata": {},
   "cell_type": "code",
   "source": [
    "# Engineer features\n",
    "df['avg_session_duration'] = df['total_time_played_minutes'] / df['total_games_played']\n",
    "df['win_rate'] = df['total_wins'] / df['total_games_played']\n",
    "df['avg_moves_per_game'] = df['total_moves'] / df['total_games_played']\n",
    "\n",
    "# Define target variable (predicted engagement time in minutes)\n",
    "df['future_engagement'] = df['total_time_played_minutes'] * (1 + df['win_rate']) * (df['total_games_played'] / df['age'])\n",
    "\n",
    "# Select features for model\n",
    "features = ['avg_session_duration', 'win_rate', 'avg_moves_per_game',\n",
    "           'total_games_played', 'age', 'total_time_played_minutes']\n"
   ],
   "id": "fd61d0acf8028338",
   "outputs": [],
   "execution_count": null
  },
  {
   "metadata": {},
   "cell_type": "code",
   "source": [
    "# Prepare features and target\n",
    "X = df[features]\n",
    "y = df['future_engagement']"
   ],
   "id": "fee4590858f51605",
   "outputs": [],
   "execution_count": null
  },
  {
   "metadata": {},
   "cell_type": "markdown",
   "source": [
    "### Train Engagement prediction models\n",
    "-------------------------------------------------------\n",
    "\n",
    "#### Split data"
   ],
   "id": "12e9d50442cdf3cc"
  },
  {
   "metadata": {},
   "cell_type": "code",
   "source": [
    "# Split data\n",
    "X_train, X_test, y_train, y_test = train_test_split(X, y, test_size=0.2, random_state=42)\n"
   ],
   "id": "895379a92da6fd88",
   "outputs": [],
   "execution_count": null
  },
  {
   "metadata": {},
   "cell_type": "markdown",
   "source": "#### Scale Features",
   "id": "ba07faa4b6e7de51"
  },
  {
   "metadata": {},
   "cell_type": "code",
   "source": [
    "# Scale features\n",
    "scaler = StandardScaler()\n",
    "X_train_scaled = scaler.fit_transform(X_train)\n",
    "X_test_scaled = scaler.transform(X_test)\n"
   ],
   "id": "de5964299d3dc2c",
   "outputs": [],
   "execution_count": null
  },
  {
   "metadata": {},
   "cell_type": "markdown",
   "source": "#### Random Forest Regressor",
   "id": "9b11811655b98149"
  },
  {
   "metadata": {},
   "cell_type": "code",
   "source": [
    "# Linear Regression\n",
    "lin_reg = LinearRegression()\n",
    "lin_reg.fit(X_train_scaled, y_train)\n",
    "lin_reg_pred = lin_reg.predict(X_test_scaled)\n",
    "\n",
    "print(\"Linear Regression Performance:\")\n",
    "print(f'R2 Score: {r2_score(y_test, lin_reg_pred):.4f}')\n",
    "print(f'RMSE: {np.sqrt(mean_squared_error(y_test, lin_reg_pred)):.4f}')"
   ],
   "id": "36a1e3106b80e26a",
   "outputs": [],
   "execution_count": null
  },
  {
   "metadata": {},
   "cell_type": "markdown",
   "source": "#### Random Forest Regressor",
   "id": "bfc142c2d38c7b6f"
  },
  {
   "metadata": {},
   "cell_type": "code",
   "source": [
    "# Random Forest Regressor\n",
    "rf_model = RandomForestRegressor(n_estimators=100, random_state=42)\n",
    "rf_model.fit(X_train_scaled, y_train)\n",
    "rf_pred = rf_model.predict(X_test_scaled)\n",
    "\n",
    "print(\"\\nRandom Forest Performance:\")\n",
    "print(f'R2 Score: {r2_score(y_test, rf_pred):.4f}')\n",
    "print(f'RMSE: {np.sqrt(mean_squared_error(y_test, rf_pred)):.4f}')"
   ],
   "id": "e3368430a5283671",
   "outputs": [],
   "execution_count": null
  },
  {
   "metadata": {},
   "cell_type": "markdown",
   "source": "#### XGBoost Regressor",
   "id": "e1f4d84b2e62487"
  },
  {
   "metadata": {},
   "cell_type": "code",
   "source": [
    "# XGBoost Regressor\n",
    "xgb_model = xgb.XGBRegressor(objective='reg:squarederror', random_state=42)\n",
    "xgb_model.fit(X_train_scaled, y_train)\n",
    "xgb_pred = xgb_model.predict(X_test_scaled)\n",
    "\n",
    "print(\"\\nXGBoost Performance:\")\n",
    "print(f'R2 Score: {r2_score(y_test, xgb_pred):.4f}')\n",
    "print(f'RMSE: {np.sqrt(mean_squared_error(y_test, xgb_pred)):.4f}')\n"
   ],
   "id": "a321d3d3e979512d",
   "outputs": [],
   "execution_count": null
  },
  {
   "metadata": {},
   "cell_type": "markdown",
   "source": "#### Support Vector Regressor",
   "id": "13dd0c1631aa9265"
  },
  {
   "metadata": {},
   "cell_type": "code",
   "source": [
    "# SVR\n",
    "svr_model = SVR(kernel='rbf')\n",
    "svr_model.fit(X_train_scaled, y_train)\n",
    "svr_pred = svr_model.predict(X_test_scaled)\n",
    "\n",
    "print(\"\\nSVR Performance:\")\n",
    "print(f'R2 Score: {r2_score(y_test, svr_pred):.4f}')\n",
    "print(f'RMSE: {np.sqrt(mean_squared_error(y_test, svr_pred)):.4f}')"
   ],
   "id": "5180b4f9ee6dc11e",
   "outputs": [],
   "execution_count": null
  },
  {
   "metadata": {},
   "cell_type": "markdown",
   "source": "#### Gradient Boosting Regressor",
   "id": "2742af9f2cd6b84f"
  },
  {
   "metadata": {},
   "cell_type": "code",
   "source": [
    "# Gradient Boosting Regressor\n",
    "gb_model = GradientBoostingRegressor(random_state=42)\n",
    "gb_model.fit(X_train_scaled, y_train)\n",
    "gb_pred = gb_model.predict(X_test_scaled)\n",
    "\n",
    "print(\"\\nGradient Boosting Performance:\")\n",
    "print(f'R2 Score: {r2_score(y_test, gb_pred):.4f}')\n",
    "print(f'RMSE: {np.sqrt(mean_squared_error(y_test, gb_pred)):.4f}')"
   ],
   "id": "39f1d626d9538d6a",
   "outputs": [],
   "execution_count": null
  },
  {
   "metadata": {},
   "cell_type": "markdown",
   "source": "#### Model Comparison Plot",
   "id": "20cf7697d39c0c3e"
  },
  {
   "metadata": {},
   "cell_type": "code",
   "source": [
    "# Model Comparison Plot\n",
    "models = ['Linear Regression', 'Random Forest', 'XGBoost', 'SVR', 'Gradient Boosting']\n",
    "r2_scores = [\n",
    "    r2_score(y_test, lin_reg_pred),\n",
    "    r2_score(y_test, rf_pred),\n",
    "    r2_score(y_test, xgb_pred),\n",
    "    r2_score(y_test, svr_pred),\n",
    "    r2_score(y_test, gb_pred)\n",
    "]\n",
    "\n",
    "plt.figure(figsize=(12, 6))\n",
    "plt.bar(models, r2_scores, color=['blue', 'green', 'red', 'purple', 'orange'])\n",
    "plt.xlabel('Model')\n",
    "plt.ylabel('R² Score')\n",
    "plt.title('Model Comparison')\n",
    "plt.xticks(rotation=45)\n",
    "plt.tight_layout()\n",
    "plt.show()\n"
   ],
   "id": "567f3ad08ddae0cd",
   "outputs": [],
   "execution_count": null
  },
  {
   "metadata": {},
   "cell_type": "markdown",
   "source": "#### Feature Importance Plot (using Random Forest)",
   "id": "b78e10824eb53ac6"
  },
  {
   "metadata": {},
   "cell_type": "code",
   "source": [
    "# Feature Importance Plot (using Random Forest)\n",
    "feature_importance = pd.DataFrame({\n",
    "    'feature': features,\n",
    "    'importance': rf_model.feature_importances_\n",
    "})\n",
    "feature_importance = feature_importance.sort_values('importance', ascending=False)\n",
    "\n",
    "plt.figure(figsize=(10, 6))\n",
    "sns.barplot(x='importance', y='feature', data=feature_importance)\n",
    "plt.title('Feature Importance')\n",
    "plt.xlabel('Importance')\n",
    "plt.tight_layout()\n",
    "plt.show()\n"
   ],
   "id": "d2f5125b35d3276",
   "outputs": [],
   "execution_count": null
  },
  {
   "metadata": {},
   "cell_type": "markdown",
   "source": "#### Feature Importance Plot (using Linear Regression)",
   "id": "1803095e5ece724"
  },
  {
   "metadata": {},
   "cell_type": "code",
   "source": [
    "# Feature Importance Plot (using Linear Regression)\n",
    "feature_importance = pd.DataFrame({\n",
    "    'feature': features,\n",
    "    'importance': lin_reg.feature_importances_\n",
    "})\n",
    "feature_importance = feature_importance.sort_values('importance', ascending=False)\n",
    "\n",
    "plt.figure(figsize=(10, 6))\n",
    "sns.barplot(x='importance', y='feature', data=feature_importance)\n",
    "plt.title('Feature Importance')\n",
    "plt.xlabel('Importance')\n",
    "plt.tight_layout()\n",
    "plt.show()"
   ],
   "id": "d0dc7a75cd6db3b5",
   "outputs": [],
   "execution_count": null
  },
  {
   "metadata": {},
   "cell_type": "markdown",
   "source": "#### Feature Importance Plot (XGBoost)",
   "id": "ebb213f73af9b563"
  },
  {
   "metadata": {},
   "cell_type": "code",
   "source": [
    "# Feature Importance Plot (XGBoost)\n",
    "feature_importance = pd.DataFrame({\n",
    "    'feature': features,\n",
    "    'importance': xgb_model.feature_importances_\n",
    "})\n",
    "feature_importance = feature_importance.sort_values('importance', ascending=False)\n",
    "\n",
    "plt.figure(figsize=(10, 6))\n",
    "sns.barplot(x='importance', y='feature', data=feature_importance)\n",
    "plt.title('Feature Importance')\n",
    "plt.xlabel('Importance')\n",
    "plt.tight_layout()\n",
    "plt.show()"
   ],
   "id": "32766d15b6ce7d66",
   "outputs": [],
   "execution_count": null
  },
  {
   "metadata": {},
   "cell_type": "markdown",
   "source": "#### Feature Importance Plot (Support Vector Regression)",
   "id": "ad7063ceb3257be3"
  },
  {
   "metadata": {},
   "cell_type": "code",
   "source": [
    "# Feature Importance Plot (Support Vector Regression)\n",
    "feature_importance = pd.DataFrame({\n",
    "    'feature': features,\n",
    "    'importance': svr_model.feature_importances_\n",
    "})\n",
    "feature_importance = feature_importance.sort_values('importance', ascending=False)\n",
    "\n",
    "plt.figure(figsize=(10, 6))\n",
    "sns.barplot(x='importance', y='feature', data=feature_importance)\n",
    "plt.title('Feature Importance')\n",
    "plt.xlabel('Importance')\n",
    "plt.tight_layout()\n",
    "plt.show()\n"
   ],
   "id": "691518c0cc16d080",
   "outputs": [],
   "execution_count": null
  },
  {
   "metadata": {},
   "cell_type": "markdown",
   "source": "#### Comparison of all models",
   "id": "bda32a03d775f24e"
  },
  {
   "metadata": {},
   "cell_type": "code",
   "source": [
    "# Print a formatted comparison of all models\n",
    "models_comparison = {\n",
    "    'Linear Regression': (lin_reg_pred, 'Simple, interpretable but may underfit'),\n",
    "    'Random Forest': (rf_pred, 'Good with non-linear relationships, handles outliers well'),\n",
    "    'XGBoost': (xgb_pred, 'Usually high performance, may need tuning'),\n",
    "    'SVR': (svr_pred, 'Good for non-linear data, slower on large datasets'),\n",
    "    'Gradient Boosting': (gb_pred, 'Often best performance, may overfit')\n",
    "}\n",
    "\n",
    "print(\"\\nModel Comparison Summary:\")\n",
    "print(\"-\" * 60)\n",
    "print(f\"{'Model':<20} {'R² Score':<12} {'RMSE':<12} {'Best For'}\")\n",
    "print(\"-\" * 60)\n",
    "\n",
    "best_r2 = 0\n",
    "best_rmse = float('inf')\n",
    "best_model = None\n",
    "\n",
    "for name, (predictions, description) in models_comparison.items():\n",
    "    r2 = r2_score(y_test, predictions)\n",
    "    rmse = np.sqrt(mean_squared_error(y_test, predictions))\n",
    "    \n",
    "    print(f\"{name:<20} {r2:>10.4f}  {rmse:>10.2f}  {description}\")\n",
    "    \n",
    "    # Track best performing model\n",
    "    if r2 > best_r2:\n",
    "        best_r2 = r2\n",
    "        best_rmse = rmse\n",
    "        best_model = name\n",
    "\n",
    "print(\"-\" * 60)\n",
    "print(f\"\\nBest Performing Model: {best_model}\")\n",
    "print(f\"Best R² Score: {best_r2:.4f}\")\n",
    "print(f\"Best RMSE: {best_rmse:.2f}\")"
   ],
   "id": "2efba3d019d46038",
   "outputs": [],
   "execution_count": null
  },
  {
   "metadata": {},
   "cell_type": "markdown",
   "source": "#### Save the best model",
   "id": "1f83b64f520e14eb"
  },
  {
   "metadata": {},
   "cell_type": "code",
   "source": [
    "# # Save the best model (assuming Random Forest performs best)\n",
    "# with open('engagement_model.pkl', 'wb') as f:\n",
    "#     pickle.dump(rf_model, f)\n",
    "# with open('engagement_scaler.pkl', 'wb') as f:\n",
    "#     pickle.dump(scaler, f)"
   ],
   "id": "ee654a85cf24bb58",
   "outputs": [],
   "execution_count": null
  }
 ],
 "metadata": {
  "kernelspec": {
   "display_name": "Python 3",
   "language": "python",
   "name": "python3"
  },
  "language_info": {
   "codemirror_mode": {
    "name": "ipython",
    "version": 2
   },
   "file_extension": ".py",
   "mimetype": "text/x-python",
   "name": "python",
   "nbconvert_exporter": "python",
   "pygments_lexer": "ipython2",
   "version": "2.7.6"
  }
 },
 "nbformat": 4,
 "nbformat_minor": 5
}
