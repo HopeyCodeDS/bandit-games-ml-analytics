{
 "cells": [
  {
   "metadata": {
    "collapsed": true,
    "ExecuteTime": {
     "end_time": "2024-12-15T12:05:38.312437Z",
     "start_time": "2024-12-15T12:05:38.292864Z"
    }
   },
   "cell_type": "code",
   "source": [
    "import pandas as pd\n",
    "import numpy as np\n",
    "from IPython.display import display\n",
    "from sklearn.model_selection import train_test_split, GridSearchCV, cross_val_score\n",
    "from sklearn.preprocessing import StandardScaler\n",
    "from sklearn.linear_model import LinearRegression, Ridge, Lasso\n",
    "from sklearn.ensemble import RandomForestRegressor, GradientBoostingRegressor\n",
    "from sklearn.svm import SVR\n",
    "from sklearn.metrics import mean_squared_error, r2_score\n",
    "import xgboost as xgb\n",
    "import matplotlib.pyplot as plt\n",
    "import seaborn as sns\n",
    "from datetime import datetime\n",
    "import pickle\n",
    "import warnings"
   ],
   "id": "initial_id",
   "outputs": [],
   "execution_count": 4
  },
  {
   "metadata": {
    "ExecuteTime": {
     "end_time": "2024-12-15T12:05:43.745061Z",
     "start_time": "2024-12-15T12:05:43.721985Z"
    }
   },
   "cell_type": "code",
   "source": [
    "# Load dataset\n",
    "df = pd.read_csv('../../data/player_game_statistics.csv')\n",
    "display(df.columns)"
   ],
   "id": "768cd1bc5287961e",
   "outputs": [
    {
     "data": {
      "text/plain": [
       "Index(['stat_id', 'player_id', 'player_name', 'age', 'gender', 'country',\n",
       "       'game_id', 'game_name', 'total_games_played', 'total_wins',\n",
       "       'total_losses', 'total_moves', 'total_time_played_minutes', 'win_ratio',\n",
       "       'rating', 'last_played'],\n",
       "      dtype='object')"
      ]
     },
     "metadata": {},
     "output_type": "display_data"
    }
   ],
   "execution_count": 5
  },
  {
   "metadata": {
    "ExecuteTime": {
     "end_time": "2024-12-15T11:10:28.998921Z",
     "start_time": "2024-12-15T11:10:28.986166Z"
    }
   },
   "cell_type": "code",
   "source": [
    "# Inspect the target column (game engagement duration)\n",
    "print(df.head())"
   ],
   "id": "6d64fe422b9e39d9",
   "outputs": [
    {
     "name": "stdout",
     "output_type": "stream",
     "text": [
      "                                stat_id                             player_id  \\\n",
      "0  3407ea25-ba61-11ef-9d4e-00155d326b4e  d16771fa-ba60-11ef-9d4e-00155d326b4e   \n",
      "1  3409a88e-ba61-11ef-9d4e-00155d326b4e  d133c41a-ba60-11ef-9d4e-00155d326b4e   \n",
      "2  3409bca3-ba61-11ef-9d4e-00155d326b4e  d15034ff-ba60-11ef-9d4e-00155d326b4e   \n",
      "3  340a17ca-ba61-11ef-9d4e-00155d326b4e  d15ee3cd-ba60-11ef-9d4e-00155d326b4e   \n",
      "4  340a5066-ba61-11ef-9d4e-00155d326b4e  d1224a65-ba60-11ef-9d4e-00155d326b4e   \n",
      "\n",
      "       player_name  age      gender country  \\\n",
      "0   David Gonzales   34      Female  Canada   \n",
      "1     Joseph Davis   18      Female   Japan   \n",
      "2  Isabella Martin   51  Non-Binary   Spain   \n",
      "3   Michael Thomas   33  Non-Binary      UK   \n",
      "4    Evelyn Thomas   18  Non-Binary  Brazil   \n",
      "\n",
      "                                game_id   game_name  total_games_played  \\\n",
      "0  d0ac190e-ba60-11ef-9d4e-00155d326b4e  battleship                 170   \n",
      "1  d0ac190e-ba60-11ef-9d4e-00155d326b4e  battleship                 148   \n",
      "2  d0ac190e-ba60-11ef-9d4e-00155d326b4e  battleship                 210   \n",
      "3  d0ac190e-ba60-11ef-9d4e-00155d326b4e  battleship                 119   \n",
      "4  d0ac190e-ba60-11ef-9d4e-00155d326b4e  battleship                 147   \n",
      "\n",
      "   total_wins  total_losses  total_moves  total_time_played_minutes  \\\n",
      "0          92            78         4914                       5990   \n",
      "1          76            72         4220                       5094   \n",
      "2         105           105         6053                       7171   \n",
      "3          61            58         3471                       4285   \n",
      "4          79            68         4230                       4969   \n",
      "\n",
      "   win_ratio  rating          last_played  \n",
      "0      54.12       3  2024-12-08 14:35:00  \n",
      "1      51.35       3  2024-12-05 08:24:00  \n",
      "2      50.00       3  2024-12-10 11:00:00  \n",
      "3      51.26       3  2024-12-10 00:23:00  \n",
      "4      53.74       3  2024-12-09 09:26:00  \n"
     ]
    }
   ],
   "execution_count": 3
  },
  {
   "metadata": {
    "ExecuteTime": {
     "end_time": "2024-12-15T11:10:29.045684Z",
     "start_time": "2024-12-15T11:10:29.026056Z"
    }
   },
   "cell_type": "code",
   "source": [
    "# Engineer features\n",
    "df['avg_session_duration'] = df['total_time_played_minutes'] / df['total_games_played']\n",
    "df['win_rate'] = df['total_wins'] / df['total_games_played']\n",
    "df['avg_moves_per_game'] = df['total_moves'] / df['total_games_played']\n",
    "\n",
    "# Define target variable (predicted engagement time in minutes)\n",
    "df['future_engagement'] = df['total_time_played_minutes'] * (1 + df['win_rate']) * (df['total_games_played'] / df['age'])\n",
    "\n",
    "# Select features for model\n",
    "features = ['avg_session_duration', 'win_rate', 'avg_moves_per_game',\n",
    "           'total_games_played', 'age', 'total_time_played_minutes']\n"
   ],
   "id": "fd61d0acf8028338",
   "outputs": [],
   "execution_count": 4
  },
  {
   "metadata": {
    "ExecuteTime": {
     "end_time": "2024-12-15T11:10:29.109058Z",
     "start_time": "2024-12-15T11:10:29.090997Z"
    }
   },
   "cell_type": "code",
   "source": [
    "# Prepare features and target\n",
    "X = df[features]\n",
    "y = df['future_engagement']"
   ],
   "id": "fee4590858f51605",
   "outputs": [],
   "execution_count": 5
  },
  {
   "metadata": {
    "ExecuteTime": {
     "end_time": "2024-12-15T11:10:29.155553Z",
     "start_time": "2024-12-15T11:10:29.142491Z"
    }
   },
   "cell_type": "code",
   "source": [
    "# Split data\n",
    "X_train, X_test, y_train, y_test = train_test_split(X, y, test_size=0.2, random_state=42)"
   ],
   "id": "a5fa77249248563c",
   "outputs": [],
   "execution_count": 6
  },
  {
   "metadata": {
    "ExecuteTime": {
     "end_time": "2024-12-15T11:10:29.218797Z",
     "start_time": "2024-12-15T11:10:29.197084Z"
    }
   },
   "cell_type": "code",
   "source": [
    "# Scale features\n",
    "scaler = StandardScaler()\n",
    "X_train_scaled = scaler.fit_transform(X_train)\n",
    "X_test_scaled = scaler.transform(X_test)\n"
   ],
   "id": "74b7d1a2ec7062e4",
   "outputs": [],
   "execution_count": 7
  },
  {
   "metadata": {
    "ExecuteTime": {
     "end_time": "2024-12-15T11:10:29.264805Z",
     "start_time": "2024-12-15T11:10:29.251716Z"
    }
   },
   "cell_type": "code",
   "source": [
    "# Initialize models\n",
    "models = {\n",
    "    'Linear': LinearRegression(),\n",
    "    'Ridge': Ridge(),\n",
    "    'Lasso': Lasso(),\n",
    "    'RandomForest': RandomForestRegressor(random_state=42),\n",
    "    'XGBoost': xgb.XGBRegressor(objective='reg:squarederror', random_state=42),\n",
    "    'SVR': SVR(),\n",
    "    'GradientBoosting': GradientBoostingRegressor(random_state=42)\n",
    "}"
   ],
   "id": "797f5d68f72a048e",
   "outputs": [],
   "execution_count": 8
  },
  {
   "metadata": {
    "ExecuteTime": {
     "end_time": "2024-12-15T11:10:29.312166Z",
     "start_time": "2024-12-15T11:10:29.299058Z"
    }
   },
   "cell_type": "code",
   "source": [
    "# Define hyperparameter grids\n",
    "param_grids = {\n",
    "    'Linear': {},\n",
    "    'Ridge': {'alpha': [0.1, 1.0, 10.0]},\n",
    "    'Lasso': {'alpha': [0.1, 1.0, 10.0]},\n",
    "    'RandomForest': {\n",
    "        'n_estimators': [100, 200],\n",
    "        'max_depth': [None, 10, 20],\n",
    "        'min_samples_split': [2, 5]\n",
    "    },\n",
    "    'XGBoost': {\n",
    "        'n_estimators': [100, 200],\n",
    "        'max_depth': [3, 5, 7],\n",
    "        'learning_rate': [0.01, 0.1]\n",
    "    },\n",
    "    'SVR': {\n",
    "        'C': [0.1, 1, 10],\n",
    "        'kernel': ['linear', 'rbf']\n",
    "    },\n",
    "    'GradientBoosting': {\n",
    "        'n_estimators': [100, 200],\n",
    "        'max_depth': [3, 5],\n",
    "        'learning_rate': [0.01, 0.1]\n",
    "    }\n",
    "}"
   ],
   "id": "60b7c24bc997e528",
   "outputs": [],
   "execution_count": 9
  },
  {
   "metadata": {
    "ExecuteTime": {
     "end_time": "2024-12-15T11:10:41.998716Z",
     "start_time": "2024-12-15T11:10:29.345897Z"
    }
   },
   "cell_type": "code",
   "source": [
    "# Train and evaluate models with GridSearchCV\n",
    "results = {}\n",
    "best_models = {}\n",
    "\n",
    "print(\"Performing Hyperparameter Tuning...\")\n",
    "for name, model in models.items():\n",
    "    print(f\"\\nTraining {name}...\")\n",
    "    \n",
    "    # Create and fit GridSearchCV\n",
    "    grid_search = GridSearchCV(\n",
    "        model, \n",
    "        param_grids[name],\n",
    "        cv=5,\n",
    "        scoring='r2',\n",
    "        n_jobs=-1\n",
    "    )\n",
    "    \n",
    "    # Use scaled features for all models\n",
    "    grid_search.fit(X_train_scaled, y_train)\n",
    "    \n",
    "    # Store best model\n",
    "    best_models[name] = grid_search.best_estimator_\n",
    "    \n",
    "    # Make predictions\n",
    "    y_pred = grid_search.predict(X_test_scaled)\n",
    "    \n",
    "    # Calculate metrics\n",
    "    r2 = r2_score(y_test, y_pred)\n",
    "    rmse = np.sqrt(mean_squared_error(y_test, y_pred))\n",
    "    \n",
    "    # Store results\n",
    "    results[name] = {\n",
    "        'R2 Score': r2,\n",
    "        'RMSE': rmse,\n",
    "        'Best Parameters': grid_search.best_params_\n",
    "    }"
   ],
   "id": "fef2e15f9333ede6",
   "outputs": [
    {
     "name": "stdout",
     "output_type": "stream",
     "text": [
      "Performing Hyperparameter Tuning...\n",
      "\n",
      "Training Linear...\n",
      "\n",
      "Training Ridge...\n",
      "\n",
      "Training Lasso...\n",
      "\n",
      "Training RandomForest...\n",
      "\n",
      "Training XGBoost...\n",
      "\n",
      "Training SVR...\n",
      "\n",
      "Training GradientBoosting...\n"
     ]
    }
   ],
   "execution_count": 10
  },
  {
   "metadata": {
    "ExecuteTime": {
     "end_time": "2024-12-15T11:10:42.045523Z",
     "start_time": "2024-12-15T11:10:42.031822Z"
    }
   },
   "cell_type": "code",
   "source": [
    "# Print results\n",
    "print(\"\\nModel Performance Summary:\")\n",
    "print(\"-\" * 60)\n",
    "print(f\"{'Model':<20} {'R² Score':<12} {'RMSE':<12} {'Best Parameters'}\")\n",
    "print(\"-\" * 60)\n",
    "\n",
    "best_r2 = 0\n",
    "best_model = None\n",
    "\n",
    "for name, metrics in results.items():\n",
    "    print(f\"{name:<20} {metrics['R2 Score']:>10.4f}  {metrics['RMSE']:>10.2f}  {metrics['Best Parameters']}\")\n",
    "    \n",
    "    if metrics['R2 Score'] > best_r2:\n",
    "        best_r2 = metrics['R2 Score']\n",
    "        best_model = name\n",
    "\n",
    "print(\"-\" * 60)\n",
    "print(f\"\\nBest Performing Model: {best_model}\")\n",
    "print(f\"Best R² Score: {best_r2:.4f}\")\n",
    "print(f\"Best RMSE: {results[best_model]['RMSE']:.2f}\")"
   ],
   "id": "7a5a1db91aab0c83",
   "outputs": [
    {
     "name": "stdout",
     "output_type": "stream",
     "text": [
      "\n",
      "Model Performance Summary:\n",
      "------------------------------------------------------------\n",
      "Model                R² Score     RMSE         Best Parameters\n",
      "------------------------------------------------------------\n",
      "Linear                   0.8268     7326.85  {}\n",
      "Ridge                    0.8257     7349.94  {'alpha': 10.0}\n",
      "Lasso                    0.8267     7327.49  {'alpha': 10.0}\n",
      "RandomForest             0.9769     2673.73  {'max_depth': None, 'min_samples_split': 2, 'n_estimators': 200}\n",
      "XGBoost                  0.9769     2677.16  {'learning_rate': 0.1, 'max_depth': 3, 'n_estimators': 200}\n",
      "SVR                      0.3984    13653.77  {'C': 10, 'kernel': 'linear'}\n",
      "GradientBoosting         0.9761     2721.20  {'learning_rate': 0.1, 'max_depth': 3, 'n_estimators': 200}\n",
      "------------------------------------------------------------\n",
      "\n",
      "Best Performing Model: RandomForest\n",
      "Best R² Score: 0.9769\n",
      "Best RMSE: 2673.73\n"
     ]
    }
   ],
   "execution_count": 11
  },
  {
   "metadata": {
    "ExecuteTime": {
     "end_time": "2024-12-15T11:10:42.388558Z",
     "start_time": "2024-12-15T11:10:42.079059Z"
    }
   },
   "cell_type": "code",
   "source": [
    "# Plot model comparison\n",
    "plt.figure(figsize=(12, 6))\n",
    "r2_scores = [metrics['R2 Score'] for metrics in results.values()]\n",
    "model_names = list(results.keys())\n",
    "\n",
    "plt.bar(model_names, r2_scores, color=['blue', 'green', 'red', 'purple', 'orange', 'cyan', 'magenta'])\n",
    "plt.xlabel('Model')\n",
    "plt.ylabel('R² Score')\n",
    "plt.title('Model Comparison')\n",
    "plt.xticks(rotation=45)\n",
    "plt.tight_layout()\n",
    "plt.show()"
   ],
   "id": "e6da2cfa39f4ba86",
   "outputs": [
    {
     "data": {
      "text/plain": [
       "<Figure size 1200x600 with 1 Axes>"
      ],
      "image/png": "[encoded data removed]"
     },
     "metadata": {},
     "output_type": "display_data"
    }
   ],
   "execution_count": 12
  },
  {
   "metadata": {
    "ExecuteTime": {
     "end_time": "2024-12-15T11:10:42.637278Z",
     "start_time": "2024-12-15T11:10:42.421013Z"
    }
   },
   "cell_type": "code",
   "source": [
    "# Feature Importance Plot (using Random Forest)\n",
    "if 'RandomForest' in best_models:\n",
    "    feature_importance = pd.DataFrame({\n",
    "        'feature': features,\n",
    "        'importance': best_models['RandomForest'].feature_importances_\n",
    "    })\n",
    "    feature_importance = feature_importance.sort_values('importance', ascending=False)\n",
    "\n",
    "    plt.figure(figsize=(10, 6))\n",
    "    sns.barplot(x='importance', y='feature', data=feature_importance)\n",
    "    plt.title('Feature Importance (Random Forest)')\n",
    "    plt.xlabel('Importance')\n",
    "    plt.tight_layout()\n",
    "    plt.show()"
   ],
   "id": "d22e4fa749143cc6",
   "outputs": [
    {
     "data": {
      "text/plain": [
       "<Figure size 1000x600 with 1 Axes>"
      ],
      "image/png": "[encoded data removed]"
     },
     "metadata": {},
     "output_type": "display_data"
    }
   ],
   "execution_count": 13
  },
  {
   "metadata": {
    "ExecuteTime": {
     "end_time": "2024-12-15T11:10:42.715144Z",
     "start_time": "2024-12-15T11:10:42.671592Z"
    }
   },
   "cell_type": "code",
   "source": [
    "# # Save best model and scaler\n",
    "best_model_name = max(results.items(), key=lambda x: x[1]['R2 Score'])[0]\n",
    "with open('engagement_model.pkl', 'wb') as f:\n",
    "    pickle.dump(best_models[best_model_name], f)\n",
    "with open('engagement_scaler.pkl', 'wb') as f:\n",
    "    pickle.dump(scaler, f)"
   ],
   "id": "dd186b4de865a642",
   "outputs": [],
   "execution_count": 14
  },
  {
   "metadata": {
    "ExecuteTime": {
     "end_time": "2024-12-15T11:10:45.854522Z",
     "start_time": "2024-12-15T11:10:42.762422Z"
    }
   },
   "cell_type": "code",
   "source": [
    "# Print cross-validation scores for best model\n",
    "cv_scores = cross_val_score(\n",
    "    best_models[best_model_name], \n",
    "    X_train_scaled, \n",
    "    y_train, \n",
    "    cv=5, \n",
    "    scoring='r2'\n",
    ")\n",
    "\n",
    "print(f\"\\nCross-Validation Scores for {best_model_name}:\")\n",
    "print(f\"Mean R² Score: {cv_scores.mean():.4f} (+/- {cv_scores.std() * 2:.4f})\")"
   ],
   "id": "fc0c72256826d77",
   "outputs": [
    {
     "name": "stdout",
     "output_type": "stream",
     "text": [
      "\n",
      "Cross-Validation Scores for RandomForest:\n",
      "Mean R² Score: 0.9871 (+/- 0.0092)\n"
     ]
    }
   ],
   "execution_count": 15
  },
  {
   "metadata": {
    "ExecuteTime": {
     "end_time": "2024-12-15T11:14:57.101356Z",
     "start_time": "2024-12-15T11:14:57.081432Z"
    }
   },
   "cell_type": "code",
   "source": "print(best_model)",
   "id": "ff4ae9f9938a7e0",
   "outputs": [
    {
     "name": "stdout",
     "output_type": "stream",
     "text": [
      "RandomForest\n"
     ]
    }
   ],
   "execution_count": 16
  }
 ],
 "metadata": {
  "kernelspec": {
   "display_name": "Python 3",
   "language": "python",
   "name": "python3"
  },
  "language_info": {
   "codemirror_mode": {
    "name": "ipython",
    "version": 2
   },
   "file_extension": ".py",
   "mimetype": "text/x-python",
   "name": "python",
   "nbconvert_exporter": "python",
   "pygments_lexer": "ipython2",
   "version": "2.7.6"
  }
 },
 "nbformat": 4,
 "nbformat_minor": 5
}
