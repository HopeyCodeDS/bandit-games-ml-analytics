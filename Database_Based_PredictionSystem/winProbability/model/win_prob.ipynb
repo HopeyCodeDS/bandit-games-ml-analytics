{
 "cells": [
  {
   "cell_type": "code",
   "id": "initial_id",
   "metadata": {
    "collapsed": true,
    "ExecuteTime": {
     "end_time": "2024-12-15T15:56:22.731173Z",
     "start_time": "2024-12-15T15:56:22.719672Z"
    }
   },
   "source": [
    "import pandas as pd\n",
    "import numpy as np\n",
    "from IPython.display import display\n",
    "from sklearn.model_selection import train_test_split\n",
    "from sklearn.preprocessing import StandardScaler, LabelEncoder\n",
    "from sklearn.ensemble import GradientBoostingClassifier\n",
    "from sklearn.metrics import classification_report\n",
    "import pickle\n",
    "from sqlalchemy import create_engine\n",
    "import os\n",
    "from dotenv import load_dotenv\n"
   ],
   "outputs": [],
   "execution_count": 33
  },
  {
   "metadata": {
    "ExecuteTime": {
     "end_time": "2024-12-15T15:56:22.762999Z",
     "start_time": "2024-12-15T15:56:22.746197Z"
    }
   },
   "cell_type": "code",
   "source": [
    "# Load environment variables\n",
    "load_dotenv()\n",
    "\n",
    "# Database connection configuration\n",
    "# DB_USER = os.getenv('DB_USER')\n",
    "# DB_PASSWORD = os.getenv('DB_PASSWORD')\n",
    "# DB_HOST = os.getenv('DB_HOST', 'localhost')\n",
    "# DB_PORT = os.getenv('DB_PORT', '3306')\n",
    "# DB_NAME = 'game_analytics'\n",
    "\n",
    "DB_USER='root'\n",
    "DB_PASSWORD='root'\n",
    "DB_HOST='localhost'\n",
    "DB_PORT=3306\n",
    "DB_NAME='game_analytics'\n"
   ],
   "id": "e69c0d5b40a93925",
   "outputs": [],
   "execution_count": 34
  },
  {
   "metadata": {
    "ExecuteTime": {
     "end_time": "2024-12-15T15:56:22.855353Z",
     "start_time": "2024-12-15T15:56:22.795786Z"
    }
   },
   "cell_type": "code",
   "source": [
    "# Step 1: Create database connection and fetch data\n",
    "print(\"Step 1: Connecting to database and fetching data...\")\n",
    "try:\n",
    "    # Create SQLAlchemy engine\n",
    "    database_url = f\"mysql+pymysql://{DB_USER}:{DB_PASSWORD}@{DB_HOST}:{DB_PORT}/{DB_NAME}\"\n",
    "    engine = create_engine(database_url)\n",
    "    \n",
    "    # Fetch data using SQL query\n",
    "    query = \"\"\"\n",
    "    SELECT \n",
    "        BIN_TO_UUID(pgs.player_id) as player_id,\n",
    "        pgs.game_name,\n",
    "        pgs.total_time_played_minutes,\n",
    "        pgs.total_games_played,\n",
    "        pgs.total_wins,\n",
    "        pgs.total_moves,\n",
    "        pgs.age  -- Assuming there's a players table with age\n",
    "    FROM \n",
    "        player_game_stats pgs\n",
    "        JOIN players p ON pgs.player_id = p.player_id\n",
    "    WHERE \n",
    "        pgs.total_games_played > 0  -- Filter out players with no games\n",
    "        AND pgs.total_time_played_minutes > 0;\n",
    "    \"\"\"\n",
    "    \n",
    "    df = pd.read_sql(query, engine)\n",
    "    print(f\"Fetched {len(df)} records from database\")\n",
    "    \n",
    "except Exception as e:\n",
    "    print(f\"Error connecting to database: {str(e)}\")\n",
    "    raise"
   ],
   "id": "940b9718607636b9",
   "outputs": [
    {
     "name": "stdout",
     "output_type": "stream",
     "text": [
      "Step 1: Connecting to database and fetching data...\n",
      "Fetched 1000 records from database\n"
     ]
    }
   ],
   "execution_count": 35
  },
  {
   "metadata": {
    "ExecuteTime": {
     "end_time": "2024-12-15T15:56:22.902177Z",
     "start_time": "2024-12-15T15:56:22.889192Z"
    }
   },
   "cell_type": "code",
   "source": [
    "# Step 2: Basic feature engineering\n",
    "print(\"Step 2: Creating basic features...\")\n",
    "df['avg_session_duration'] = df['total_time_played_minutes'] / df['total_games_played']\n",
    "df['historical_win_rate'] = df['total_wins'] / df['total_games_played']\n",
    "df['avg_moves_per_game'] = df['total_moves'] / df['total_games_played']"
   ],
   "id": "d2e2b2f32a608341",
   "outputs": [
    {
     "name": "stdout",
     "output_type": "stream",
     "text": [
      "Step 2: Creating basic features...\n"
     ]
    }
   ],
   "execution_count": 36
  },
  {
   "metadata": {
    "ExecuteTime": {
     "end_time": "2024-12-15T15:56:22.963922Z",
     "start_time": "2024-12-15T15:56:22.951248Z"
    }
   },
   "cell_type": "code",
   "source": [
    "# Step 3: Encode game names into numbers\n",
    "print(\"Step 3: Encoding game names...\")\n",
    "game_encoder = LabelEncoder()\n",
    "df['game_encoded'] = game_encoder.fit_transform(df['game_name'])"
   ],
   "id": "866c373b2842e6df",
   "outputs": [
    {
     "name": "stdout",
     "output_type": "stream",
     "text": [
      "Step 3: Encoding game names...\n"
     ]
    }
   ],
   "execution_count": 37
  },
  {
   "metadata": {
    "ExecuteTime": {
     "end_time": "2024-12-15T15:56:23.072989Z",
     "start_time": "2024-12-15T15:56:23.043305Z"
    }
   },
   "cell_type": "code",
   "source": [
    "# Step 4: Calculate win rate per game type\n",
    "print(\"Step 4: Calculating game-specific win rates...\")\n",
    "game_win_rates = df.groupby('game_name')['historical_win_rate'].mean().reset_index()\n",
    "game_win_rates.columns = ['game_name', 'game_avg_win_rate']\n",
    "df = df.merge(game_win_rates, on='game_name')\n",
    "display(df.head(500))"
   ],
   "id": "410f3ee496cb1076",
   "outputs": [
    {
     "name": "stdout",
     "output_type": "stream",
     "text": [
      "Step 4: Calculating game-specific win rates...\n"
     ]
    },
    {
     "data": {
      "text/plain": [
       "                                player_id     game_name  \\\n",
       "0    d16771fa-ba60-11ef-9d4e-00155d326b4e    battleship   \n",
       "1    d133c41a-ba60-11ef-9d4e-00155d326b4e    battleship   \n",
       "2    d15034ff-ba60-11ef-9d4e-00155d326b4e    battleship   \n",
       "3    d15ee3cd-ba60-11ef-9d4e-00155d326b4e    battleship   \n",
       "4    d1224a65-ba60-11ef-9d4e-00155d326b4e    battleship   \n",
       "..                                    ...           ...   \n",
       "495  d163fffc-ba60-11ef-9d4e-00155d326b4e  connect four   \n",
       "496  d0f948f1-ba60-11ef-9d4e-00155d326b4e  connect four   \n",
       "497  d1633018-ba60-11ef-9d4e-00155d326b4e  connect four   \n",
       "498  d0d1a7d7-ba60-11ef-9d4e-00155d326b4e  connect four   \n",
       "499  d123e2b2-ba60-11ef-9d4e-00155d326b4e  connect four   \n",
       "\n",
       "     total_time_played_minutes  total_games_played  total_wins  total_moves  \\\n",
       "0                         5990                 170          92         4914   \n",
       "1                         5094                 148          76         4220   \n",
       "2                         7171                 210         105         6053   \n",
       "3                         4285                 119          61         3471   \n",
       "4                         4969                 147          79         4230   \n",
       "..                         ...                 ...         ...          ...   \n",
       "495                       1273                  36          17          951   \n",
       "496                        380                  12           6          469   \n",
       "497                       1066                  35          15          915   \n",
       "498                        462                  15           8          431   \n",
       "499                        360                  10           5          310   \n",
       "\n",
       "     age  avg_session_duration  historical_win_rate  avg_moves_per_game  \\\n",
       "0     34             35.235294             0.541176           28.905882   \n",
       "1     18             34.418919             0.513514           28.513514   \n",
       "2     51             34.147619             0.500000           28.823810   \n",
       "3     33             36.008403             0.512605           29.168067   \n",
       "4     18             33.802721             0.537415           28.775510   \n",
       "..   ...                   ...                  ...                 ...   \n",
       "495   45             35.361111             0.472222           26.416667   \n",
       "496   47             31.666667             0.500000           39.083333   \n",
       "497   42             30.457143             0.428571           26.142857   \n",
       "498   35             30.800000             0.533333           28.733333   \n",
       "499   32             36.000000             0.500000           31.000000   \n",
       "\n",
       "     game_encoded  game_avg_win_rate  \n",
       "0               0           0.500907  \n",
       "1               0           0.500907  \n",
       "2               0           0.500907  \n",
       "3               0           0.500907  \n",
       "4               0           0.500907  \n",
       "..            ...                ...  \n",
       "495             2           0.464285  \n",
       "496             2           0.464285  \n",
       "497             2           0.464285  \n",
       "498             2           0.464285  \n",
       "499             2           0.464285  \n",
       "\n",
       "[500 rows x 12 columns]"
      ],
      "text/html": [
       "<div>\n",
       "<style scoped>\n",
       "    .dataframe tbody tr th:only-of-type {\n",
       "        vertical-align: middle;\n",
       "    }\n",
       "\n",
       "    .dataframe tbody tr th {\n",
       "        vertical-align: top;\n",
       "    }\n",
       "\n",
       "    .dataframe thead th {\n",
       "        text-align: right;\n",
       "    }\n",
       "</style>\n",
       "<table border=\"1\" class=\"dataframe\">\n",
       "  <thead>\n",
       "    <tr style=\"text-align: right;\">\n",
       "      <th></th>\n",
       "      <th>player_id</th>\n",
       "      <th>game_name</th>\n",
       "      <th>total_time_played_minutes</th>\n",
       "      <th>total_games_played</th>\n",
       "      <th>total_wins</th>\n",
       "      <th>total_moves</th>\n",
       "      <th>age</th>\n",
       "      <th>avg_session_duration</th>\n",
       "      <th>historical_win_rate</th>\n",
       "      <th>avg_moves_per_game</th>\n",
       "      <th>game_encoded</th>\n",
       "      <th>game_avg_win_rate</th>\n",
       "    </tr>\n",
       "  </thead>\n",
       "  <tbody>\n",
       "    <tr>\n",
       "      <th>0</th>\n",
       "      <td>d16771fa-ba60-11ef-9d4e-00155d326b4e</td>\n",
       "      <td>battleship</td>\n",
       "      <td>5990</td>\n",
       "      <td>170</td>\n",
       "      <td>92</td>\n",
       "      <td>4914</td>\n",
       "      <td>34</td>\n",
       "      <td>35.235294</td>\n",
       "      <td>0.541176</td>\n",
       "      <td>28.905882</td>\n",
       "      <td>0</td>\n",
       "      <td>0.500907</td>\n",
       "    </tr>\n",
       "    <tr>\n",
       "      <th>1</th>\n",
       "      <td>d133c41a-ba60-11ef-9d4e-00155d326b4e</td>\n",
       "      <td>battleship</td>\n",
       "      <td>5094</td>\n",
       "      <td>148</td>\n",
       "      <td>76</td>\n",
       "      <td>4220</td>\n",
       "      <td>18</td>\n",
       "      <td>34.418919</td>\n",
       "      <td>0.513514</td>\n",
       "      <td>28.513514</td>\n",
       "      <td>0</td>\n",
       "      <td>0.500907</td>\n",
       "    </tr>\n",
       "    <tr>\n",
       "      <th>2</th>\n",
       "      <td>d15034ff-ba60-11ef-9d4e-00155d326b4e</td>\n",
       "      <td>battleship</td>\n",
       "      <td>7171</td>\n",
       "      <td>210</td>\n",
       "      <td>105</td>\n",
       "      <td>6053</td>\n",
       "      <td>51</td>\n",
       "      <td>34.147619</td>\n",
       "      <td>0.500000</td>\n",
       "      <td>28.823810</td>\n",
       "      <td>0</td>\n",
       "      <td>0.500907</td>\n",
       "    </tr>\n",
       "    <tr>\n",
       "      <th>3</th>\n",
       "      <td>d15ee3cd-ba60-11ef-9d4e-00155d326b4e</td>\n",
       "      <td>battleship</td>\n",
       "      <td>4285</td>\n",
       "      <td>119</td>\n",
       "      <td>61</td>\n",
       "      <td>3471</td>\n",
       "      <td>33</td>\n",
       "      <td>36.008403</td>\n",
       "      <td>0.512605</td>\n",
       "      <td>29.168067</td>\n",
       "      <td>0</td>\n",
       "      <td>0.500907</td>\n",
       "    </tr>\n",
       "    <tr>\n",
       "      <th>4</th>\n",
       "      <td>d1224a65-ba60-11ef-9d4e-00155d326b4e</td>\n",
       "      <td>battleship</td>\n",
       "      <td>4969</td>\n",
       "      <td>147</td>\n",
       "      <td>79</td>\n",
       "      <td>4230</td>\n",
       "      <td>18</td>\n",
       "      <td>33.802721</td>\n",
       "      <td>0.537415</td>\n",
       "      <td>28.775510</td>\n",
       "      <td>0</td>\n",
       "      <td>0.500907</td>\n",
       "    </tr>\n",
       "    <tr>\n",
       "      <th>...</th>\n",
       "      <td>...</td>\n",
       "      <td>...</td>\n",
       "      <td>...</td>\n",
       "      <td>...</td>\n",
       "      <td>...</td>\n",
       "      <td>...</td>\n",
       "      <td>...</td>\n",
       "      <td>...</td>\n",
       "      <td>...</td>\n",
       "      <td>...</td>\n",
       "      <td>...</td>\n",
       "      <td>...</td>\n",
       "    </tr>\n",
       "    <tr>\n",
       "      <th>495</th>\n",
       "      <td>d163fffc-ba60-11ef-9d4e-00155d326b4e</td>\n",
       "      <td>connect four</td>\n",
       "      <td>1273</td>\n",
       "      <td>36</td>\n",
       "      <td>17</td>\n",
       "      <td>951</td>\n",
       "      <td>45</td>\n",
       "      <td>35.361111</td>\n",
       "      <td>0.472222</td>\n",
       "      <td>26.416667</td>\n",
       "      <td>2</td>\n",
       "      <td>0.464285</td>\n",
       "    </tr>\n",
       "    <tr>\n",
       "      <th>496</th>\n",
       "      <td>d0f948f1-ba60-11ef-9d4e-00155d326b4e</td>\n",
       "      <td>connect four</td>\n",
       "      <td>380</td>\n",
       "      <td>12</td>\n",
       "      <td>6</td>\n",
       "      <td>469</td>\n",
       "      <td>47</td>\n",
       "      <td>31.666667</td>\n",
       "      <td>0.500000</td>\n",
       "      <td>39.083333</td>\n",
       "      <td>2</td>\n",
       "      <td>0.464285</td>\n",
       "    </tr>\n",
       "    <tr>\n",
       "      <th>497</th>\n",
       "      <td>d1633018-ba60-11ef-9d4e-00155d326b4e</td>\n",
       "      <td>connect four</td>\n",
       "      <td>1066</td>\n",
       "      <td>35</td>\n",
       "      <td>15</td>\n",
       "      <td>915</td>\n",
       "      <td>42</td>\n",
       "      <td>30.457143</td>\n",
       "      <td>0.428571</td>\n",
       "      <td>26.142857</td>\n",
       "      <td>2</td>\n",
       "      <td>0.464285</td>\n",
       "    </tr>\n",
       "    <tr>\n",
       "      <th>498</th>\n",
       "      <td>d0d1a7d7-ba60-11ef-9d4e-00155d326b4e</td>\n",
       "      <td>connect four</td>\n",
       "      <td>462</td>\n",
       "      <td>15</td>\n",
       "      <td>8</td>\n",
       "      <td>431</td>\n",
       "      <td>35</td>\n",
       "      <td>30.800000</td>\n",
       "      <td>0.533333</td>\n",
       "      <td>28.733333</td>\n",
       "      <td>2</td>\n",
       "      <td>0.464285</td>\n",
       "    </tr>\n",
       "    <tr>\n",
       "      <th>499</th>\n",
       "      <td>d123e2b2-ba60-11ef-9d4e-00155d326b4e</td>\n",
       "      <td>connect four</td>\n",
       "      <td>360</td>\n",
       "      <td>10</td>\n",
       "      <td>5</td>\n",
       "      <td>310</td>\n",
       "      <td>32</td>\n",
       "      <td>36.000000</td>\n",
       "      <td>0.500000</td>\n",
       "      <td>31.000000</td>\n",
       "      <td>2</td>\n",
       "      <td>0.464285</td>\n",
       "    </tr>\n",
       "  </tbody>\n",
       "</table>\n",
       "<p>500 rows × 12 columns</p>\n",
       "</div>"
      ]
     },
     "metadata": {},
     "output_type": "display_data"
    }
   ],
   "execution_count": 38
  },
  {
   "metadata": {
    "ExecuteTime": {
     "end_time": "2024-12-15T15:56:23.290506Z",
     "start_time": "2024-12-15T15:56:23.251997Z"
    }
   },
   "cell_type": "code",
   "source": [
    "# Print summary statistics\n",
    "print(\"\\nData Summary:\")\n",
    "display(f\"Number of unique players: {df['player_id'].nunique()}\")\n",
    "display(f\"Number of unique games: {df['game_name'].nunique()}\")\n",
    "display(\"\\nGames distribution:\")\n",
    "display(df['game_name'].value_counts())\n",
    "display(\"\\nFeature statistics:\")\n",
    "display(df[['avg_session_duration', 'historical_win_rate', 'avg_moves_per_game']].describe())"
   ],
   "id": "dcb5db87d2465424",
   "outputs": [
    {
     "name": "stdout",
     "output_type": "stream",
     "text": [
      "\n",
      "Data Summary:\n"
     ]
    },
    {
     "data": {
      "text/plain": [
       "'Number of unique players: 200'"
      ]
     },
     "metadata": {},
     "output_type": "display_data"
    },
    {
     "data": {
      "text/plain": [
       "'Number of unique games: 5'"
      ]
     },
     "metadata": {},
     "output_type": "display_data"
    },
    {
     "data": {
      "text/plain": [
       "'\\nGames distribution:'"
      ]
     },
     "metadata": {},
     "output_type": "display_data"
    },
    {
     "data": {
      "text/plain": [
       "game_name\n",
       "battleship        200\n",
       "chess             200\n",
       "connect four      200\n",
       "tic tac toe       200\n",
       "dots and boxes    200\n",
       "Name: count, dtype: int64"
      ]
     },
     "metadata": {},
     "output_type": "display_data"
    },
    {
     "data": {
      "text/plain": [
       "'\\nFeature statistics:'"
      ]
     },
     "metadata": {},
     "output_type": "display_data"
    },
    {
     "data": {
      "text/plain": [
       "       avg_session_duration  historical_win_rate  avg_moves_per_game\n",
       "count           1000.000000          1000.000000         1000.000000\n",
       "mean              34.485636             0.475488           29.503620\n",
       "std                3.239447             0.112603            2.588481\n",
       "min               17.571429             0.100000           20.083333\n",
       "25%               32.749188             0.408931           28.106061\n",
       "50%               34.419740             0.475223           29.550505\n",
       "75%               36.235229             0.539429           30.912990\n",
       "max               47.000000             1.000000           40.600000"
      ],
      "text/html": [
       "<div>\n",
       "<style scoped>\n",
       "    .dataframe tbody tr th:only-of-type {\n",
       "        vertical-align: middle;\n",
       "    }\n",
       "\n",
       "    .dataframe tbody tr th {\n",
       "        vertical-align: top;\n",
       "    }\n",
       "\n",
       "    .dataframe thead th {\n",
       "        text-align: right;\n",
       "    }\n",
       "</style>\n",
       "<table border=\"1\" class=\"dataframe\">\n",
       "  <thead>\n",
       "    <tr style=\"text-align: right;\">\n",
       "      <th></th>\n",
       "      <th>avg_session_duration</th>\n",
       "      <th>historical_win_rate</th>\n",
       "      <th>avg_moves_per_game</th>\n",
       "    </tr>\n",
       "  </thead>\n",
       "  <tbody>\n",
       "    <tr>\n",
       "      <th>count</th>\n",
       "      <td>1000.000000</td>\n",
       "      <td>1000.000000</td>\n",
       "      <td>1000.000000</td>\n",
       "    </tr>\n",
       "    <tr>\n",
       "      <th>mean</th>\n",
       "      <td>34.485636</td>\n",
       "      <td>0.475488</td>\n",
       "      <td>29.503620</td>\n",
       "    </tr>\n",
       "    <tr>\n",
       "      <th>std</th>\n",
       "      <td>3.239447</td>\n",
       "      <td>0.112603</td>\n",
       "      <td>2.588481</td>\n",
       "    </tr>\n",
       "    <tr>\n",
       "      <th>min</th>\n",
       "      <td>17.571429</td>\n",
       "      <td>0.100000</td>\n",
       "      <td>20.083333</td>\n",
       "    </tr>\n",
       "    <tr>\n",
       "      <th>25%</th>\n",
       "      <td>32.749188</td>\n",
       "      <td>0.408931</td>\n",
       "      <td>28.106061</td>\n",
       "    </tr>\n",
       "    <tr>\n",
       "      <th>50%</th>\n",
       "      <td>34.419740</td>\n",
       "      <td>0.475223</td>\n",
       "      <td>29.550505</td>\n",
       "    </tr>\n",
       "    <tr>\n",
       "      <th>75%</th>\n",
       "      <td>36.235229</td>\n",
       "      <td>0.539429</td>\n",
       "      <td>30.912990</td>\n",
       "    </tr>\n",
       "    <tr>\n",
       "      <th>max</th>\n",
       "      <td>47.000000</td>\n",
       "      <td>1.000000</td>\n",
       "      <td>40.600000</td>\n",
       "    </tr>\n",
       "  </tbody>\n",
       "</table>\n",
       "</div>"
      ]
     },
     "metadata": {},
     "output_type": "display_data"
    }
   ],
   "execution_count": 39
  },
  {
   "metadata": {
    "ExecuteTime": {
     "end_time": "2024-12-15T15:56:23.726279Z",
     "start_time": "2024-12-15T15:56:23.709207Z"
    }
   },
   "cell_type": "code",
   "source": [
    "# Step 5: Select features for model\n",
    "print(\"\\nStep 5: Preparing features for model...\")\n",
    "features = [\n",
    "    'avg_session_duration',\n",
    "    'historical_win_rate',\n",
    "    'avg_moves_per_game',\n",
    "    'game_encoded',\n",
    "    'game_avg_win_rate',\n",
    "    'age'\n",
    "]\n",
    "\n",
    "X = df[features]\n"
   ],
   "id": "b260e572db3cdd11",
   "outputs": [
    {
     "name": "stdout",
     "output_type": "stream",
     "text": [
      "\n",
      "Step 5: Preparing features for model...\n"
     ]
    }
   ],
   "execution_count": 40
  },
  {
   "metadata": {
    "ExecuteTime": {
     "end_time": "2024-12-15T15:56:23.945522Z",
     "start_time": "2024-12-15T15:56:23.940351Z"
    }
   },
   "cell_type": "code",
   "source": [
    "# Step 6: Create target variable (win or lose)\n",
    "print(\"Step 6: Creating target variable...\")\n",
    "df['next_game_win'] = (df['historical_win_rate'] > df['historical_win_rate'].mean()).astype(int)\n",
    "y = df['next_game_win']\n"
   ],
   "id": "6221e061bcf38b8",
   "outputs": [
    {
     "name": "stdout",
     "output_type": "stream",
     "text": [
      "Step 6: Creating target variable...\n"
     ]
    }
   ],
   "execution_count": 41
  },
  {
   "metadata": {
    "ExecuteTime": {
     "end_time": "2024-12-15T15:56:24.132210Z",
     "start_time": "2024-12-15T15:56:24.107500Z"
    }
   },
   "cell_type": "code",
   "source": [
    "# Step 7: Split data into train and test sets\n",
    "print(\"Step 7: Splitting data...\")\n",
    "unique_players = df['player_id'].unique()\n",
    "train_players, test_players = train_test_split(unique_players, test_size=0.2, random_state=42)\n",
    "\n",
    "train_mask = df['player_id'].isin(train_players)\n",
    "test_mask = df['player_id'].isin(test_players)\n",
    "\n",
    "X_train = X[train_mask]\n",
    "X_test = X[test_mask]\n",
    "y_train = y[train_mask]\n",
    "y_test = y[test_mask]\n"
   ],
   "id": "db36f557a3b8e58b",
   "outputs": [
    {
     "name": "stdout",
     "output_type": "stream",
     "text": [
      "Step 7: Splitting data...\n"
     ]
    }
   ],
   "execution_count": 42
  },
  {
   "metadata": {
    "ExecuteTime": {
     "end_time": "2024-12-15T15:56:24.224551Z",
     "start_time": "2024-12-15T15:56:24.200414Z"
    }
   },
   "cell_type": "code",
   "source": [
    "# Step 8: Scale the features\n",
    "print(\"Step 8: Scaling features...\")\n",
    "scaler = StandardScaler()\n",
    "X_train_scaled = scaler.fit_transform(X_train)\n",
    "X_test_scaled = scaler.transform(X_test)"
   ],
   "id": "b206610b31b5c8e1",
   "outputs": [
    {
     "name": "stdout",
     "output_type": "stream",
     "text": [
      "Step 8: Scaling features...\n"
     ]
    }
   ],
   "execution_count": 43
  },
  {
   "metadata": {
    "ExecuteTime": {
     "end_time": "2024-12-15T15:56:24.427575Z",
     "start_time": "2024-12-15T15:56:24.287040Z"
    }
   },
   "cell_type": "code",
   "source": [
    "# Step 9: Train the model\n",
    "print(\"Step 9: Training model...\")\n",
    "model = GradientBoostingClassifier(n_estimators=100, random_state=42)\n",
    "model.fit(X_train_scaled, y_train)"
   ],
   "id": "1eed9827c7aa769d",
   "outputs": [
    {
     "name": "stdout",
     "output_type": "stream",
     "text": [
      "Step 9: Training model...\n"
     ]
    },
    {
     "data": {
      "text/plain": [
       "GradientBoostingClassifier(random_state=42)"
      ],
      "text/html": [
       "<style>#sk-container-id-3 {\n",
       "  /* Definition of color scheme common for light and dark mode */\n",
       "  --sklearn-color-text: black;\n",
       "  --sklearn-color-line: gray;\n",
       "  /* Definition of color scheme for unfitted estimators */\n",
       "  --sklearn-color-unfitted-level-0: #fff5e6;\n",
       "  --sklearn-color-unfitted-level-1: #f6e4d2;\n",
       "  --sklearn-color-unfitted-level-2: #ffe0b3;\n",
       "  --sklearn-color-unfitted-level-3: chocolate;\n",
       "  /* Definition of color scheme for fitted estimators */\n",
       "  --sklearn-color-fitted-level-0: #f0f8ff;\n",
       "  --sklearn-color-fitted-level-1: #d4ebff;\n",
       "  --sklearn-color-fitted-level-2: #b3dbfd;\n",
       "  --sklearn-color-fitted-level-3: cornflowerblue;\n",
       "\n",
       "  /* Specific color for light theme */\n",
       "  --sklearn-color-text-on-default-background: var(--sg-text-color, var(--theme-code-foreground, var(--jp-content-font-color1, black)));\n",
       "  --sklearn-color-background: var(--sg-background-color, var(--theme-background, var(--jp-layout-color0, white)));\n",
       "  --sklearn-color-border-box: var(--sg-text-color, var(--theme-code-foreground, var(--jp-content-font-color1, black)));\n",
       "  --sklearn-color-icon: #696969;\n",
       "\n",
       "  @media (prefers-color-scheme: dark) {\n",
       "    /* Redefinition of color scheme for dark theme */\n",
       "    --sklearn-color-text-on-default-background: var(--sg-text-color, var(--theme-code-foreground, var(--jp-content-font-color1, white)));\n",
       "    --sklearn-color-background: var(--sg-background-color, var(--theme-background, var(--jp-layout-color0, #111)));\n",
       "    --sklearn-color-border-box: var(--sg-text-color, var(--theme-code-foreground, var(--jp-content-font-color1, white)));\n",
       "    --sklearn-color-icon: #878787;\n",
       "  }\n",
       "}\n",
       "\n",
       "#sk-container-id-3 {\n",
       "  color: var(--sklearn-color-text);\n",
       "}\n",
       "\n",
       "#sk-container-id-3 pre {\n",
       "  padding: 0;\n",
       "}\n",
       "\n",
       "#sk-container-id-3 input.sk-hidden--visually {\n",
       "  border: 0;\n",
       "  clip: rect(1px 1px 1px 1px);\n",
       "  clip: rect(1px, 1px, 1px, 1px);\n",
       "  height: 1px;\n",
       "  margin: -1px;\n",
       "  overflow: hidden;\n",
       "  padding: 0;\n",
       "  position: absolute;\n",
       "  width: 1px;\n",
       "}\n",
       "\n",
       "#sk-container-id-3 div.sk-dashed-wrapped {\n",
       "  border: 1px dashed var(--sklearn-color-line);\n",
       "  margin: 0 0.4em 0.5em 0.4em;\n",
       "  box-sizing: border-box;\n",
       "  padding-bottom: 0.4em;\n",
       "  background-color: var(--sklearn-color-background);\n",
       "}\n",
       "\n",
       "#sk-container-id-3 div.sk-container {\n",
       "  /* jupyter's `normalize.less` sets `[hidden] { display: none; }`\n",
       "     but bootstrap.min.css set `[hidden] { display: none !important; }`\n",
       "     so we also need the `!important` here to be able to override the\n",
       "     default hidden behavior on the sphinx rendered scikit-learn.org.\n",
       "     See: https://github.com/scikit-learn/scikit-learn/issues/21755 */\n",
       "  display: inline-block !important;\n",
       "  position: relative;\n",
       "}\n",
       "\n",
       "#sk-container-id-3 div.sk-text-repr-fallback {\n",
       "  display: none;\n",
       "}\n",
       "\n",
       "div.sk-parallel-item,\n",
       "div.sk-serial,\n",
       "div.sk-item {\n",
       "  /* draw centered vertical line to link estimators */\n",
       "  background-image: linear-gradient(var(--sklearn-color-text-on-default-background), var(--sklearn-color-text-on-default-background));\n",
       "  background-size: 2px 100%;\n",
       "  background-repeat: no-repeat;\n",
       "  background-position: center center;\n",
       "}\n",
       "\n",
       "/* Parallel-specific style estimator block */\n",
       "\n",
       "#sk-container-id-3 div.sk-parallel-item::after {\n",
       "  content: \"\";\n",
       "  width: 100%;\n",
       "  border-bottom: 2px solid var(--sklearn-color-text-on-default-background);\n",
       "  flex-grow: 1;\n",
       "}\n",
       "\n",
       "#sk-container-id-3 div.sk-parallel {\n",
       "  display: flex;\n",
       "  align-items: stretch;\n",
       "  justify-content: center;\n",
       "  background-color: var(--sklearn-color-background);\n",
       "  position: relative;\n",
       "}\n",
       "\n",
       "#sk-container-id-3 div.sk-parallel-item {\n",
       "  display: flex;\n",
       "  flex-direction: column;\n",
       "}\n",
       "\n",
       "#sk-container-id-3 div.sk-parallel-item:first-child::after {\n",
       "  align-self: flex-end;\n",
       "  width: 50%;\n",
       "}\n",
       "\n",
       "#sk-container-id-3 div.sk-parallel-item:last-child::after {\n",
       "  align-self: flex-start;\n",
       "  width: 50%;\n",
       "}\n",
       "\n",
       "#sk-container-id-3 div.sk-parallel-item:only-child::after {\n",
       "  width: 0;\n",
       "}\n",
       "\n",
       "/* Serial-specific style estimator block */\n",
       "\n",
       "#sk-container-id-3 div.sk-serial {\n",
       "  display: flex;\n",
       "  flex-direction: column;\n",
       "  align-items: center;\n",
       "  background-color: var(--sklearn-color-background);\n",
       "  padding-right: 1em;\n",
       "  padding-left: 1em;\n",
       "}\n",
       "\n",
       "\n",
       "/* Toggleable style: style used for estimator/Pipeline/ColumnTransformer box that is\n",
       "clickable and can be expanded/collapsed.\n",
       "- Pipeline and ColumnTransformer use this feature and define the default style\n",
       "- Estimators will overwrite some part of the style using the `sk-estimator` class\n",
       "*/\n",
       "\n",
       "/* Pipeline and ColumnTransformer style (default) */\n",
       "\n",
       "#sk-container-id-3 div.sk-toggleable {\n",
       "  /* Default theme specific background. It is overwritten whether we have a\n",
       "  specific estimator or a Pipeline/ColumnTransformer */\n",
       "  background-color: var(--sklearn-color-background);\n",
       "}\n",
       "\n",
       "/* Toggleable label */\n",
       "#sk-container-id-3 label.sk-toggleable__label {\n",
       "  cursor: pointer;\n",
       "  display: block;\n",
       "  width: 100%;\n",
       "  margin-bottom: 0;\n",
       "  padding: 0.5em;\n",
       "  box-sizing: border-box;\n",
       "  text-align: center;\n",
       "}\n",
       "\n",
       "#sk-container-id-3 label.sk-toggleable__label-arrow:before {\n",
       "  /* Arrow on the left of the label */\n",
       "  content: \"▸\";\n",
       "  float: left;\n",
       "  margin-right: 0.25em;\n",
       "  color: var(--sklearn-color-icon);\n",
       "}\n",
       "\n",
       "#sk-container-id-3 label.sk-toggleable__label-arrow:hover:before {\n",
       "  color: var(--sklearn-color-text);\n",
       "}\n",
       "\n",
       "/* Toggleable content - dropdown */\n",
       "\n",
       "#sk-container-id-3 div.sk-toggleable__content {\n",
       "  max-height: 0;\n",
       "  max-width: 0;\n",
       "  overflow: hidden;\n",
       "  text-align: left;\n",
       "  /* unfitted */\n",
       "  background-color: var(--sklearn-color-unfitted-level-0);\n",
       "}\n",
       "\n",
       "#sk-container-id-3 div.sk-toggleable__content.fitted {\n",
       "  /* fitted */\n",
       "  background-color: var(--sklearn-color-fitted-level-0);\n",
       "}\n",
       "\n",
       "#sk-container-id-3 div.sk-toggleable__content pre {\n",
       "  margin: 0.2em;\n",
       "  border-radius: 0.25em;\n",
       "  color: var(--sklearn-color-text);\n",
       "  /* unfitted */\n",
       "  background-color: var(--sklearn-color-unfitted-level-0);\n",
       "}\n",
       "\n",
       "#sk-container-id-3 div.sk-toggleable__content.fitted pre {\n",
       "  /* unfitted */\n",
       "  background-color: var(--sklearn-color-fitted-level-0);\n",
       "}\n",
       "\n",
       "#sk-container-id-3 input.sk-toggleable__control:checked~div.sk-toggleable__content {\n",
       "  /* Expand drop-down */\n",
       "  max-height: 200px;\n",
       "  max-width: 100%;\n",
       "  overflow: auto;\n",
       "}\n",
       "\n",
       "#sk-container-id-3 input.sk-toggleable__control:checked~label.sk-toggleable__label-arrow:before {\n",
       "  content: \"▾\";\n",
       "}\n",
       "\n",
       "/* Pipeline/ColumnTransformer-specific style */\n",
       "\n",
       "#sk-container-id-3 div.sk-label input.sk-toggleable__control:checked~label.sk-toggleable__label {\n",
       "  color: var(--sklearn-color-text);\n",
       "  background-color: var(--sklearn-color-unfitted-level-2);\n",
       "}\n",
       "\n",
       "#sk-container-id-3 div.sk-label.fitted input.sk-toggleable__control:checked~label.sk-toggleable__label {\n",
       "  background-color: var(--sklearn-color-fitted-level-2);\n",
       "}\n",
       "\n",
       "/* Estimator-specific style */\n",
       "\n",
       "/* Colorize estimator box */\n",
       "#sk-container-id-3 div.sk-estimator input.sk-toggleable__control:checked~label.sk-toggleable__label {\n",
       "  /* unfitted */\n",
       "  background-color: var(--sklearn-color-unfitted-level-2);\n",
       "}\n",
       "\n",
       "#sk-container-id-3 div.sk-estimator.fitted input.sk-toggleable__control:checked~label.sk-toggleable__label {\n",
       "  /* fitted */\n",
       "  background-color: var(--sklearn-color-fitted-level-2);\n",
       "}\n",
       "\n",
       "#sk-container-id-3 div.sk-label label.sk-toggleable__label,\n",
       "#sk-container-id-3 div.sk-label label {\n",
       "  /* The background is the default theme color */\n",
       "  color: var(--sklearn-color-text-on-default-background);\n",
       "}\n",
       "\n",
       "/* On hover, darken the color of the background */\n",
       "#sk-container-id-3 div.sk-label:hover label.sk-toggleable__label {\n",
       "  color: var(--sklearn-color-text);\n",
       "  background-color: var(--sklearn-color-unfitted-level-2);\n",
       "}\n",
       "\n",
       "/* Label box, darken color on hover, fitted */\n",
       "#sk-container-id-3 div.sk-label.fitted:hover label.sk-toggleable__label.fitted {\n",
       "  color: var(--sklearn-color-text);\n",
       "  background-color: var(--sklearn-color-fitted-level-2);\n",
       "}\n",
       "\n",
       "/* Estimator label */\n",
       "\n",
       "#sk-container-id-3 div.sk-label label {\n",
       "  font-family: monospace;\n",
       "  font-weight: bold;\n",
       "  display: inline-block;\n",
       "  line-height: 1.2em;\n",
       "}\n",
       "\n",
       "#sk-container-id-3 div.sk-label-container {\n",
       "  text-align: center;\n",
       "}\n",
       "\n",
       "/* Estimator-specific */\n",
       "#sk-container-id-3 div.sk-estimator {\n",
       "  font-family: monospace;\n",
       "  border: 1px dotted var(--sklearn-color-border-box);\n",
       "  border-radius: 0.25em;\n",
       "  box-sizing: border-box;\n",
       "  margin-bottom: 0.5em;\n",
       "  /* unfitted */\n",
       "  background-color: var(--sklearn-color-unfitted-level-0);\n",
       "}\n",
       "\n",
       "#sk-container-id-3 div.sk-estimator.fitted {\n",
       "  /* fitted */\n",
       "  background-color: var(--sklearn-color-fitted-level-0);\n",
       "}\n",
       "\n",
       "/* on hover */\n",
       "#sk-container-id-3 div.sk-estimator:hover {\n",
       "  /* unfitted */\n",
       "  background-color: var(--sklearn-color-unfitted-level-2);\n",
       "}\n",
       "\n",
       "#sk-container-id-3 div.sk-estimator.fitted:hover {\n",
       "  /* fitted */\n",
       "  background-color: var(--sklearn-color-fitted-level-2);\n",
       "}\n",
       "\n",
       "/* Specification for estimator info (e.g. \"i\" and \"?\") */\n",
       "\n",
       "/* Common style for \"i\" and \"?\" */\n",
       "\n",
       ".sk-estimator-doc-link,\n",
       "a:link.sk-estimator-doc-link,\n",
       "a:visited.sk-estimator-doc-link {\n",
       "  float: right;\n",
       "  font-size: smaller;\n",
       "  line-height: 1em;\n",
       "  font-family: monospace;\n",
       "  background-color: var(--sklearn-color-background);\n",
       "  border-radius: 1em;\n",
       "  height: 1em;\n",
       "  width: 1em;\n",
       "  text-decoration: none !important;\n",
       "  margin-left: 1ex;\n",
       "  /* unfitted */\n",
       "  border: var(--sklearn-color-unfitted-level-1) 1pt solid;\n",
       "  color: var(--sklearn-color-unfitted-level-1);\n",
       "}\n",
       "\n",
       ".sk-estimator-doc-link.fitted,\n",
       "a:link.sk-estimator-doc-link.fitted,\n",
       "a:visited.sk-estimator-doc-link.fitted {\n",
       "  /* fitted */\n",
       "  border: var(--sklearn-color-fitted-level-1) 1pt solid;\n",
       "  color: var(--sklearn-color-fitted-level-1);\n",
       "}\n",
       "\n",
       "/* On hover */\n",
       "div.sk-estimator:hover .sk-estimator-doc-link:hover,\n",
       ".sk-estimator-doc-link:hover,\n",
       "div.sk-label-container:hover .sk-estimator-doc-link:hover,\n",
       ".sk-estimator-doc-link:hover {\n",
       "  /* unfitted */\n",
       "  background-color: var(--sklearn-color-unfitted-level-3);\n",
       "  color: var(--sklearn-color-background);\n",
       "  text-decoration: none;\n",
       "}\n",
       "\n",
       "div.sk-estimator.fitted:hover .sk-estimator-doc-link.fitted:hover,\n",
       ".sk-estimator-doc-link.fitted:hover,\n",
       "div.sk-label-container:hover .sk-estimator-doc-link.fitted:hover,\n",
       ".sk-estimator-doc-link.fitted:hover {\n",
       "  /* fitted */\n",
       "  background-color: var(--sklearn-color-fitted-level-3);\n",
       "  color: var(--sklearn-color-background);\n",
       "  text-decoration: none;\n",
       "}\n",
       "\n",
       "/* Span, style for the box shown on hovering the info icon */\n",
       ".sk-estimator-doc-link span {\n",
       "  display: none;\n",
       "  z-index: 9999;\n",
       "  position: relative;\n",
       "  font-weight: normal;\n",
       "  right: .2ex;\n",
       "  padding: .5ex;\n",
       "  margin: .5ex;\n",
       "  width: min-content;\n",
       "  min-width: 20ex;\n",
       "  max-width: 50ex;\n",
       "  color: var(--sklearn-color-text);\n",
       "  box-shadow: 2pt 2pt 4pt #999;\n",
       "  /* unfitted */\n",
       "  background: var(--sklearn-color-unfitted-level-0);\n",
       "  border: .5pt solid var(--sklearn-color-unfitted-level-3);\n",
       "}\n",
       "\n",
       ".sk-estimator-doc-link.fitted span {\n",
       "  /* fitted */\n",
       "  background: var(--sklearn-color-fitted-level-0);\n",
       "  border: var(--sklearn-color-fitted-level-3);\n",
       "}\n",
       "\n",
       ".sk-estimator-doc-link:hover span {\n",
       "  display: block;\n",
       "}\n",
       "\n",
       "/* \"?\"-specific style due to the `<a>` HTML tag */\n",
       "\n",
       "#sk-container-id-3 a.estimator_doc_link {\n",
       "  float: right;\n",
       "  font-size: 1rem;\n",
       "  line-height: 1em;\n",
       "  font-family: monospace;\n",
       "  background-color: var(--sklearn-color-background);\n",
       "  border-radius: 1rem;\n",
       "  height: 1rem;\n",
       "  width: 1rem;\n",
       "  text-decoration: none;\n",
       "  /* unfitted */\n",
       "  color: var(--sklearn-color-unfitted-level-1);\n",
       "  border: var(--sklearn-color-unfitted-level-1) 1pt solid;\n",
       "}\n",
       "\n",
       "#sk-container-id-3 a.estimator_doc_link.fitted {\n",
       "  /* fitted */\n",
       "  border: var(--sklearn-color-fitted-level-1) 1pt solid;\n",
       "  color: var(--sklearn-color-fitted-level-1);\n",
       "}\n",
       "\n",
       "/* On hover */\n",
       "#sk-container-id-3 a.estimator_doc_link:hover {\n",
       "  /* unfitted */\n",
       "  background-color: var(--sklearn-color-unfitted-level-3);\n",
       "  color: var(--sklearn-color-background);\n",
       "  text-decoration: none;\n",
       "}\n",
       "\n",
       "#sk-container-id-3 a.estimator_doc_link.fitted:hover {\n",
       "  /* fitted */\n",
       "  background-color: var(--sklearn-color-fitted-level-3);\n",
       "}\n",
       "</style><div id=\"sk-container-id-3\" class=\"sk-top-container\"><div class=\"sk-text-repr-fallback\"><pre>GradientBoostingClassifier(random_state=42)</pre><b>In a Jupyter environment, please rerun this cell to show the HTML representation or trust the notebook. <br />On GitHub, the HTML representation is unable to render, please try loading this page with nbviewer.org.</b></div><div class=\"sk-container\" hidden><div class=\"sk-item\"><div class=\"sk-estimator fitted sk-toggleable\"><input class=\"sk-toggleable__control sk-hidden--visually\" id=\"sk-estimator-id-3\" type=\"checkbox\" checked><label for=\"sk-estimator-id-3\" class=\"sk-toggleable__label fitted sk-toggleable__label-arrow fitted\">&nbsp;&nbsp;GradientBoostingClassifier<a class=\"sk-estimator-doc-link fitted\" rel=\"noreferrer\" target=\"_blank\" href=\"https://scikit-learn.org/1.5/modules/generated/sklearn.ensemble.GradientBoostingClassifier.html\">?<span>Documentation for GradientBoostingClassifier</span></a><span class=\"sk-estimator-doc-link fitted\">i<span>Fitted</span></span></label><div class=\"sk-toggleable__content fitted\"><pre>GradientBoostingClassifier(random_state=42)</pre></div> </div></div></div></div>"
      ]
     },
     "execution_count": 44,
     "metadata": {},
     "output_type": "execute_result"
    }
   ],
   "execution_count": 44
  },
  {
   "metadata": {
    "ExecuteTime": {
     "end_time": "2024-12-15T15:56:24.474088Z",
     "start_time": "2024-12-15T15:56:24.462127Z"
    }
   },
   "cell_type": "code",
   "source": [
    "# Step 10: Evaluate the model\n",
    "print(\"Step 10: Evaluating model...\")\n",
    "y_pred = model.predict(X_test_scaled)\n",
    "print(\"\\nModel Performance:\")\n",
    "print(classification_report(y_test, y_pred))"
   ],
   "id": "2815ba08a1ffa223",
   "outputs": [
    {
     "name": "stdout",
     "output_type": "stream",
     "text": [
      "Step 10: Evaluating model...\n",
      "\n",
      "Model Performance:\n",
      "              precision    recall  f1-score   support\n",
      "\n",
      "           0       1.00      1.00      1.00        95\n",
      "           1       1.00      1.00      1.00       105\n",
      "\n",
      "    accuracy                           1.00       200\n",
      "   macro avg       1.00      1.00      1.00       200\n",
      "weighted avg       1.00      1.00      1.00       200\n",
      "\n"
     ]
    }
   ],
   "execution_count": 45
  },
  {
   "metadata": {
    "ExecuteTime": {
     "end_time": "2024-12-15T15:56:24.520033Z",
     "start_time": "2024-12-15T15:56:24.507193Z"
    }
   },
   "cell_type": "code",
   "source": [
    "# Step 11: Show feature importance\n",
    "print(\"\\nFeature Importance:\")\n",
    "importance_df = pd.DataFrame({\n",
    "    'feature': features,\n",
    "    'importance': model.feature_importances_\n",
    "}).sort_values('importance', ascending=False)\n",
    "print(importance_df)"
   ],
   "id": "6cbaf9c8b066be8d",
   "outputs": [
    {
     "name": "stdout",
     "output_type": "stream",
     "text": [
      "\n",
      "Feature Importance:\n",
      "                feature    importance\n",
      "1   historical_win_rate  1.000000e+00\n",
      "2    avg_moves_per_game  5.731532e-15\n",
      "0  avg_session_duration  2.000844e-15\n",
      "5                   age  6.351569e-16\n",
      "4     game_avg_win_rate  4.855031e-18\n",
      "3          game_encoded  0.000000e+00\n"
     ]
    }
   ],
   "execution_count": 46
  },
  {
   "metadata": {
    "ExecuteTime": {
     "end_time": "2024-12-15T15:56:24.582492Z",
     "start_time": "2024-12-15T15:56:24.568799Z"
    }
   },
   "cell_type": "code",
   "source": [
    "# # Step 12: Save the model and necessary components\n",
    "# print(\"\\nStep 12: Saving model and components...\")\n",
    "# model_dir = 'model'\n",
    "# os.makedirs(model_dir, exist_ok=True)\n",
    "# \n",
    "# with open(f'{model_dir}/win_probability_model.pkl', 'wb') as f:\n",
    "#     pickle.dump(model, f)\n",
    "# with open(f'{model_dir}/win_probability_scaler.pkl', 'wb') as f:\n",
    "#     pickle.dump(scaler, f)\n",
    "# with open(f'{model_dir}/game_encoder.pkl', 'wb') as f:\n",
    "#     pickle.dump(game_encoder, f)\n",
    "# \n",
    "# # Save feature importance for reference\n",
    "# importance_df.to_csv(f'{model_dir}/feature_importance.csv', index=False)\n",
    "\n",
    "print(\"\\nTraining complete! Model and components saved in 'models' directory.\")"
   ],
   "id": "b21b302a197b6bd",
   "outputs": [
    {
     "name": "stdout",
     "output_type": "stream",
     "text": [
      "\n",
      "Training complete! Model and components saved in 'models' directory.\n"
     ]
    }
   ],
   "execution_count": 47
  },
  {
   "metadata": {
    "ExecuteTime": {
     "end_time": "2024-12-15T15:56:24.690424Z",
     "start_time": "2024-12-15T15:56:24.677688Z"
    }
   },
   "cell_type": "code",
   "source": [
    "# Close database connection\n",
    "engine.dispose()"
   ],
   "id": "9ba456fb919f7322",
   "outputs": [],
   "execution_count": 48
  }
 ],
 "metadata": {
  "kernelspec": {
   "display_name": "Python 3",
   "language": "python",
   "name": "python3"
  },
  "language_info": {
   "codemirror_mode": {
    "name": "ipython",
    "version": 2
   },
   "file_extension": ".py",
   "mimetype": "text/x-python",
   "name": "python",
   "nbconvert_exporter": "python",
   "pygments_lexer": "ipython2",
   "version": "2.7.6"
  }
 },
 "nbformat": 4,
 "nbformat_minor": 5
}
