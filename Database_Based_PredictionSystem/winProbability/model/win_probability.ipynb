{
 "cells": [
  {
   "cell_type": "code",
   "id": "initial_id",
   "metadata": {
    "collapsed": true,
    "ExecuteTime": {
     "end_time": "2024-12-16T09:31:34.564211Z",
     "start_time": "2024-12-16T09:31:26.573657Z"
    }
   },
   "source": [
    "### Import Required Libraries\n",
    "import pandas as pd\n",
    "import numpy as np\n",
    "from sklearn.model_selection import train_test_split\n",
    "from sklearn.preprocessing import StandardScaler, LabelEncoder\n",
    "from sklearn.ensemble import GradientBoostingClassifier, RandomForestClassifier\n",
    "from sklearn.linear_model import LogisticRegression\n",
    "from sklearn.svm import SVC\n",
    "from sklearn.metrics import classification_report, roc_auc_score\n",
    "import pickle\n",
    "from fastapi import FastAPI, HTTPException\n",
    "from datetime import datetime"
   ],
   "outputs": [],
   "execution_count": 1
  },
  {
   "metadata": {
    "ExecuteTime": {
     "end_time": "2024-12-16T09:31:34.626320Z",
     "start_time": "2024-12-16T09:31:34.573945Z"
    }
   },
   "cell_type": "code",
   "source": [
    "# Load dataset\n",
    "df = pd.read_csv('../../data/player_game_statistics.csv')\n",
    "display(df.columns)"
   ],
   "id": "aabd378ef726b250",
   "outputs": [
    {
     "data": {
      "text/plain": [
       "Index(['stat_id', 'player_id', 'player_name', 'age', 'gender', 'country',\n",
       "       'game_id', 'game_name', 'total_games_played', 'total_wins',\n",
       "       'total_losses', 'total_moves', 'total_time_played_minutes', 'win_ratio',\n",
       "       'rating', 'last_played'],\n",
       "      dtype='object')"
      ]
     },
     "metadata": {},
     "output_type": "display_data"
    }
   ],
   "execution_count": 2
  },
  {
   "metadata": {
    "ExecuteTime": {
     "end_time": "2024-12-16T09:31:34.858332Z",
     "start_time": "2024-12-16T09:31:34.830404Z"
    }
   },
   "cell_type": "code",
   "source": [
    "# Encode game_name\n",
    "game_encoder = LabelEncoder()\n",
    "df['game_encoded'] = game_encoder.fit_transform(df['game_name'])"
   ],
   "id": "b6c6d1613aab2f62",
   "outputs": [],
   "execution_count": 3
  },
  {
   "metadata": {
    "ExecuteTime": {
     "end_time": "2024-12-16T09:31:34.920213Z",
     "start_time": "2024-12-16T09:31:34.893207Z"
    }
   },
   "cell_type": "code",
   "source": [
    "# Engineer features\n",
    "df['avg_session_duration'] = df['total_time_played_minutes'] / df['total_games_played']\n",
    "df['historical_win_rate'] = df['total_wins'] / df['total_games_played']\n",
    "df['avg_moves_per_game'] = df['total_moves'] / df['total_games_played']\n",
    "df['games_experience'] = np.log1p(df['total_games_played'])\n",
    "\n",
    "# Select features for model\n",
    "features = ['avg_session_duration', 'historical_win_rate', 'avg_moves_per_game',\n",
    "           'games_experience', 'age']\n",
    "X = df[features]\n",
    "\n",
    "# Create target variable (binary win/loss for next game)\n",
    "df['next_game_win'] = (df['historical_win_rate'] > df['historical_win_rate'].mean()).astype(int)\n",
    "y = df['next_game_win']"
   ],
   "id": "9d92c96bde652e10",
   "outputs": [],
   "execution_count": 4
  },
  {
   "metadata": {
    "ExecuteTime": {
     "end_time": "2024-12-16T09:31:34.997852Z",
     "start_time": "2024-12-16T09:31:34.970212Z"
    }
   },
   "cell_type": "code",
   "source": [
    "### Split Data\n",
    "X_train, X_test, y_train, y_test = train_test_split(X, y, test_size=0.2, random_state=42)"
   ],
   "id": "ee62427924db480f",
   "outputs": [],
   "execution_count": 5
  },
  {
   "metadata": {
    "ExecuteTime": {
     "end_time": "2024-12-16T09:31:35.076182Z",
     "start_time": "2024-12-16T09:31:35.048779Z"
    }
   },
   "cell_type": "code",
   "source": [
    "### Scale Features\n",
    "scaler = StandardScaler()\n",
    "X_train_scaled = scaler.fit_transform(X_train)\n",
    "X_test_scaled = scaler.transform(X_test)"
   ],
   "id": "9caf9806b6520d2c",
   "outputs": [],
   "execution_count": 6
  },
  {
   "metadata": {
    "ExecuteTime": {
     "end_time": "2024-12-16T09:31:35.755960Z",
     "start_time": "2024-12-16T09:31:35.141750Z"
    }
   },
   "cell_type": "code",
   "source": [
    "### Train and Evaluate Multiple Models\n",
    "models = {\n",
    "    \"Gradient Boosting\": GradientBoostingClassifier(n_estimators=100, random_state=42),\n",
    "    \"Random Forest\": RandomForestClassifier(n_estimators=100, random_state=42),\n",
    "    \"Logistic Regression\": LogisticRegression(random_state=42, max_iter=1000),\n",
    "    \"Support Vector Machine\": SVC(probability=True, random_state=42)\n",
    "}\n",
    "\n",
    "best_model = None\n",
    "best_auc = 0\n",
    "best_model_name = \"\"\n",
    "\n",
    "for model_name, model in models.items():\n",
    "    print(f\"Training {model_name}...\")\n",
    "    model.fit(X_train_scaled, y_train)\n",
    "    y_pred = model.predict(X_test_scaled)\n",
    "    y_prob = model.predict_proba(X_test_scaled)[:, 1]\n",
    "    auc = roc_auc_score(y_test, y_prob)\n",
    "\n",
    "    print(f\"{model_name} Performance:\")\n",
    "    print(classification_report(y_test, y_pred))\n",
    "    print(f\"ROC AUC Score: {auc}\\n\")\n",
    "\n",
    "    if auc > best_auc:\n",
    "        best_auc = auc\n",
    "        best_model = model\n",
    "        best_model_name = model_name\n",
    "\n",
    "print(f\"Best Model: {best_model_name} with AUC: {best_auc}\")\n"
   ],
   "id": "cba62f44f27bd61b",
   "outputs": [
    {
     "name": "stdout",
     "output_type": "stream",
     "text": [
      "Training Gradient Boosting...\n",
      "Gradient Boosting Performance:\n",
      "              precision    recall  f1-score   support\n",
      "\n",
      "           0       1.00      1.00      1.00       102\n",
      "           1       1.00      1.00      1.00        98\n",
      "\n",
      "    accuracy                           1.00       200\n",
      "   macro avg       1.00      1.00      1.00       200\n",
      "weighted avg       1.00      1.00      1.00       200\n",
      "\n",
      "ROC AUC Score: 1.0\n",
      "\n",
      "Training Random Forest...\n",
      "Random Forest Performance:\n",
      "              precision    recall  f1-score   support\n",
      "\n",
      "           0       1.00      1.00      1.00       102\n",
      "           1       1.00      1.00      1.00        98\n",
      "\n",
      "    accuracy                           1.00       200\n",
      "   macro avg       1.00      1.00      1.00       200\n",
      "weighted avg       1.00      1.00      1.00       200\n",
      "\n",
      "ROC AUC Score: 1.0\n",
      "\n",
      "Training Logistic Regression...\n",
      "Logistic Regression Performance:\n",
      "              precision    recall  f1-score   support\n",
      "\n",
      "           0       1.00      0.98      0.99       102\n",
      "           1       0.98      1.00      0.99        98\n",
      "\n",
      "    accuracy                           0.99       200\n",
      "   macro avg       0.99      0.99      0.99       200\n",
      "weighted avg       0.99      0.99      0.99       200\n",
      "\n",
      "ROC AUC Score: 0.999499799919968\n",
      "\n",
      "Training Support Vector Machine...\n",
      "Support Vector Machine Performance:\n",
      "              precision    recall  f1-score   support\n",
      "\n",
      "           0       0.98      0.93      0.95       102\n",
      "           1       0.93      0.98      0.96        98\n",
      "\n",
      "    accuracy                           0.95       200\n",
      "   macro avg       0.96      0.96      0.95       200\n",
      "weighted avg       0.96      0.95      0.95       200\n",
      "\n",
      "ROC AUC Score: 0.9928971588635455\n",
      "\n",
      "Best Model: Gradient Boosting with AUC: 1.0\n"
     ]
    }
   ],
   "execution_count": 7
  },
  {
   "metadata": {
    "ExecuteTime": {
     "end_time": "2024-12-16T09:31:35.833383Z",
     "start_time": "2024-12-16T09:31:35.820872Z"
    }
   },
   "cell_type": "code",
   "source": [
    "# ### Save Best Model and Scaler\n",
    "# with open('win_probability_model.pkl', 'wb') as f:\n",
    "#     pickle.dump(best_model, f)\n",
    "# \n",
    "# with open('win_probability_scaler.pkl', 'wb') as f:\n",
    "#     pickle.dump(scaler, f)"
   ],
   "id": "218b2400e010a1fd",
   "outputs": [],
   "execution_count": 8
  }
 ],
 "metadata": {
  "kernelspec": {
   "display_name": "Python 3",
   "language": "python",
   "name": "python3"
  },
  "language_info": {
   "codemirror_mode": {
    "name": "ipython",
    "version": 2
   },
   "file_extension": ".py",
   "mimetype": "text/x-python",
   "name": "python",
   "nbconvert_exporter": "python",
   "pygments_lexer": "ipython2",
   "version": "2.7.6"
  }
 },
 "nbformat": 4,
 "nbformat_minor": 5
}
