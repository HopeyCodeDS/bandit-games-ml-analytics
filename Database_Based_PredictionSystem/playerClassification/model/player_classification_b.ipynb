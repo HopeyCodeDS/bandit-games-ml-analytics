{
 "cells": [
  {
   "cell_type": "code",
   "id": "initial_id",
   "metadata": {
    "collapsed": true,
    "ExecuteTime": {
     "end_time": "2024-12-08T21:38:27.595530Z",
     "start_time": "2024-12-08T21:38:03.028896Z"
    }
   },
   "source": [
    "import pandas as pd\n",
    "import numpy as np\n",
    "from sklearn.model_selection import train_test_split, GridSearchCV, cross_val_score, RandomizedSearchCV\n",
    "from sklearn.preprocessing import StandardScaler, LabelEncoder\n",
    "from sklearn.ensemble import RandomForestClassifier, GradientBoostingClassifier, VotingClassifier\n",
    "from sklearn.linear_model import LogisticRegression\n",
    "from sklearn.svm import SVC\n",
    "from xgboost import XGBClassifier\n",
    "import matplotlib.pyplot as plt\n",
    "from sklearn.metrics import classification_report, accuracy_score\n",
    "from sklearn.impute import SimpleImputer\n",
    "\n",
    "import warnings\n",
    "\n",
    "# Suppress warnings from GradientBoostingClassifier and VotingClassifier\n",
    "warnings.filterwarnings(\"ignore\", category=UserWarning, module=\"sklearn.ensemble.gradient_boosting\")\n",
    "warnings.filterwarnings(\"ignore\", category=UserWarning, module=\"sklearn.ensemble._voting\")"
   ],
   "outputs": [],
   "execution_count": 1
  },
  {
   "metadata": {
    "ExecuteTime": {
     "end_time": "2024-12-08T21:38:27.723858Z",
     "start_time": "2024-12-08T21:38:27.628948Z"
    }
   },
   "cell_type": "code",
   "source": [
    "# Load dataset\n",
    "df = pd.read_csv('../../data/player_game_statistics.csv')"
   ],
   "id": "3a89f4fca19fa4d0",
   "outputs": [],
   "execution_count": 2
  },
  {
   "metadata": {
    "ExecuteTime": {
     "end_time": "2024-12-08T21:38:29.264626Z",
     "start_time": "2024-12-08T21:38:29.211086Z"
    }
   },
   "cell_type": "code",
   "source": [
    "# Inspect the target column\n",
    "print(df['player_level'].value_counts())"
   ],
   "id": "57bf96d504b852b",
   "outputs": [
    {
     "name": "stdout",
     "output_type": "stream",
     "text": [
      "player_level\n",
      "Novice          1855\n",
      "Intermediate     603\n",
      "Expert           111\n",
      "Name: count, dtype: int64\n"
     ]
    }
   ],
   "execution_count": 3
  },
  {
   "metadata": {
    "ExecuteTime": {
     "end_time": "2024-12-08T21:38:29.418540Z",
     "start_time": "2024-12-08T21:38:29.314617Z"
    }
   },
   "cell_type": "code",
   "source": [
    "# Handle missing values\n",
    "imputer = SimpleImputer(strategy='mean')\n",
    "numerical_columns = df.select_dtypes(include=np.number).columns\n",
    "df[numerical_columns] = imputer.fit_transform(df[numerical_columns])\n",
    "# df = df.drop(columns=['player_id', 'game_id'])\n",
    "\n",
    "# Encode categorical columns\n",
    "categorical_columns = ['country', 'gender', 'game_name']\n",
    "df = pd.get_dummies(df, columns=categorical_columns, drop_first=True)\n",
    "\n",
    "# Encode target variable\n",
    "label_encoder = LabelEncoder()\n",
    "df['churned'] = label_encoder.fit_transform(df['churned'])  # Convert churned to binary\n",
    "df['player_level'] = label_encoder.fit_transform(df['player_level'])"
   ],
   "id": "c6b046bda3c8c9e2",
   "outputs": [],
   "execution_count": 4
  },
  {
   "metadata": {
    "ExecuteTime": {
     "end_time": "2024-12-08T21:38:29.576971Z",
     "start_time": "2024-12-08T21:38:29.493668Z"
    }
   },
   "cell_type": "code",
   "source": [
    "# Split the dataset\n",
    "X = df.drop(columns=['player_level','game_id', 'player_id', 'username', 'last_played'])  # Remove non-informative columns\n",
    "y = df['player_level']\n",
    "X_train, X_test, y_train, y_test = train_test_split(X, y, test_size=0.2, random_state=42)\n"
   ],
   "id": "2909b9cb417ae5cb",
   "outputs": [],
   "execution_count": 5
  },
  {
   "metadata": {
    "ExecuteTime": {
     "end_time": "2024-12-08T21:38:29.867724Z",
     "start_time": "2024-12-08T21:38:29.784835Z"
    }
   },
   "cell_type": "code",
   "source": [
    "# Normalize numerical features\n",
    "scaler = StandardScaler()\n",
    "X_train_scaled = scaler.fit_transform(X_train)\n",
    "X_test_scaled = scaler.transform(X_test)"
   ],
   "id": "147764452ec01f63",
   "outputs": [],
   "execution_count": 6
  },
  {
   "metadata": {
    "ExecuteTime": {
     "end_time": "2024-12-08T21:38:30.192693Z",
     "start_time": "2024-12-08T21:38:30.168972Z"
    }
   },
   "cell_type": "code",
   "source": [
    "# Initialize models\n",
    "log_reg = LogisticRegression(max_iter=1000, random_state=42)\n",
    "rf_clf = RandomForestClassifier(n_estimators=100, random_state=42)\n",
    "gb_clf = GradientBoostingClassifier(random_state=42)\n",
    "svm_clf = SVC(probability=True, random_state=42)\n"
   ],
   "id": "bf6a0f86681a6e8b",
   "outputs": [],
   "execution_count": 7
  },
  {
   "metadata": {},
   "cell_type": "markdown",
   "source": "#### Hyperparameter Tuning with GridSearchCV",
   "id": "da34c3ec76cac92f"
  },
  {
   "metadata": {
    "ExecuteTime": {
     "end_time": "2024-12-08T21:38:36.833502Z",
     "start_time": "2024-12-08T21:38:30.421348Z"
    }
   },
   "cell_type": "code",
   "source": [
    "# Hyperparameter Tuning with GridSearchCV\n",
    "print(\"Performing Hyperparameter Tuning...\")\n",
    "\n",
    "# Logistic Regression\n",
    "log_reg_params = {'C': [0.1, 1, 10], 'solver': ['liblinear', 'lbfgs']}\n",
    "log_reg_grid = GridSearchCV(log_reg, log_reg_params, cv=5, scoring='accuracy')\n",
    "log_reg_grid.fit(X_train_scaled, y_train)\n",
    "log_reg = log_reg_grid.best_estimator_"
   ],
   "id": "508e17d97f1ad38f",
   "outputs": [
    {
     "name": "stdout",
     "output_type": "stream",
     "text": [
      "Performing Hyperparameter Tuning...\n"
     ]
    }
   ],
   "execution_count": 8
  },
  {
   "metadata": {
    "ExecuteTime": {
     "end_time": "2024-12-08T21:39:58.439205Z",
     "start_time": "2024-12-08T21:38:37.011827Z"
    }
   },
   "cell_type": "code",
   "source": [
    "# Random Forest\n",
    "rf_params = {'n_estimators': [100, 200], 'max_depth': [None, 10, 20], 'min_samples_split': [2, 5]}\n",
    "rf_grid = GridSearchCV(rf_clf, rf_params, cv=5, scoring='accuracy')\n",
    "rf_grid.fit(X_train, y_train)\n",
    "rf_clf = rf_grid.best_estimator_"
   ],
   "id": "ed711b0c874ebaee",
   "outputs": [],
   "execution_count": 9
  },
  {
   "metadata": {
    "ExecuteTime": {
     "end_time": "2024-12-08T21:41:17.467965Z",
     "start_time": "2024-12-08T21:39:58.687232Z"
    }
   },
   "cell_type": "code",
   "source": [
    "# Support Vector Machine\n",
    "svm_params = {'C': [0.1, 1, 10], 'kernel': ['linear', 'rbf']}\n",
    "svm_grid = GridSearchCV(svm_clf, svm_params, cv=5, scoring='accuracy')\n",
    "svm_grid.fit(X_train_scaled, y_train)\n",
    "svm_clf = svm_grid.best_estimator_"
   ],
   "id": "2124c2e790771e45",
   "outputs": [],
   "execution_count": 10
  },
  {
   "metadata": {
    "ExecuteTime": {
     "end_time": "2024-12-08T21:54:49.528217Z",
     "start_time": "2024-12-08T21:41:17.692564Z"
    }
   },
   "cell_type": "code",
   "source": [
    "# Gradient Boost(Takes a long to load)\n",
    "gb_params = {'n_estimators': [100, 200], 'learning_rate': [0.01, 0.1, 0.2], 'max_depth': [3, 5, 7]}\n",
    "gb_grid = GridSearchCV(gb_clf, gb_params, cv=5, scoring='accuracy')\n",
    "gb_grid.fit(X_train, y_train)\n",
    "gb_clf = gb_grid.best_estimator_"
   ],
   "id": "19ff9dab2b41efd3",
   "outputs": [],
   "execution_count": 11
  },
  {
   "metadata": {
    "ExecuteTime": {
     "end_time": "2024-12-08T22:13:49.111707Z",
     "start_time": "2024-12-08T21:54:49.896975Z"
    }
   },
   "cell_type": "code",
   "source": [
    "# Ensemble Model (Voting Classifier)\n",
    "voting_clf = VotingClassifier(\n",
    "    estimators=[\n",
    "        ('log_reg', log_reg),\n",
    "        ('rf', rf_clf),\n",
    "        ('gb', gb_clf),\n",
    "        ('svm', svm_clf)\n",
    "    ],\n",
    "    voting='soft'  # Soft voting uses predicted probabilities\n",
    ")\n",
    "voting_clf.fit(X_train, y_train)\n",
    "y_pred_ensemble = voting_clf.predict(X_test)"
   ],
   "id": "97b206fa4ab27a7d",
   "outputs": [
    {
     "name": "stderr",
     "output_type": "stream",
     "text": [
      "C:\\Users\\opeye\\AppData\\Local\\Programs\\Python\\Python39\\lib\\site-packages\\sklearn\\linear_model\\_logistic.py:469: ConvergenceWarning: lbfgs failed to converge (status=1):\n",
      "STOP: TOTAL NO. of ITERATIONS REACHED LIMIT.\n",
      "\n",
      "Increase the number of iterations (max_iter) or scale the data as shown in:\n",
      "    https://scikit-learn.org/stable/modules/preprocessing.html\n",
      "Please also refer to the documentation for alternative solver options:\n",
      "    https://scikit-learn.org/stable/modules/linear_model.html#logistic-regression\n",
      "  n_iter_i = _check_optimize_result(\n"
     ]
    }
   ],
   "execution_count": 12
  },
  {
   "metadata": {},
   "cell_type": "markdown",
   "source": "#### Cross-Validation",
   "id": "cd1639b2e8b9d942"
  },
  {
   "metadata": {
    "ExecuteTime": {
     "end_time": "2024-12-08T22:16:51.599393Z",
     "start_time": "2024-12-08T22:13:49.563070Z"
    }
   },
   "cell_type": "code",
   "source": [
    "# Cross-Validation Scores\n",
    "print(\"Cross-Validation Scores:\")\n",
    "cv_scores = {\n",
    "    'Logistic Regression': cross_val_score(log_reg, X_train_scaled, y_train, cv=5, scoring='accuracy').mean(),\n",
    "    'Random Forest': cross_val_score(rf_clf, X_train, y_train, cv=5, scoring='accuracy').mean(),\n",
    "    'SVM': cross_val_score(svm_clf, X_train_scaled, y_train, cv=5, scoring='accuracy').mean(),\n",
    "    'GBoost': cross_val_score(gb_clf, X_train, y_train, cv=5, scoring='accuracy').mean(),\n",
    "    'Voting Classifier': cross_val_score(voting_clf, X_train_scaled, y_train, cv=5, scoring='accuracy').mean(),\n",
    "}\n",
    "\n",
    "for model, score in cv_scores.items():\n",
    "    print(f\"{model}: {score:.4f}\")\n"
   ],
   "id": "2c10c675ec71ea7b",
   "outputs": [
    {
     "name": "stdout",
     "output_type": "stream",
     "text": [
      "Cross-Validation Scores:\n",
      "Logistic Regression: 0.8876\n",
      "Random Forest: 0.9664\n",
      "SVM: 0.8973\n",
      "GBoost: 0.9659\n",
      "Voting Classifier: 0.9557\n"
     ]
    }
   ],
   "execution_count": 13
  },
  {
   "metadata": {
    "ExecuteTime": {
     "end_time": "2024-12-08T22:16:52.236887Z",
     "start_time": "2024-12-08T22:16:51.843334Z"
    }
   },
   "cell_type": "code",
   "source": [
    "# Predictions\n",
    "log_reg_pred = log_reg.predict(X_test_scaled)\n",
    "gb_pred = gb_clf.predict(X_test)\n",
    "rf_pred = rf_clf.predict(X_test)\n",
    "svm_pred = svm_clf.predict(X_test_scaled)\n",
    "voting_pred = voting_clf.predict(X_test_scaled)"
   ],
   "id": "84bcb0ae672739d",
   "outputs": [
    {
     "name": "stderr",
     "output_type": "stream",
     "text": [
      "C:\\Users\\opeye\\AppData\\Local\\Programs\\Python\\Python39\\lib\\site-packages\\sklearn\\base.py:493: UserWarning: X does not have valid feature names, but LogisticRegression was fitted with feature names\n",
      "  warnings.warn(\n",
      "C:\\Users\\opeye\\AppData\\Local\\Programs\\Python\\Python39\\lib\\site-packages\\sklearn\\base.py:493: UserWarning: X does not have valid feature names, but RandomForestClassifier was fitted with feature names\n",
      "  warnings.warn(\n",
      "C:\\Users\\opeye\\AppData\\Local\\Programs\\Python\\Python39\\lib\\site-packages\\sklearn\\base.py:493: UserWarning: X does not have valid feature names, but GradientBoostingClassifier was fitted with feature names\n",
      "  warnings.warn(\n",
      "C:\\Users\\opeye\\AppData\\Local\\Programs\\Python\\Python39\\lib\\site-packages\\sklearn\\base.py:493: UserWarning: X does not have valid feature names, but SVC was fitted with feature names\n",
      "  warnings.warn(\n"
     ]
    }
   ],
   "execution_count": 14
  },
  {
   "metadata": {
    "ExecuteTime": {
     "end_time": "2024-12-08T22:16:52.957385Z",
     "start_time": "2024-12-08T22:16:52.902710Z"
    }
   },
   "cell_type": "code",
   "source": [
    "# Collecting all models' results\n",
    "models = ['Logistic Regression', 'Gradient Boost', 'SVM', 'Random Forest', 'Voting Classifier']\n",
    "accuracies = [\n",
    "    accuracy_score(y_test, log_reg_pred),\n",
    "    accuracy_score(y_test, gb_pred),\n",
    "    accuracy_score(y_test, svm_pred),\n",
    "    accuracy_score(y_test, rf_pred),\n",
    "    accuracy_score(y_test, voting_pred)\n",
    "]"
   ],
   "id": "d786bc11f3427b99",
   "outputs": [],
   "execution_count": 15
  },
  {
   "metadata": {
    "ExecuteTime": {
     "end_time": "2024-12-08T22:16:56.091087Z",
     "start_time": "2024-12-08T22:16:52.994923Z"
    }
   },
   "cell_type": "code",
   "source": [
    "# Plotting the comparison\n",
    "plt.figure(figsize=(10, 6))\n",
    "plt.bar(models, accuracies, color=['blue', 'orange', 'green', 'red', 'purple'])\n",
    "plt.xlabel('Model')\n",
    "plt.ylabel('Accuracy')\n",
    "plt.title('Model Comparison')\n",
    "plt.ylim(0.6, 1.0)  # Adjust as necessary\n",
    "plt.xticks(rotation=15)\n",
    "plt.show()"
   ],
   "id": "d952f06928b58c9e",
   "outputs": [
    {
     "data": {
      "text/plain": [
       "<Figure size 1000x600 with 1 Axes>"
      ],
      "image/png": "[encoded data removed]"
     },
     "metadata": {},
     "output_type": "display_data"
    }
   ],
   "execution_count": 16
  },
  {
   "metadata": {
    "ExecuteTime": {
     "end_time": "2024-12-08T22:16:56.985414Z",
     "start_time": "2024-12-08T22:16:56.912117Z"
    }
   },
   "cell_type": "code",
   "source": [
    "# Evaluate ensemble model\n",
    "print(\"Performance of Ensemble Model (Voting Classifier):\")\n",
    "print(classification_report(y_test, y_pred_ensemble))"
   ],
   "id": "a7d9aee609fe1436",
   "outputs": [
    {
     "name": "stdout",
     "output_type": "stream",
     "text": [
      "Performance of Ensemble Model (Voting Classifier):\n",
      "              precision    recall  f1-score   support\n",
      "\n",
      "           0       0.73      0.86      0.79        22\n",
      "           1       0.89      0.89      0.89       123\n",
      "           2       0.98      0.97      0.98       369\n",
      "\n",
      "    accuracy                           0.95       514\n",
      "   macro avg       0.87      0.91      0.89       514\n",
      "weighted avg       0.95      0.95      0.95       514\n",
      "\n"
     ]
    }
   ],
   "execution_count": 17
  },
  {
   "metadata": {
    "ExecuteTime": {
     "end_time": "2024-12-08T22:16:58.015417Z",
     "start_time": "2024-12-08T22:16:57.771612Z"
    }
   },
   "cell_type": "code",
   "source": [
    "# Additional Evaluation using classification reports\n",
    "print(\"Logistic Regression Report:\\n\", classification_report(y_test, log_reg_pred))\n",
    "print(\"GBoost Report:\\n\", classification_report(y_test, gb_pred))\n",
    "print(\"SVM Report:\\n\", classification_report(y_test, svm_pred))\n",
    "print(\"Random Forest Report:\\n\", classification_report(y_test, rf_pred))\n",
    "print(\"Voting Classifier Report:\\n\", classification_report(y_test, voting_pred))"
   ],
   "id": "ad08d5bd131ed3fa",
   "outputs": [
    {
     "name": "stdout",
     "output_type": "stream",
     "text": [
      "Logistic Regression Report:\n",
      "               precision    recall  f1-score   support\n",
      "\n",
      "           0       0.64      0.73      0.68        22\n",
      "           1       0.79      0.72      0.75       123\n",
      "           2       0.93      0.95      0.94       369\n",
      "\n",
      "    accuracy                           0.89       514\n",
      "   macro avg       0.79      0.80      0.79       514\n",
      "weighted avg       0.88      0.89      0.88       514\n",
      "\n",
      "GBoost Report:\n",
      "               precision    recall  f1-score   support\n",
      "\n",
      "           0       0.70      0.73      0.71        22\n",
      "           1       0.87      0.93      0.90       123\n",
      "           2       1.00      0.97      0.98       369\n",
      "\n",
      "    accuracy                           0.95       514\n",
      "   macro avg       0.85      0.88      0.87       514\n",
      "weighted avg       0.95      0.95      0.95       514\n",
      "\n",
      "SVM Report:\n",
      "               precision    recall  f1-score   support\n",
      "\n",
      "           0       0.64      0.73      0.68        22\n",
      "           1       0.74      0.78      0.76       123\n",
      "           2       0.95      0.92      0.93       369\n",
      "\n",
      "    accuracy                           0.88       514\n",
      "   macro avg       0.78      0.81      0.79       514\n",
      "weighted avg       0.88      0.88      0.88       514\n",
      "\n",
      "Random Forest Report:\n",
      "               precision    recall  f1-score   support\n",
      "\n",
      "           0       0.68      0.77      0.72        22\n",
      "           1       0.87      0.91      0.89       123\n",
      "           2       0.99      0.97      0.98       369\n",
      "\n",
      "    accuracy                           0.95       514\n",
      "   macro avg       0.85      0.88      0.86       514\n",
      "weighted avg       0.95      0.95      0.95       514\n",
      "\n",
      "Voting Classifier Report:\n",
      "               precision    recall  f1-score   support\n",
      "\n",
      "           0       0.00      0.00      0.00        22\n",
      "           1       0.40      0.02      0.03       123\n",
      "           2       0.72      0.99      0.84       369\n",
      "\n",
      "    accuracy                           0.72       514\n",
      "   macro avg       0.37      0.34      0.29       514\n",
      "weighted avg       0.61      0.72      0.61       514\n",
      "\n"
     ]
    },
    {
     "name": "stderr",
     "output_type": "stream",
     "text": [
      "C:\\Users\\opeye\\AppData\\Local\\Programs\\Python\\Python39\\lib\\site-packages\\sklearn\\metrics\\_classification.py:1531: UndefinedMetricWarning: Precision is ill-defined and being set to 0.0 in labels with no predicted samples. Use `zero_division` parameter to control this behavior.\n",
      "  _warn_prf(average, modifier, f\"{metric.capitalize()} is\", len(result))\n",
      "C:\\Users\\opeye\\AppData\\Local\\Programs\\Python\\Python39\\lib\\site-packages\\sklearn\\metrics\\_classification.py:1531: UndefinedMetricWarning: Precision is ill-defined and being set to 0.0 in labels with no predicted samples. Use `zero_division` parameter to control this behavior.\n",
      "  _warn_prf(average, modifier, f\"{metric.capitalize()} is\", len(result))\n",
      "C:\\Users\\opeye\\AppData\\Local\\Programs\\Python\\Python39\\lib\\site-packages\\sklearn\\metrics\\_classification.py:1531: UndefinedMetricWarning: Precision is ill-defined and being set to 0.0 in labels with no predicted samples. Use `zero_division` parameter to control this behavior.\n",
      "  _warn_prf(average, modifier, f\"{metric.capitalize()} is\", len(result))\n"
     ]
    }
   ],
   "execution_count": 18
  },
  {
   "metadata": {
    "ExecuteTime": {
     "end_time": "2024-12-08T22:16:58.049014Z",
     "start_time": "2024-12-08T22:16:58.032419Z"
    }
   },
   "cell_type": "code",
   "source": [
    "# Display Cross-Validation Scores\n",
    "print(\"\\nCross-Validation Scores:\")\n",
    "for model, score in cv_scores.items():\n",
    "    print(f\"{model}: {score:.4f}\")"
   ],
   "id": "63c425cb9fce6a2e",
   "outputs": [
    {
     "name": "stdout",
     "output_type": "stream",
     "text": [
      "\n",
      "Cross-Validation Scores:\n",
      "Logistic Regression: 0.8876\n",
      "Random Forest: 0.9664\n",
      "SVM: 0.8973\n",
      "GBoost: 0.9659\n",
      "Voting Classifier: 0.9557\n"
     ]
    }
   ],
   "execution_count": 19
  },
  {
   "metadata": {
    "ExecuteTime": {
     "end_time": "2024-12-08T22:16:58.286878Z",
     "start_time": "2024-12-08T22:16:58.266654Z"
    }
   },
   "cell_type": "code",
   "source": "",
   "id": "29b68d7226c147de",
   "outputs": [],
   "execution_count": null
  },
  {
   "metadata": {
    "ExecuteTime": {
     "end_time": "2024-12-08T22:16:58.580800Z",
     "start_time": "2024-12-08T22:16:58.554276Z"
    }
   },
   "cell_type": "code",
   "source": [
    "# Identify the best-performing model\n",
    "ensemble_accuracy = accuracy_score(y_test, y_pred_ensemble)\n",
    "print(f\"Ensemble Model Accuracy: {ensemble_accuracy:.2f}\")"
   ],
   "id": "3479ecb2f2758816",
   "outputs": [
    {
     "name": "stdout",
     "output_type": "stream",
     "text": [
      "Ensemble Model Accuracy: 0.95\n"
     ]
    }
   ],
   "execution_count": 20
  },
  {
   "metadata": {
    "ExecuteTime": {
     "end_time": "2024-12-08T22:16:58.878775Z",
     "start_time": "2024-12-08T22:16:58.867638Z"
    }
   },
   "cell_type": "code",
   "source": [
    "# After training, save the model and scaler\n",
    "# joblib.dump(xgb_clf, 'xgb_model.joblib')\n",
    "# joblib.dump(scaler, 'scaler.joblib')"
   ],
   "id": "cc9006597d7bbcf6",
   "outputs": [],
   "execution_count": 21
  },
  {
   "metadata": {
    "ExecuteTime": {
     "end_time": "2024-12-08T22:16:59.110066Z",
     "start_time": "2024-12-08T22:16:59.098342Z"
    }
   },
   "cell_type": "code",
   "source": "",
   "id": "47eeba46062072d4",
   "outputs": [],
   "execution_count": null
  }
 ],
 "metadata": {
  "kernelspec": {
   "display_name": "Python 3",
   "language": "python",
   "name": "python3"
  },
  "language_info": {
   "codemirror_mode": {
    "name": "ipython",
    "version": 2
   },
   "file_extension": ".py",
   "mimetype": "text/x-python",
   "name": "python",
   "nbconvert_exporter": "python",
   "pygments_lexer": "ipython2",
   "version": "2.7.6"
  }
 },
 "nbformat": 4,
 "nbformat_minor": 5
}
