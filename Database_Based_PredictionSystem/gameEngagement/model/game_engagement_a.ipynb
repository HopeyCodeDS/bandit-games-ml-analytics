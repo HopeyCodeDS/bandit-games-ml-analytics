{
 "cells": [
  {
   "cell_type": "code",
   "execution_count": null,
   "id": "initial_id",
   "metadata": {
    "collapsed": true
   },
   "outputs": [],
   "source": [
    "import pandas as pd\n",
    "import numpy as np\n",
    "from sklearn.model_selection import train_test_split\n",
    "from sklearn.preprocessing import StandardScaler, LabelEncoder\n",
    "from sklearn.ensemble import RandomForestRegressor\n",
    "from sklearn.metrics import mean_squared_error, r2_score\n",
    "import seaborn as sns\n",
    "import matplotlib.pyplot as plt\n",
    "from datetime import datetime"
   ]
  },
  {
   "metadata": {},
   "cell_type": "code",
   "outputs": [],
   "execution_count": null,
   "source": [
    "# Load dataset\n",
    "df = pd.read_csv('../../data/player_game_statistics.csv')"
   ],
   "id": "1f8bf406b8e9052"
  },
  {
   "metadata": {},
   "cell_type": "code",
   "outputs": [],
   "execution_count": null,
   "source": [
    "# Inspect the target column (game engagement duration)\n",
    "print(df.head())"
   ],
   "id": "ba19aa02bd1bcdc0"
  },
  {
   "metadata": {},
   "cell_type": "code",
   "outputs": [],
   "execution_count": null,
   "source": [
    "# Convert last_played to datetime\n",
    "df['last_played'] = pd.to_datetime(df['last_played'])"
   ],
   "id": "c64454880044e4c1"
  },
  {
   "metadata": {},
   "cell_type": "code",
   "outputs": [],
   "execution_count": null,
   "source": [
    "# Calculate engagement duration (assuming last_played - first_played)\n",
    "# Since we don't have first_played, we'll use total_time_played_minutes\n",
    "engagement_duration = df['total_time_played_minutes']"
   ],
   "id": "e3733e4f5dfccb1f"
  },
  {
   "metadata": {},
   "cell_type": "code",
   "outputs": [],
   "execution_count": null,
   "source": [
    "features_df = df.copy()\n",
    "    \n",
    "# Encode categorical variables\n",
    "le = LabelEncoder()\n",
    "features_df['player_level'] = le.fit_transform(features_df['player_level'])\n",
    "features_df['gender'] = le.fit_transform(features_df['gender'])\n",
    "features_df['country'] = le.fit_transform(features_df['country'])\n",
    "features_df['game_name'] = le.fit_transform(features_df['game_name'])\n",
    "    \n",
    "# Select relevant features for prediction\n",
    "selected_features = [\n",
    "    'age', 'total_games_played', 'total_wins', \n",
    "    'total_losses', 'win_ratio', 'total_moves',\n",
    "    'highest_score', 'rating', 'player_level',\n",
    "    'game_name', 'country'\n",
    "]"
   ],
   "id": "321a5c99bb11f406"
  },
  {
   "metadata": {},
   "cell_type": "code",
   "outputs": [],
   "execution_count": null,
   "source": [
    "# Prepare features\n",
    "X = df[selected_features]\n",
    "y = engagement_duration"
   ],
   "id": "73a63386fdf860ff"
  },
  {
   "metadata": {},
   "cell_type": "code",
   "outputs": [],
   "execution_count": null,
   "source": [
    "# 3. Split the Data\n",
    "X_train, X_test, y_train, y_test = train_test_split(X, y, test_size=0.2, random_state=42)\n"
   ],
   "id": "d93d0a283ea57776"
  },
  {
   "metadata": {},
   "cell_type": "code",
   "outputs": [],
   "execution_count": null,
   "source": [
    "# 4. Scale the Features\n",
    "scaler = StandardScaler()\n",
    "X_train_scaled = scaler.fit_transform(X_train)\n",
    "X_test_scaled = scaler.transform(X_test)"
   ],
   "id": "64a69c38c4e2bec6"
  },
  {
   "metadata": {},
   "cell_type": "code",
   "outputs": [],
   "execution_count": null,
   "source": [
    "# 5. Train the Model\n",
    "rf_model = RandomForestRegressor(n_estimators=100, random_state=42)\n",
    "rf_model.fit(X_train_scaled, y_train)"
   ],
   "id": "21b7304c971ab43"
  },
  {
   "metadata": {},
   "cell_type": "code",
   "outputs": [],
   "execution_count": null,
   "source": [
    "# 6. Make Predictions\n",
    "y_pred = rf_model.predict(X_test_scaled)"
   ],
   "id": "e7de3bf657d060cd"
  },
  {
   "metadata": {},
   "cell_type": "code",
   "outputs": [],
   "execution_count": null,
   "source": [
    "# 7. Evaluate the Model\n",
    "mse = mean_squared_error(y_test, y_pred)\n",
    "rmse = np.sqrt(mse)\n",
    "r2 = r2_score(y_test, y_pred)\n",
    "\n",
    "print(\"Model Performance Metrics:\")\n",
    "print(f\"RMSE: {rmse:.2f} minutes\")\n",
    "print(f\"R² Score: {r2:.3f}\")"
   ],
   "id": "3b2603cc32ffa64f"
  },
  {
   "metadata": {},
   "cell_type": "code",
   "outputs": [],
   "execution_count": null,
   "source": [
    "# 8. Feature Importance Analysis\n",
    "feature_importance = pd.DataFrame({\n",
    "    'feature': selected_features,\n",
    "    'importance': rf_model.feature_importances_\n",
    "})\n",
    "feature_importance = feature_importance.sort_values('importance', ascending=False)"
   ],
   "id": "b54af1a6e29fab8d"
  },
  {
   "metadata": {},
   "cell_type": "code",
   "outputs": [],
   "execution_count": null,
   "source": [
    "# 9. Visualizations\n",
    "plt.figure(figsize=(15, 10))\n",
    "\n",
    "# Feature Importance Plot\n",
    "plt.subplot(2, 1, 1)\n",
    "sns.barplot(x='importance', y='feature', data=feature_importance)\n",
    "plt.title('Feature Importance for Engagement Prediction')\n",
    "plt.xlabel('Importance Score')\n",
    "\n",
    "# Predicted vs Actual Plot\n",
    "plt.subplot(2, 1, 2)\n",
    "plt.scatter(y_test, y_pred, alpha=0.5)\n",
    "plt.plot([y_test.min(), y_test.max()], [y_test.min(), y_test.max()], 'r--', lw=2)\n",
    "plt.xlabel('Actual Engagement Duration (minutes)')\n",
    "plt.ylabel('Predicted Engagement Duration (minutes)')\n",
    "plt.title('Predicted vs Actual Engagement Duration')\n",
    "\n",
    "plt.tight_layout()\n",
    "plt.show()"
   ],
   "id": "999ac788b0e66e7b"
  },
  {
   "metadata": {},
   "cell_type": "code",
   "outputs": [],
   "execution_count": null,
   "source": [
    "# 10. Predictions for Example Players\n",
    "print(\"\\nExample Predictions for Different Player Segments:\")\n",
    "\n",
    "# High-performing player\n",
    "high_performer = X.iloc[df['win_ratio'].argmax()]\n",
    "high_performer_scaled = scaler.transform([high_performer])\n",
    "pred_high = rf_model.predict(high_performer_scaled)\n",
    "print(f\"Predicted engagement for high performer: {pred_high[0]:.0f} minutes\")\n",
    "\n",
    "# New player\n",
    "new_player = X.iloc[df['total_games_played'].argmin()]\n",
    "new_player_scaled = scaler.transform([new_player])\n",
    "pred_new = rf_model.predict(new_player_scaled)\n",
    "print(f\"Predicted engagement for new player: {pred_new[0]:.0f} minutes\")"
   ],
   "id": "3c34fe94670f0771"
  }
 ],
 "metadata": {
  "kernelspec": {
   "display_name": "Python 3",
   "language": "python",
   "name": "python3"
  },
  "language_info": {
   "codemirror_mode": {
    "name": "ipython",
    "version": 2
   },
   "file_extension": ".py",
   "mimetype": "text/x-python",
   "name": "python",
   "nbconvert_exporter": "python",
   "pygments_lexer": "ipython2",
   "version": "2.7.6"
  }
 },
 "nbformat": 4,
 "nbformat_minor": 5
}
