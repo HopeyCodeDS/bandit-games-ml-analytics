{
 "cells": [
  {
   "cell_type": "code",
   "id": "initial_id",
   "metadata": {
    "collapsed": true,
    "ExecuteTime": {
     "end_time": "2024-12-21T12:29:39.016502Z",
     "start_time": "2024-12-21T12:29:38.618736Z"
    }
   },
   "source": [
    "# Player Churn Prediction\n",
    "# This notebook predicts player churn using multiple ML algorithms\n",
    "\n",
    "# Import required libraries\n",
    "import pandas as pd\n",
    "import numpy as np\n",
    "from sklearn.model_selection import train_test_split, cross_val_score\n",
    "from sklearn.preprocessing import StandardScaler, LabelEncoder, OneHotEncoder\n",
    "from sklearn.ensemble import RandomForestClassifier, GradientBoostingClassifier\n",
    "from sklearn.linear_model import LogisticRegression\n",
    "from sklearn.svm import SVC\n",
    "from sklearn.metrics import accuracy_score, classification_report, confusion_matrix\n",
    "import matplotlib.pyplot as plt\n",
    "import seaborn as sns\n",
    "import xgboost as xgb\n",
    "import pickle\n"
   ],
   "outputs": [],
   "execution_count": 1
  },
  {
   "metadata": {
    "ExecuteTime": {
     "end_time": "2024-12-21T12:29:39.063564Z",
     "start_time": "2024-12-21T12:29:39.034868Z"
    }
   },
   "cell_type": "code",
   "source": [
    "# Load data\n",
    "df = pd.read_csv('../player_game_statistics.csv')\n",
    "df.head()"
   ],
   "id": "1ae184cd10cc1a36",
   "outputs": [
    {
     "data": {
      "text/plain": [
       "    player_name   game_name  total_games_played  total_wins  total_losses  \\\n",
       "0     David Ali  battleship                  37          21            16   \n",
       "1  Mohammed Ali  battleship                  88          44            44   \n",
       "2   Amir Nguyen  battleship                 136          42            94   \n",
       "3  Sophia Brown  battleship                 120          86            34   \n",
       "4  Elena Garcia     reversi                  19           3            16   \n",
       "\n",
       "   total_moves  total_time_played_minutes  win_ratio  age gender      country  \\\n",
       "0         1766                        919      56.76   64   Male  South Korea   \n",
       "1         4267                       2416      50.00   51   Male        Japan   \n",
       "2         6592                       3597      30.88   18   Male          USA   \n",
       "3         6016                       3259      71.67   43   Male       Brazil   \n",
       "4          249                        244      15.79   64   Male        Japan   \n",
       "\n",
       "   is_churned  player_level  engagement_level  win_probability  \n",
       "0           0  intermediate             73.18           0.5676  \n",
       "1           0  intermediate            100.00           0.5000  \n",
       "2           0  intermediate            100.00           0.3088  \n",
       "3           0        expert            100.00           0.7167  \n",
       "4           0  intermediate             52.48           0.1579  "
      ],
      "text/html": [
       "<div>\n",
       "<style scoped>\n",
       "    .dataframe tbody tr th:only-of-type {\n",
       "        vertical-align: middle;\n",
       "    }\n",
       "\n",
       "    .dataframe tbody tr th {\n",
       "        vertical-align: top;\n",
       "    }\n",
       "\n",
       "    .dataframe thead th {\n",
       "        text-align: right;\n",
       "    }\n",
       "</style>\n",
       "<table border=\"1\" class=\"dataframe\">\n",
       "  <thead>\n",
       "    <tr style=\"text-align: right;\">\n",
       "      <th></th>\n",
       "      <th>player_name</th>\n",
       "      <th>game_name</th>\n",
       "      <th>total_games_played</th>\n",
       "      <th>total_wins</th>\n",
       "      <th>total_losses</th>\n",
       "      <th>total_moves</th>\n",
       "      <th>total_time_played_minutes</th>\n",
       "      <th>win_ratio</th>\n",
       "      <th>age</th>\n",
       "      <th>gender</th>\n",
       "      <th>country</th>\n",
       "      <th>is_churned</th>\n",
       "      <th>player_level</th>\n",
       "      <th>engagement_level</th>\n",
       "      <th>win_probability</th>\n",
       "    </tr>\n",
       "  </thead>\n",
       "  <tbody>\n",
       "    <tr>\n",
       "      <th>0</th>\n",
       "      <td>David Ali</td>\n",
       "      <td>battleship</td>\n",
       "      <td>37</td>\n",
       "      <td>21</td>\n",
       "      <td>16</td>\n",
       "      <td>1766</td>\n",
       "      <td>919</td>\n",
       "      <td>56.76</td>\n",
       "      <td>64</td>\n",
       "      <td>Male</td>\n",
       "      <td>South Korea</td>\n",
       "      <td>0</td>\n",
       "      <td>intermediate</td>\n",
       "      <td>73.18</td>\n",
       "      <td>0.5676</td>\n",
       "    </tr>\n",
       "    <tr>\n",
       "      <th>1</th>\n",
       "      <td>Mohammed Ali</td>\n",
       "      <td>battleship</td>\n",
       "      <td>88</td>\n",
       "      <td>44</td>\n",
       "      <td>44</td>\n",
       "      <td>4267</td>\n",
       "      <td>2416</td>\n",
       "      <td>50.00</td>\n",
       "      <td>51</td>\n",
       "      <td>Male</td>\n",
       "      <td>Japan</td>\n",
       "      <td>0</td>\n",
       "      <td>intermediate</td>\n",
       "      <td>100.00</td>\n",
       "      <td>0.5000</td>\n",
       "    </tr>\n",
       "    <tr>\n",
       "      <th>2</th>\n",
       "      <td>Amir Nguyen</td>\n",
       "      <td>battleship</td>\n",
       "      <td>136</td>\n",
       "      <td>42</td>\n",
       "      <td>94</td>\n",
       "      <td>6592</td>\n",
       "      <td>3597</td>\n",
       "      <td>30.88</td>\n",
       "      <td>18</td>\n",
       "      <td>Male</td>\n",
       "      <td>USA</td>\n",
       "      <td>0</td>\n",
       "      <td>intermediate</td>\n",
       "      <td>100.00</td>\n",
       "      <td>0.3088</td>\n",
       "    </tr>\n",
       "    <tr>\n",
       "      <th>3</th>\n",
       "      <td>Sophia Brown</td>\n",
       "      <td>battleship</td>\n",
       "      <td>120</td>\n",
       "      <td>86</td>\n",
       "      <td>34</td>\n",
       "      <td>6016</td>\n",
       "      <td>3259</td>\n",
       "      <td>71.67</td>\n",
       "      <td>43</td>\n",
       "      <td>Male</td>\n",
       "      <td>Brazil</td>\n",
       "      <td>0</td>\n",
       "      <td>expert</td>\n",
       "      <td>100.00</td>\n",
       "      <td>0.7167</td>\n",
       "    </tr>\n",
       "    <tr>\n",
       "      <th>4</th>\n",
       "      <td>Elena Garcia</td>\n",
       "      <td>reversi</td>\n",
       "      <td>19</td>\n",
       "      <td>3</td>\n",
       "      <td>16</td>\n",
       "      <td>249</td>\n",
       "      <td>244</td>\n",
       "      <td>15.79</td>\n",
       "      <td>64</td>\n",
       "      <td>Male</td>\n",
       "      <td>Japan</td>\n",
       "      <td>0</td>\n",
       "      <td>intermediate</td>\n",
       "      <td>52.48</td>\n",
       "      <td>0.1579</td>\n",
       "    </tr>\n",
       "  </tbody>\n",
       "</table>\n",
       "</div>"
      ]
     },
     "execution_count": 2,
     "metadata": {},
     "output_type": "execute_result"
    }
   ],
   "execution_count": 2
  },
  {
   "metadata": {
    "ExecuteTime": {
     "end_time": "2024-12-21T12:29:39.218761Z",
     "start_time": "2024-12-21T12:29:39.189812Z"
    }
   },
   "cell_type": "code",
   "source": [
    "# Examine the data\n",
    "print(\"Dataset shape:\", df.shape)\n",
    "print(\"\\nFirst few rows:\")\n",
    "print(df.head())\n",
    "print(\"\\nData info:\")\n",
    "print(df.info())"
   ],
   "id": "17dc8498980b2c1b",
   "outputs": [
    {
     "name": "stdout",
     "output_type": "stream",
     "text": [
      "Dataset shape: (1000, 15)\n",
      "\n",
      "First few rows:\n",
      "    player_name   game_name  total_games_played  total_wins  total_losses  \\\n",
      "0     David Ali  battleship                  37          21            16   \n",
      "1  Mohammed Ali  battleship                  88          44            44   \n",
      "2   Amir Nguyen  battleship                 136          42            94   \n",
      "3  Sophia Brown  battleship                 120          86            34   \n",
      "4  Elena Garcia     reversi                  19           3            16   \n",
      "\n",
      "   total_moves  total_time_played_minutes  win_ratio  age gender      country  \\\n",
      "0         1766                        919      56.76   64   Male  South Korea   \n",
      "1         4267                       2416      50.00   51   Male        Japan   \n",
      "2         6592                       3597      30.88   18   Male          USA   \n",
      "3         6016                       3259      71.67   43   Male       Brazil   \n",
      "4          249                        244      15.79   64   Male        Japan   \n",
      "\n",
      "   is_churned  player_level  engagement_level  win_probability  \n",
      "0           0  intermediate             73.18           0.5676  \n",
      "1           0  intermediate            100.00           0.5000  \n",
      "2           0  intermediate            100.00           0.3088  \n",
      "3           0        expert            100.00           0.7167  \n",
      "4           0  intermediate             52.48           0.1579  \n",
      "\n",
      "Data info:\n",
      "<class 'pandas.core.frame.DataFrame'>\n",
      "RangeIndex: 1000 entries, 0 to 999\n",
      "Data columns (total 15 columns):\n",
      " #   Column                     Non-Null Count  Dtype  \n",
      "---  ------                     --------------  -----  \n",
      " 0   player_name                1000 non-null   object \n",
      " 1   game_name                  1000 non-null   object \n",
      " 2   total_games_played         1000 non-null   int64  \n",
      " 3   total_wins                 1000 non-null   int64  \n",
      " 4   total_losses               1000 non-null   int64  \n",
      " 5   total_moves                1000 non-null   int64  \n",
      " 6   total_time_played_minutes  1000 non-null   int64  \n",
      " 7   win_ratio                  1000 non-null   float64\n",
      " 8   age                        1000 non-null   int64  \n",
      " 9   gender                     1000 non-null   object \n",
      " 10  country                    1000 non-null   object \n",
      " 11  is_churned                 1000 non-null   int64  \n",
      " 12  player_level               1000 non-null   object \n",
      " 13  engagement_level           1000 non-null   float64\n",
      " 14  win_probability            1000 non-null   float64\n",
      "dtypes: float64(3), int64(7), object(5)\n",
      "memory usage: 117.3+ KB\n",
      "None\n"
     ]
    }
   ],
   "execution_count": 3
  },
  {
   "metadata": {
    "ExecuteTime": {
     "end_time": "2024-12-21T12:29:39.328014Z",
     "start_time": "2024-12-21T12:29:39.305517Z"
    }
   },
   "cell_type": "code",
   "source": "df.head(10)",
   "id": "df4ec746f9c5bea3",
   "outputs": [
    {
     "data": {
      "text/plain": [
       "     player_name   game_name  total_games_played  total_wins  total_losses  \\\n",
       "0      David Ali  battleship                  37          21            16   \n",
       "1   Mohammed Ali  battleship                  88          44            44   \n",
       "2    Amir Nguyen  battleship                 136          42            94   \n",
       "3   Sophia Brown  battleship                 120          86            34   \n",
       "4   Elena Garcia     reversi                  19           3            16   \n",
       "5    John Tanaka     reversi                   2           1             1   \n",
       "6       John Liu  battleship                 106          29            77   \n",
       "7  Carlos Tanaka  battleship                 123          39            84   \n",
       "8   Haruto Davis       chess                  89          25            59   \n",
       "9   Raj Williams       chess                  28          15            13   \n",
       "\n",
       "   total_moves  total_time_played_minutes  win_ratio  age gender      country  \\\n",
       "0         1766                        919      56.76   64   Male  South Korea   \n",
       "1         4267                       2416      50.00   51   Male        Japan   \n",
       "2         6592                       3597      30.88   18   Male          USA   \n",
       "3         6016                       3259      71.67   43   Male       Brazil   \n",
       "4          249                        244      15.79   64   Male        Japan   \n",
       "5            6                         18      50.00   51   Male        China   \n",
       "6         5086                       2936      27.36   32   Male        China   \n",
       "7         5765                       3180      31.71   27   Male       Brazil   \n",
       "8         4186                       3545      28.09   50   Male          USA   \n",
       "9         1320                       1152      53.57   18   Male       Canada   \n",
       "\n",
       "   is_churned  player_level  engagement_level  win_probability  \n",
       "0           0  intermediate             73.18           0.5676  \n",
       "1           0  intermediate            100.00           0.5000  \n",
       "2           0  intermediate            100.00           0.3088  \n",
       "3           0        expert            100.00           0.7167  \n",
       "4           0  intermediate             52.48           0.1579  \n",
       "5           1        novice             41.16           0.5000  \n",
       "6           0  intermediate            100.00           0.2736  \n",
       "7           0  intermediate            100.00           0.3171  \n",
       "8           0  intermediate            100.00           0.2809  \n",
       "9           0  intermediate             74.24           0.5357  "
      ],
      "text/html": [
       "<div>\n",
       "<style scoped>\n",
       "    .dataframe tbody tr th:only-of-type {\n",
       "        vertical-align: middle;\n",
       "    }\n",
       "\n",
       "    .dataframe tbody tr th {\n",
       "        vertical-align: top;\n",
       "    }\n",
       "\n",
       "    .dataframe thead th {\n",
       "        text-align: right;\n",
       "    }\n",
       "</style>\n",
       "<table border=\"1\" class=\"dataframe\">\n",
       "  <thead>\n",
       "    <tr style=\"text-align: right;\">\n",
       "      <th></th>\n",
       "      <th>player_name</th>\n",
       "      <th>game_name</th>\n",
       "      <th>total_games_played</th>\n",
       "      <th>total_wins</th>\n",
       "      <th>total_losses</th>\n",
       "      <th>total_moves</th>\n",
       "      <th>total_time_played_minutes</th>\n",
       "      <th>win_ratio</th>\n",
       "      <th>age</th>\n",
       "      <th>gender</th>\n",
       "      <th>country</th>\n",
       "      <th>is_churned</th>\n",
       "      <th>player_level</th>\n",
       "      <th>engagement_level</th>\n",
       "      <th>win_probability</th>\n",
       "    </tr>\n",
       "  </thead>\n",
       "  <tbody>\n",
       "    <tr>\n",
       "      <th>0</th>\n",
       "      <td>David Ali</td>\n",
       "      <td>battleship</td>\n",
       "      <td>37</td>\n",
       "      <td>21</td>\n",
       "      <td>16</td>\n",
       "      <td>1766</td>\n",
       "      <td>919</td>\n",
       "      <td>56.76</td>\n",
       "      <td>64</td>\n",
       "      <td>Male</td>\n",
       "      <td>South Korea</td>\n",
       "      <td>0</td>\n",
       "      <td>intermediate</td>\n",
       "      <td>73.18</td>\n",
       "      <td>0.5676</td>\n",
       "    </tr>\n",
       "    <tr>\n",
       "      <th>1</th>\n",
       "      <td>Mohammed Ali</td>\n",
       "      <td>battleship</td>\n",
       "      <td>88</td>\n",
       "      <td>44</td>\n",
       "      <td>44</td>\n",
       "      <td>4267</td>\n",
       "      <td>2416</td>\n",
       "      <td>50.00</td>\n",
       "      <td>51</td>\n",
       "      <td>Male</td>\n",
       "      <td>Japan</td>\n",
       "      <td>0</td>\n",
       "      <td>intermediate</td>\n",
       "      <td>100.00</td>\n",
       "      <td>0.5000</td>\n",
       "    </tr>\n",
       "    <tr>\n",
       "      <th>2</th>\n",
       "      <td>Amir Nguyen</td>\n",
       "      <td>battleship</td>\n",
       "      <td>136</td>\n",
       "      <td>42</td>\n",
       "      <td>94</td>\n",
       "      <td>6592</td>\n",
       "      <td>3597</td>\n",
       "      <td>30.88</td>\n",
       "      <td>18</td>\n",
       "      <td>Male</td>\n",
       "      <td>USA</td>\n",
       "      <td>0</td>\n",
       "      <td>intermediate</td>\n",
       "      <td>100.00</td>\n",
       "      <td>0.3088</td>\n",
       "    </tr>\n",
       "    <tr>\n",
       "      <th>3</th>\n",
       "      <td>Sophia Brown</td>\n",
       "      <td>battleship</td>\n",
       "      <td>120</td>\n",
       "      <td>86</td>\n",
       "      <td>34</td>\n",
       "      <td>6016</td>\n",
       "      <td>3259</td>\n",
       "      <td>71.67</td>\n",
       "      <td>43</td>\n",
       "      <td>Male</td>\n",
       "      <td>Brazil</td>\n",
       "      <td>0</td>\n",
       "      <td>expert</td>\n",
       "      <td>100.00</td>\n",
       "      <td>0.7167</td>\n",
       "    </tr>\n",
       "    <tr>\n",
       "      <th>4</th>\n",
       "      <td>Elena Garcia</td>\n",
       "      <td>reversi</td>\n",
       "      <td>19</td>\n",
       "      <td>3</td>\n",
       "      <td>16</td>\n",
       "      <td>249</td>\n",
       "      <td>244</td>\n",
       "      <td>15.79</td>\n",
       "      <td>64</td>\n",
       "      <td>Male</td>\n",
       "      <td>Japan</td>\n",
       "      <td>0</td>\n",
       "      <td>intermediate</td>\n",
       "      <td>52.48</td>\n",
       "      <td>0.1579</td>\n",
       "    </tr>\n",
       "    <tr>\n",
       "      <th>5</th>\n",
       "      <td>John Tanaka</td>\n",
       "      <td>reversi</td>\n",
       "      <td>2</td>\n",
       "      <td>1</td>\n",
       "      <td>1</td>\n",
       "      <td>6</td>\n",
       "      <td>18</td>\n",
       "      <td>50.00</td>\n",
       "      <td>51</td>\n",
       "      <td>Male</td>\n",
       "      <td>China</td>\n",
       "      <td>1</td>\n",
       "      <td>novice</td>\n",
       "      <td>41.16</td>\n",
       "      <td>0.5000</td>\n",
       "    </tr>\n",
       "    <tr>\n",
       "      <th>6</th>\n",
       "      <td>John Liu</td>\n",
       "      <td>battleship</td>\n",
       "      <td>106</td>\n",
       "      <td>29</td>\n",
       "      <td>77</td>\n",
       "      <td>5086</td>\n",
       "      <td>2936</td>\n",
       "      <td>27.36</td>\n",
       "      <td>32</td>\n",
       "      <td>Male</td>\n",
       "      <td>China</td>\n",
       "      <td>0</td>\n",
       "      <td>intermediate</td>\n",
       "      <td>100.00</td>\n",
       "      <td>0.2736</td>\n",
       "    </tr>\n",
       "    <tr>\n",
       "      <th>7</th>\n",
       "      <td>Carlos Tanaka</td>\n",
       "      <td>battleship</td>\n",
       "      <td>123</td>\n",
       "      <td>39</td>\n",
       "      <td>84</td>\n",
       "      <td>5765</td>\n",
       "      <td>3180</td>\n",
       "      <td>31.71</td>\n",
       "      <td>27</td>\n",
       "      <td>Male</td>\n",
       "      <td>Brazil</td>\n",
       "      <td>0</td>\n",
       "      <td>intermediate</td>\n",
       "      <td>100.00</td>\n",
       "      <td>0.3171</td>\n",
       "    </tr>\n",
       "    <tr>\n",
       "      <th>8</th>\n",
       "      <td>Haruto Davis</td>\n",
       "      <td>chess</td>\n",
       "      <td>89</td>\n",
       "      <td>25</td>\n",
       "      <td>59</td>\n",
       "      <td>4186</td>\n",
       "      <td>3545</td>\n",
       "      <td>28.09</td>\n",
       "      <td>50</td>\n",
       "      <td>Male</td>\n",
       "      <td>USA</td>\n",
       "      <td>0</td>\n",
       "      <td>intermediate</td>\n",
       "      <td>100.00</td>\n",
       "      <td>0.2809</td>\n",
       "    </tr>\n",
       "    <tr>\n",
       "      <th>9</th>\n",
       "      <td>Raj Williams</td>\n",
       "      <td>chess</td>\n",
       "      <td>28</td>\n",
       "      <td>15</td>\n",
       "      <td>13</td>\n",
       "      <td>1320</td>\n",
       "      <td>1152</td>\n",
       "      <td>53.57</td>\n",
       "      <td>18</td>\n",
       "      <td>Male</td>\n",
       "      <td>Canada</td>\n",
       "      <td>0</td>\n",
       "      <td>intermediate</td>\n",
       "      <td>74.24</td>\n",
       "      <td>0.5357</td>\n",
       "    </tr>\n",
       "  </tbody>\n",
       "</table>\n",
       "</div>"
      ]
     },
     "execution_count": 4,
     "metadata": {},
     "output_type": "execute_result"
    }
   ],
   "execution_count": 4
  },
  {
   "metadata": {
    "ExecuteTime": {
     "end_time": "2024-12-21T12:29:39.451382Z",
     "start_time": "2024-12-21T12:29:39.439257Z"
    }
   },
   "cell_type": "code",
   "source": [
    "# Check class distribution\n",
    "print(\"\\nChurn distribution:\")\n",
    "print(df['is_churned'].value_counts())\n",
    "print(\"\\nChurn distribution (percentage):\")\n",
    "print(df['is_churned'].value_counts(normalize=True) * 100)"
   ],
   "id": "277645c8881de0c3",
   "outputs": [
    {
     "name": "stdout",
     "output_type": "stream",
     "text": [
      "\n",
      "Churn distribution:\n",
      "is_churned\n",
      "0    941\n",
      "1     59\n",
      "Name: count, dtype: int64\n",
      "\n",
      "Churn distribution (percentage):\n",
      "is_churned\n",
      "0    94.1\n",
      "1     5.9\n",
      "Name: proportion, dtype: float64\n"
     ]
    }
   ],
   "execution_count": 5
  },
  {
   "metadata": {
    "ExecuteTime": {
     "end_time": "2024-12-21T12:29:39.577237Z",
     "start_time": "2024-12-21T12:29:39.564909Z"
    }
   },
   "cell_type": "code",
   "source": [
    "# Data Preprocessing for Churn Prediction\n",
    "# Convert categorical variables - use separate encoders\n",
    "gender_encoder = LabelEncoder()\n",
    "country_encoder = LabelEncoder()\n",
    "game_encoder = LabelEncoder()\n",
    "\n",
    "df['gender_encoded'] = gender_encoder.fit_transform(df['gender'])\n",
    "df['country_encoded'] = country_encoder.fit_transform(df['country'])\n",
    "df['game_encoded'] = game_encoder.fit_transform(df['game_name'])\n",
    "\n",
    "# Select features for churn prediction\n",
    "features = ['total_games_played', 'win_ratio', 'total_time_played_minutes', 'total_moves',\n",
    "            'gender_encoded', 'country_encoded','game_encoded', 'age']\n",
    "\n",
    "X = df[features]\n",
    "y = df['is_churned']"
   ],
   "id": "9eeff97f2f9b33b5",
   "outputs": [],
   "execution_count": 6
  },
  {
   "metadata": {
    "ExecuteTime": {
     "end_time": "2024-12-21T12:29:39.686450Z",
     "start_time": "2024-12-21T12:29:39.673750Z"
    }
   },
   "cell_type": "code",
   "source": [
    "# Split the data\n",
    "X_train, X_test, y_train, y_test = train_test_split(X, y, test_size=0.2, random_state=42)"
   ],
   "id": "aa2960982d572cbc",
   "outputs": [],
   "execution_count": 7
  },
  {
   "metadata": {
    "ExecuteTime": {
     "end_time": "2024-12-21T12:29:39.764199Z",
     "start_time": "2024-12-21T12:29:39.753394Z"
    }
   },
   "cell_type": "code",
   "source": [
    "# Scale the features\n",
    "scaler = StandardScaler()\n",
    "X_train_scaled = scaler.fit_transform(X_train)\n",
    "X_test_scaled = scaler.transform(X_test)"
   ],
   "id": "1ff828fc6464bc38",
   "outputs": [],
   "execution_count": 8
  },
  {
   "metadata": {
    "ExecuteTime": {
     "end_time": "2024-12-21T12:29:39.796021Z",
     "start_time": "2024-12-21T12:29:39.779555Z"
    }
   },
   "cell_type": "code",
   "source": [
    "# Initialize models\n",
    "models = {\n",
    "    'Random Forest': RandomForestClassifier(random_state=42),\n",
    "    'Gradient Boosting': GradientBoostingClassifier(random_state=42),\n",
    "    'Logistic Regression': LogisticRegression(random_state=42),\n",
    "    'SVM': SVC(random_state=42)\n",
    "}\n"
   ],
   "id": "8cbe7987f824d19a",
   "outputs": [],
   "execution_count": 9
  },
  {
   "metadata": {
    "ExecuteTime": {
     "end_time": "2024-12-21T12:29:43.426762Z",
     "start_time": "2024-12-21T12:29:39.830010Z"
    }
   },
   "cell_type": "code",
   "source": [
    "# Train and evaluate each model\n",
    "results = {}\n",
    "for name, model in models.items():\n",
    "    # Train the model\n",
    "    model.fit(X_train_scaled, y_train)\n",
    "    \n",
    "    # Make predictions\n",
    "    y_pred = model.predict(X_test_scaled)\n",
    "    \n",
    "    # Store results\n",
    "    results[name] = {\n",
    "        'Classification Report': classification_report(y_test, y_pred, zero_division=0),\n",
    "        'Confusion Matrix': confusion_matrix(y_test, y_pred)\n",
    "    }\n",
    "    \n",
    "    # Cross-validation score\n",
    "    cv_scores = cross_val_score(model, X_train_scaled, y_train, cv=5)\n",
    "    results[name]['CV Scores'] = cv_scores\n",
    "    print(f\"\\n{name} Results:\")\n",
    "    print(\"Cross-validation scores:\", cv_scores.mean())\n",
    "    print(\"\\nClassification Report:\")\n",
    "    print(results[name]['Classification Report'])\n",
    "    \n",
    "    # Plot confusion matrix\n",
    "    plt.figure(figsize=(8, 6))\n",
    "    sns.heatmap(results[name]['Confusion Matrix'], annot=True, fmt='d', cmap='Blues')\n",
    "    plt.title(f'Confusion Matrix - {name}')\n",
    "    plt.ylabel('True Label')\n",
    "    plt.xlabel('Predicted Label')\n",
    "    plt.show()"
   ],
   "id": "84ac771074b79b24",
   "outputs": [
    {
     "name": "stdout",
     "output_type": "stream",
     "text": [
      "\n",
      "Random Forest Results:\n",
      "Cross-validation scores: 0.9774999999999998\n",
      "\n",
      "Classification Report:\n",
      "              precision    recall  f1-score   support\n",
      "\n",
      "           0       0.97      0.99      0.98       181\n",
      "           1       0.93      0.68      0.79        19\n",
      "\n",
      "    accuracy                           0.96       200\n",
      "   macro avg       0.95      0.84      0.88       200\n",
      "weighted avg       0.96      0.96      0.96       200\n",
      "\n"
     ]
    },
    {
     "data": {
      "text/plain": [
       "<Figure size 800x600 with 2 Axes>"
      ],
      "image/png": "[encoded data removed]"
     },
     "metadata": {},
     "output_type": "display_data"
    },
    {
     "name": "stdout",
     "output_type": "stream",
     "text": [
      "\n",
      "Gradient Boosting Results:\n",
      "Cross-validation scores: 0.9712499999999998\n",
      "\n",
      "Classification Report:\n",
      "              precision    recall  f1-score   support\n",
      "\n",
      "           0       0.98      0.98      0.98       181\n",
      "           1       0.83      0.79      0.81        19\n",
      "\n",
      "    accuracy                           0.96       200\n",
      "   macro avg       0.91      0.89      0.90       200\n",
      "weighted avg       0.96      0.96      0.96       200\n",
      "\n"
     ]
    },
    {
     "data": {
      "text/plain": [
       "<Figure size 800x600 with 2 Axes>"
      ],
      "image/png": "[encoded data removed]"
     },
     "metadata": {},
     "output_type": "display_data"
    },
    {
     "name": "stdout",
     "output_type": "stream",
     "text": [
      "\n",
      "Logistic Regression Results:\n",
      "Cross-validation scores: 0.95375\n",
      "\n",
      "Classification Report:\n",
      "              precision    recall  f1-score   support\n",
      "\n",
      "           0       0.92      1.00      0.96       181\n",
      "           1       1.00      0.16      0.27        19\n",
      "\n",
      "    accuracy                           0.92       200\n",
      "   macro avg       0.96      0.58      0.62       200\n",
      "weighted avg       0.93      0.92      0.89       200\n",
      "\n"
     ]
    },
    {
     "data": {
      "text/plain": [
       "<Figure size 800x600 with 2 Axes>"
      ],
      "image/png": "[encoded data removed]"
     },
     "metadata": {},
     "output_type": "display_data"
    },
    {
     "name": "stdout",
     "output_type": "stream",
     "text": [
      "\n",
      "SVM Results:\n",
      "Cross-validation scores: 0.95\n",
      "\n",
      "Classification Report:\n",
      "              precision    recall  f1-score   support\n",
      "\n",
      "           0       0.91      1.00      0.95       181\n",
      "           1       0.00      0.00      0.00        19\n",
      "\n",
      "    accuracy                           0.91       200\n",
      "   macro avg       0.45      0.50      0.48       200\n",
      "weighted avg       0.82      0.91      0.86       200\n",
      "\n"
     ]
    },
    {
     "data": {
      "text/plain": [
       "<Figure size 800x600 with 2 Axes>"
      ],
      "image/png": "[encoded data removed]"
     },
     "metadata": {},
     "output_type": "display_data"
    }
   ],
   "execution_count": 10
  },
  {
   "metadata": {
    "ExecuteTime": {
     "end_time": "2024-12-21T12:29:43.659620Z",
     "start_time": "2024-12-21T12:29:43.476338Z"
    }
   },
   "cell_type": "code",
   "source": [
    "# Feature Importance for Random Forest\n",
    "rf_model = models['Random Forest']\n",
    "feature_importance = pd.DataFrame({\n",
    "    'feature': features,\n",
    "    'importance': rf_model.feature_importances_\n",
    "})\n",
    "feature_importance = feature_importance.sort_values('importance', ascending=False)\n",
    "\n",
    "plt.figure(figsize=(10, 6))\n",
    "sns.barplot(data=feature_importance, x='importance', y='feature')\n",
    "plt.title('Feature Importance for Churn Prediction')\n",
    "plt.show()"
   ],
   "id": "18f0f9834fa0a488",
   "outputs": [
    {
     "data": {
      "text/plain": [
       "<Figure size 1000x600 with 1 Axes>"
      ],
      "image/png": "[encoded data removed]"
     },
     "metadata": {},
     "output_type": "display_data"
    }
   ],
   "execution_count": 11
  },
  {
   "metadata": {
    "ExecuteTime": {
     "end_time": "2024-12-21T12:29:43.860462Z",
     "start_time": "2024-12-21T12:29:43.692393Z"
    }
   },
   "cell_type": "code",
   "source": [
    "# Feature Importance for Gradient Boosting\n",
    "rf_model = models['Gradient Boosting']\n",
    "feature_importance = pd.DataFrame({\n",
    "    'feature': features,\n",
    "    'importance': rf_model.feature_importances_\n",
    "})\n",
    "feature_importance = feature_importance.sort_values('importance', ascending=False)\n",
    "\n",
    "plt.figure(figsize=(10, 6))\n",
    "sns.barplot(data=feature_importance, x='importance', y='feature')\n",
    "plt.title('Feature Importance for Churn Prediction')\n",
    "plt.show()"
   ],
   "id": "2abf60b093f9c159",
   "outputs": [
    {
     "data": {
      "text/plain": [
       "<Figure size 1000x600 with 1 Axes>"
      ],
      "image/png": "[encoded data removed]"
     },
     "metadata": {},
     "output_type": "display_data"
    }
   ],
   "execution_count": 12
  },
  {
   "metadata": {
    "ExecuteTime": {
     "end_time": "2024-12-21T12:29:43.907629Z",
     "start_time": "2024-12-21T12:29:43.893580Z"
    }
   },
   "cell_type": "code",
   "source": "display(y.value_counts())",
   "id": "8e70853fc53e8318",
   "outputs": [
    {
     "data": {
      "text/plain": [
       "is_churned\n",
       "0    941\n",
       "1     59\n",
       "Name: count, dtype: int64"
      ]
     },
     "metadata": {},
     "output_type": "display_data"
    }
   ],
   "execution_count": 13
  },
  {
   "metadata": {
    "ExecuteTime": {
     "end_time": "2024-12-21T12:29:43.954327Z",
     "start_time": "2024-12-21T12:29:43.941590Z"
    }
   },
   "cell_type": "code",
   "source": [
    "# Select the best model based on cross-validation scores\n",
    "best_model_name = max(results, key=lambda x: np.mean(results[x]['CV Scores']))\n",
    "best_model = models[best_model_name]\n",
    "best_cv_score = np.mean(results[best_model_name]['CV Scores'])\n",
    "\n",
    "print(f\"\\nBest Model: {best_model_name}\")\n",
    "print(f\"Best Cross-validation Score: {best_cv_score:.4f}\")"
   ],
   "id": "486e9b563b493d63",
   "outputs": [
    {
     "name": "stdout",
     "output_type": "stream",
     "text": [
      "\n",
      "Best Model: Random Forest\n",
      "Best Cross-validation Score: 0.9775\n"
     ]
    }
   ],
   "execution_count": 14
  },
  {
   "metadata": {
    "ExecuteTime": {
     "end_time": "2024-12-21T12:29:44.064507Z",
     "start_time": "2024-12-21T12:29:44.038829Z"
    }
   },
   "cell_type": "code",
   "source": [
    "# Save the best model\n",
    "with open('../models/churn_model.pkl','wb') as f:\n",
    "    pickle.dump(best_model, f)\n",
    "\n",
    "# Save the scaler\n",
    "with open('../models/churn_scaler.pkl','wb') as f:\n",
    "    pickle.dump(scaler, f)\n",
    "\n",
    "# Save the label encoders\n",
    "encoder_dict = {\n",
    "    'gender_encoder': gender_encoder,\n",
    "    'country_encoder': country_encoder,\n",
    "    'game_encoder': game_encoder\n",
    "}\n",
    "\n",
    "with open('../models/churn_encoders.pkl','wb') as f:\n",
    "    pickle.dump(encoder_dict, f)\n",
    "    \n"
   ],
   "id": "5b2949235fde3545",
   "outputs": [],
   "execution_count": 15
  },
  {
   "metadata": {
    "ExecuteTime": {
     "end_time": "2024-12-21T12:29:44.156967Z",
     "start_time": "2024-12-21T12:29:44.144831Z"
    }
   },
   "cell_type": "code",
   "source": [
    "def load_churn_model():\n",
    "    \"\"\"Load the saved churn prediction model and preprocessing objects\"\"\"\n",
    "    with open('../models/churn_model.pkl', 'rb') as f:\n",
    "        model = pickle.load(f)\n",
    "\n",
    "    with open('../models/churn_scaler.pkl', 'rb') as f:\n",
    "        scaler = pickle.load(f)\n",
    "\n",
    "    with open('../models/churn_encoders.pkl', 'rb') as f:\n",
    "        encoders = pickle.load(f)\n",
    "\n",
    "    return model, scaler, encoders"
   ],
   "id": "16cb072f1db70a7f",
   "outputs": [],
   "execution_count": 16
  },
  {
   "metadata": {
    "ExecuteTime": {
     "end_time": "2024-12-21T12:29:44.203184Z",
     "start_time": "2024-12-21T12:29:44.167664Z"
    }
   },
   "cell_type": "code",
   "source": [
    "def predict_churn(data, model, scaler, encoders):\n",
    "    \"\"\"\n",
    "    Make churn predictions on new data\n",
    "\n",
    "    Parameters:\n",
    "    data (pd.DataFrame): DataFrame containing the required features\n",
    "    model: Loaded model\n",
    "    scaler: Loaded scaler\n",
    "    gender_encoder: LabelEncoder for gender\n",
    "    country_encoder: LabelEncoder for country\n",
    "    game_encoder: LabelEncoder for game\n",
    "\n",
    "    Returns:\n",
    "    np.array: Predicted churn probabilities\n",
    "    \"\"\"\n",
    "    # Preprocess the data\n",
    "    data_processed = data.copy()\n",
    "\n",
    "    # Encode categorical variables - direct use of encoder objects\n",
    "    data_processed['gender_encoded'] = encoders['gender_encoder'].transform(data_processed['gender'])\n",
    "    data_processed['country_encoded'] = encoders['country_encoder'].transform(data_processed['country'])\n",
    "    data_processed['game_encoded'] = game_encoder.transform(data_processed['game_name'])\n",
    "\n",
    "    # Select and scale features\n",
    "    features = ['total_games_played', 'win_ratio', 'total_time_played_minutes', 'total_moves',\n",
    "            'gender_encoded', 'country_encoded','game_encoded', 'age']\n",
    "    X = data_processed[features]\n",
    "    X_scaled = scaler.transform(X)\n",
    "\n",
    "    # Make predictions\n",
    "    return model.predict(X_scaled)\n",
    "\n",
    "\n",
    "# Example usage\n",
    "import pandas as pd\n",
    "\n",
    "# Load the saved model and components\n",
    "model, scaler, encoders = load_churn_model()\n",
    "\n",
    "# Create a sample input\n",
    "sample_input = pd.DataFrame({\n",
    "    'total_games_played': [100],\n",
    "    'win_ratio': [6.0],\n",
    "    'total_time_played_minutes': [5000],\n",
    "    'total_moves': [60],\n",
    "    'gender': ['Male'],  \n",
    "    'country': ['South Korea'], \n",
    "    'game_name': ['battleship'], \n",
    "    'age': [27]\n",
    "})\n",
    "\n",
    "# Make prediction\n",
    "prediction = predict_churn(sample_input, model, scaler, encoders)\n",
    "print(f\"Churn Prediction for sample input: {'Yes' if prediction[0] else 'No'}\")"
   ],
   "id": "dbeabdb15ce4ad2c",
   "outputs": [
    {
     "name": "stdout",
     "output_type": "stream",
     "text": [
      "Churn Prediction for sample input: No\n"
     ]
    }
   ],
   "execution_count": 17
  },
  {
   "metadata": {
    "ExecuteTime": {
     "end_time": "2024-12-21T12:29:44.265200Z",
     "start_time": "2024-12-21T12:29:44.253026Z"
    }
   },
   "cell_type": "code",
   "source": [
    "# Print available categories\n",
    "print(\"Available countries:\", country_encoder.classes_)\n",
    "print(\"Available genders:\", gender_encoder.classes_)\n"
   ],
   "id": "566d30ef2eb68a0b",
   "outputs": [
    {
     "name": "stdout",
     "output_type": "stream",
     "text": [
      "Available countries: ['Australia' 'Brazil' 'Canada' 'China' 'France' 'Germany' 'India' 'Japan'\n",
      " 'Netherlands' 'Russia' 'Singapore' 'South Korea' 'Spain' 'UK' 'USA']\n",
      "Available genders: ['Female' 'Male' 'Non-Binary']\n"
     ]
    }
   ],
   "execution_count": 18
  }
 ],
 "metadata": {
  "kernelspec": {
   "display_name": "Python 3",
   "language": "python",
   "name": "python3"
  },
  "language_info": {
   "codemirror_mode": {
    "name": "ipython",
    "version": 2
   },
   "file_extension": ".py",
   "mimetype": "text/x-python",
   "name": "python",
   "nbconvert_exporter": "python",
   "pygments_lexer": "ipython2",
   "version": "2.7.6"
  }
 },
 "nbformat": 4,
 "nbformat_minor": 5
}
