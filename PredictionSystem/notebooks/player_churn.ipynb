{
 "cells": [
  {
   "metadata": {},
   "cell_type": "markdown",
   "source": [
    "## Player Churn Prediction\n",
    "\n",
    "\n",
    "### This notebook predicts player churn using multiple ML algorithms"
   ],
   "id": "7634223a7c920073"
  },
  {
   "metadata": {},
   "cell_type": "markdown",
   "source": "### Import required libraries",
   "id": "c6d46ce8862550d4"
  },
  {
   "cell_type": "code",
   "id": "initial_id",
   "metadata": {
    "collapsed": true,
    "ExecuteTime": {
     "end_time": "2025-01-09T20:07:34.576323Z",
     "start_time": "2025-01-09T20:07:33.832177Z"
    }
   },
   "source": [
    "import pandas as pd\n",
    "import numpy as np\n",
    "from sklearn.model_selection import train_test_split, cross_val_score, StratifiedKFold\n",
    "from sklearn.preprocessing import StandardScaler, LabelEncoder, OneHotEncoder\n",
    "from sklearn.ensemble import RandomForestClassifier, GradientBoostingClassifier\n",
    "from sklearn.linear_model import LogisticRegression\n",
    "from sklearn.svm import SVC\n",
    "from sklearn.metrics import accuracy_score, classification_report, confusion_matrix, roc_curve, auc\n",
    "import matplotlib.pyplot as plt\n",
    "import seaborn as sns\n",
    "from imblearn.over_sampling import SMOTE\n",
    "import xgboost as xgb\n",
    "import pickle\n"
   ],
   "outputs": [],
   "execution_count": 1
  },
  {
   "metadata": {},
   "cell_type": "markdown",
   "source": "### Load data",
   "id": "8fea2e25ca2663e5"
  },
  {
   "metadata": {
    "ExecuteTime": {
     "end_time": "2025-01-09T20:07:34.638019Z",
     "start_time": "2025-01-09T20:07:34.607909Z"
    }
   },
   "cell_type": "code",
   "source": [
    "df = pd.read_csv('../player_game_statistics.csv')\n",
    "df.head()"
   ],
   "id": "1ae184cd10cc1a36",
   "outputs": [
    {
     "data": {
      "text/plain": [
       "    player_name   game_name  total_games_played  total_wins  total_losses  \\\n",
       "0     David Ali  battleship                  37          21            16   \n",
       "1  Mohammed Ali  battleship                  88          44            44   \n",
       "2   Amir Nguyen  battleship                 136          42            94   \n",
       "3  Sophia Brown  battleship                 120          86            34   \n",
       "4  Elena Garcia     reversi                  19           3            16   \n",
       "\n",
       "   total_moves  total_time_played_minutes  win_ratio  age gender      country  \\\n",
       "0         1766                        919      56.76   64   Male  South Korea   \n",
       "1         4267                       2416      50.00   51   Male        Japan   \n",
       "2         6592                       3597      30.88   18   Male          USA   \n",
       "3         6016                       3259      71.67   43   Male       Brazil   \n",
       "4          249                        244      15.79   64   Male        Japan   \n",
       "\n",
       "   is_churned  player_level  engagement_level  win_probability  \n",
       "0           0  intermediate             73.18           0.5676  \n",
       "1           0  intermediate            100.00           0.5000  \n",
       "2           0  intermediate            100.00           0.3088  \n",
       "3           0        expert            100.00           0.7167  \n",
       "4           0  intermediate             52.48           0.1579  "
      ],
      "text/html": [
       "<div>\n",
       "<style scoped>\n",
       "    .dataframe tbody tr th:only-of-type {\n",
       "        vertical-align: middle;\n",
       "    }\n",
       "\n",
       "    .dataframe tbody tr th {\n",
       "        vertical-align: top;\n",
       "    }\n",
       "\n",
       "    .dataframe thead th {\n",
       "        text-align: right;\n",
       "    }\n",
       "</style>\n",
       "<table border=\"1\" class=\"dataframe\">\n",
       "  <thead>\n",
       "    <tr style=\"text-align: right;\">\n",
       "      <th></th>\n",
       "      <th>player_name</th>\n",
       "      <th>game_name</th>\n",
       "      <th>total_games_played</th>\n",
       "      <th>total_wins</th>\n",
       "      <th>total_losses</th>\n",
       "      <th>total_moves</th>\n",
       "      <th>total_time_played_minutes</th>\n",
       "      <th>win_ratio</th>\n",
       "      <th>age</th>\n",
       "      <th>gender</th>\n",
       "      <th>country</th>\n",
       "      <th>is_churned</th>\n",
       "      <th>player_level</th>\n",
       "      <th>engagement_level</th>\n",
       "      <th>win_probability</th>\n",
       "    </tr>\n",
       "  </thead>\n",
       "  <tbody>\n",
       "    <tr>\n",
       "      <th>0</th>\n",
       "      <td>David Ali</td>\n",
       "      <td>battleship</td>\n",
       "      <td>37</td>\n",
       "      <td>21</td>\n",
       "      <td>16</td>\n",
       "      <td>1766</td>\n",
       "      <td>919</td>\n",
       "      <td>56.76</td>\n",
       "      <td>64</td>\n",
       "      <td>Male</td>\n",
       "      <td>South Korea</td>\n",
       "      <td>0</td>\n",
       "      <td>intermediate</td>\n",
       "      <td>73.18</td>\n",
       "      <td>0.5676</td>\n",
       "    </tr>\n",
       "    <tr>\n",
       "      <th>1</th>\n",
       "      <td>Mohammed Ali</td>\n",
       "      <td>battleship</td>\n",
       "      <td>88</td>\n",
       "      <td>44</td>\n",
       "      <td>44</td>\n",
       "      <td>4267</td>\n",
       "      <td>2416</td>\n",
       "      <td>50.00</td>\n",
       "      <td>51</td>\n",
       "      <td>Male</td>\n",
       "      <td>Japan</td>\n",
       "      <td>0</td>\n",
       "      <td>intermediate</td>\n",
       "      <td>100.00</td>\n",
       "      <td>0.5000</td>\n",
       "    </tr>\n",
       "    <tr>\n",
       "      <th>2</th>\n",
       "      <td>Amir Nguyen</td>\n",
       "      <td>battleship</td>\n",
       "      <td>136</td>\n",
       "      <td>42</td>\n",
       "      <td>94</td>\n",
       "      <td>6592</td>\n",
       "      <td>3597</td>\n",
       "      <td>30.88</td>\n",
       "      <td>18</td>\n",
       "      <td>Male</td>\n",
       "      <td>USA</td>\n",
       "      <td>0</td>\n",
       "      <td>intermediate</td>\n",
       "      <td>100.00</td>\n",
       "      <td>0.3088</td>\n",
       "    </tr>\n",
       "    <tr>\n",
       "      <th>3</th>\n",
       "      <td>Sophia Brown</td>\n",
       "      <td>battleship</td>\n",
       "      <td>120</td>\n",
       "      <td>86</td>\n",
       "      <td>34</td>\n",
       "      <td>6016</td>\n",
       "      <td>3259</td>\n",
       "      <td>71.67</td>\n",
       "      <td>43</td>\n",
       "      <td>Male</td>\n",
       "      <td>Brazil</td>\n",
       "      <td>0</td>\n",
       "      <td>expert</td>\n",
       "      <td>100.00</td>\n",
       "      <td>0.7167</td>\n",
       "    </tr>\n",
       "    <tr>\n",
       "      <th>4</th>\n",
       "      <td>Elena Garcia</td>\n",
       "      <td>reversi</td>\n",
       "      <td>19</td>\n",
       "      <td>3</td>\n",
       "      <td>16</td>\n",
       "      <td>249</td>\n",
       "      <td>244</td>\n",
       "      <td>15.79</td>\n",
       "      <td>64</td>\n",
       "      <td>Male</td>\n",
       "      <td>Japan</td>\n",
       "      <td>0</td>\n",
       "      <td>intermediate</td>\n",
       "      <td>52.48</td>\n",
       "      <td>0.1579</td>\n",
       "    </tr>\n",
       "  </tbody>\n",
       "</table>\n",
       "</div>"
      ]
     },
     "execution_count": 2,
     "metadata": {},
     "output_type": "execute_result"
    }
   ],
   "execution_count": 2
  },
  {
   "metadata": {},
   "cell_type": "markdown",
   "source": "### Examine the data",
   "id": "9f8fe8efba2aef87"
  },
  {
   "metadata": {
    "ExecuteTime": {
     "end_time": "2025-01-09T20:07:34.823124Z",
     "start_time": "2025-01-09T20:07:34.793330Z"
    }
   },
   "cell_type": "code",
   "source": [
    "print(\"Dataset shape:\", df.shape)\n",
    "print(\"\\nFirst few rows:\")\n",
    "print(df.head())\n",
    "print(\"\\nData info:\")\n",
    "print(df.info())"
   ],
   "id": "17dc8498980b2c1b",
   "outputs": [
    {
     "name": "stdout",
     "output_type": "stream",
     "text": [
      "Dataset shape: (1000, 15)\n",
      "\n",
      "First few rows:\n",
      "    player_name   game_name  total_games_played  total_wins  total_losses  \\\n",
      "0     David Ali  battleship                  37          21            16   \n",
      "1  Mohammed Ali  battleship                  88          44            44   \n",
      "2   Amir Nguyen  battleship                 136          42            94   \n",
      "3  Sophia Brown  battleship                 120          86            34   \n",
      "4  Elena Garcia     reversi                  19           3            16   \n",
      "\n",
      "   total_moves  total_time_played_minutes  win_ratio  age gender      country  \\\n",
      "0         1766                        919      56.76   64   Male  South Korea   \n",
      "1         4267                       2416      50.00   51   Male        Japan   \n",
      "2         6592                       3597      30.88   18   Male          USA   \n",
      "3         6016                       3259      71.67   43   Male       Brazil   \n",
      "4          249                        244      15.79   64   Male        Japan   \n",
      "\n",
      "   is_churned  player_level  engagement_level  win_probability  \n",
      "0           0  intermediate             73.18           0.5676  \n",
      "1           0  intermediate            100.00           0.5000  \n",
      "2           0  intermediate            100.00           0.3088  \n",
      "3           0        expert            100.00           0.7167  \n",
      "4           0  intermediate             52.48           0.1579  \n",
      "\n",
      "Data info:\n",
      "<class 'pandas.core.frame.DataFrame'>\n",
      "RangeIndex: 1000 entries, 0 to 999\n",
      "Data columns (total 15 columns):\n",
      " #   Column                     Non-Null Count  Dtype  \n",
      "---  ------                     --------------  -----  \n",
      " 0   player_name                1000 non-null   object \n",
      " 1   game_name                  1000 non-null   object \n",
      " 2   total_games_played         1000 non-null   int64  \n",
      " 3   total_wins                 1000 non-null   int64  \n",
      " 4   total_losses               1000 non-null   int64  \n",
      " 5   total_moves                1000 non-null   int64  \n",
      " 6   total_time_played_minutes  1000 non-null   int64  \n",
      " 7   win_ratio                  1000 non-null   float64\n",
      " 8   age                        1000 non-null   int64  \n",
      " 9   gender                     1000 non-null   object \n",
      " 10  country                    1000 non-null   object \n",
      " 11  is_churned                 1000 non-null   int64  \n",
      " 12  player_level               1000 non-null   object \n",
      " 13  engagement_level           1000 non-null   float64\n",
      " 14  win_probability            1000 non-null   float64\n",
      "dtypes: float64(3), int64(7), object(5)\n",
      "memory usage: 117.3+ KB\n",
      "None\n"
     ]
    }
   ],
   "execution_count": 3
  },
  {
   "metadata": {
    "ExecuteTime": {
     "end_time": "2025-01-09T20:07:34.931201Z",
     "start_time": "2025-01-09T20:07:34.909948Z"
    }
   },
   "cell_type": "code",
   "source": "df.head(10)",
   "id": "df4ec746f9c5bea3",
   "outputs": [
    {
     "data": {
      "text/plain": [
       "     player_name   game_name  total_games_played  total_wins  total_losses  \\\n",
       "0      David Ali  battleship                  37          21            16   \n",
       "1   Mohammed Ali  battleship                  88          44            44   \n",
       "2    Amir Nguyen  battleship                 136          42            94   \n",
       "3   Sophia Brown  battleship                 120          86            34   \n",
       "4   Elena Garcia     reversi                  19           3            16   \n",
       "5    John Tanaka     reversi                   2           1             1   \n",
       "6       John Liu  battleship                 106          29            77   \n",
       "7  Carlos Tanaka  battleship                 123          39            84   \n",
       "8   Haruto Davis       chess                  89          25            59   \n",
       "9   Raj Williams       chess                  28          15            13   \n",
       "\n",
       "   total_moves  total_time_played_minutes  win_ratio  age gender      country  \\\n",
       "0         1766                        919      56.76   64   Male  South Korea   \n",
       "1         4267                       2416      50.00   51   Male        Japan   \n",
       "2         6592                       3597      30.88   18   Male          USA   \n",
       "3         6016                       3259      71.67   43   Male       Brazil   \n",
       "4          249                        244      15.79   64   Male        Japan   \n",
       "5            6                         18      50.00   51   Male        China   \n",
       "6         5086                       2936      27.36   32   Male        China   \n",
       "7         5765                       3180      31.71   27   Male       Brazil   \n",
       "8         4186                       3545      28.09   50   Male          USA   \n",
       "9         1320                       1152      53.57   18   Male       Canada   \n",
       "\n",
       "   is_churned  player_level  engagement_level  win_probability  \n",
       "0           0  intermediate             73.18           0.5676  \n",
       "1           0  intermediate            100.00           0.5000  \n",
       "2           0  intermediate            100.00           0.3088  \n",
       "3           0        expert            100.00           0.7167  \n",
       "4           0  intermediate             52.48           0.1579  \n",
       "5           1        novice             41.16           0.5000  \n",
       "6           0  intermediate            100.00           0.2736  \n",
       "7           0  intermediate            100.00           0.3171  \n",
       "8           0  intermediate            100.00           0.2809  \n",
       "9           0  intermediate             74.24           0.5357  "
      ],
      "text/html": [
       "<div>\n",
       "<style scoped>\n",
       "    .dataframe tbody tr th:only-of-type {\n",
       "        vertical-align: middle;\n",
       "    }\n",
       "\n",
       "    .dataframe tbody tr th {\n",
       "        vertical-align: top;\n",
       "    }\n",
       "\n",
       "    .dataframe thead th {\n",
       "        text-align: right;\n",
       "    }\n",
       "</style>\n",
       "<table border=\"1\" class=\"dataframe\">\n",
       "  <thead>\n",
       "    <tr style=\"text-align: right;\">\n",
       "      <th></th>\n",
       "      <th>player_name</th>\n",
       "      <th>game_name</th>\n",
       "      <th>total_games_played</th>\n",
       "      <th>total_wins</th>\n",
       "      <th>total_losses</th>\n",
       "      <th>total_moves</th>\n",
       "      <th>total_time_played_minutes</th>\n",
       "      <th>win_ratio</th>\n",
       "      <th>age</th>\n",
       "      <th>gender</th>\n",
       "      <th>country</th>\n",
       "      <th>is_churned</th>\n",
       "      <th>player_level</th>\n",
       "      <th>engagement_level</th>\n",
       "      <th>win_probability</th>\n",
       "    </tr>\n",
       "  </thead>\n",
       "  <tbody>\n",
       "    <tr>\n",
       "      <th>0</th>\n",
       "      <td>David Ali</td>\n",
       "      <td>battleship</td>\n",
       "      <td>37</td>\n",
       "      <td>21</td>\n",
       "      <td>16</td>\n",
       "      <td>1766</td>\n",
       "      <td>919</td>\n",
       "      <td>56.76</td>\n",
       "      <td>64</td>\n",
       "      <td>Male</td>\n",
       "      <td>South Korea</td>\n",
       "      <td>0</td>\n",
       "      <td>intermediate</td>\n",
       "      <td>73.18</td>\n",
       "      <td>0.5676</td>\n",
       "    </tr>\n",
       "    <tr>\n",
       "      <th>1</th>\n",
       "      <td>Mohammed Ali</td>\n",
       "      <td>battleship</td>\n",
       "      <td>88</td>\n",
       "      <td>44</td>\n",
       "      <td>44</td>\n",
       "      <td>4267</td>\n",
       "      <td>2416</td>\n",
       "      <td>50.00</td>\n",
       "      <td>51</td>\n",
       "      <td>Male</td>\n",
       "      <td>Japan</td>\n",
       "      <td>0</td>\n",
       "      <td>intermediate</td>\n",
       "      <td>100.00</td>\n",
       "      <td>0.5000</td>\n",
       "    </tr>\n",
       "    <tr>\n",
       "      <th>2</th>\n",
       "      <td>Amir Nguyen</td>\n",
       "      <td>battleship</td>\n",
       "      <td>136</td>\n",
       "      <td>42</td>\n",
       "      <td>94</td>\n",
       "      <td>6592</td>\n",
       "      <td>3597</td>\n",
       "      <td>30.88</td>\n",
       "      <td>18</td>\n",
       "      <td>Male</td>\n",
       "      <td>USA</td>\n",
       "      <td>0</td>\n",
       "      <td>intermediate</td>\n",
       "      <td>100.00</td>\n",
       "      <td>0.3088</td>\n",
       "    </tr>\n",
       "    <tr>\n",
       "      <th>3</th>\n",
       "      <td>Sophia Brown</td>\n",
       "      <td>battleship</td>\n",
       "      <td>120</td>\n",
       "      <td>86</td>\n",
       "      <td>34</td>\n",
       "      <td>6016</td>\n",
       "      <td>3259</td>\n",
       "      <td>71.67</td>\n",
       "      <td>43</td>\n",
       "      <td>Male</td>\n",
       "      <td>Brazil</td>\n",
       "      <td>0</td>\n",
       "      <td>expert</td>\n",
       "      <td>100.00</td>\n",
       "      <td>0.7167</td>\n",
       "    </tr>\n",
       "    <tr>\n",
       "      <th>4</th>\n",
       "      <td>Elena Garcia</td>\n",
       "      <td>reversi</td>\n",
       "      <td>19</td>\n",
       "      <td>3</td>\n",
       "      <td>16</td>\n",
       "      <td>249</td>\n",
       "      <td>244</td>\n",
       "      <td>15.79</td>\n",
       "      <td>64</td>\n",
       "      <td>Male</td>\n",
       "      <td>Japan</td>\n",
       "      <td>0</td>\n",
       "      <td>intermediate</td>\n",
       "      <td>52.48</td>\n",
       "      <td>0.1579</td>\n",
       "    </tr>\n",
       "    <tr>\n",
       "      <th>5</th>\n",
       "      <td>John Tanaka</td>\n",
       "      <td>reversi</td>\n",
       "      <td>2</td>\n",
       "      <td>1</td>\n",
       "      <td>1</td>\n",
       "      <td>6</td>\n",
       "      <td>18</td>\n",
       "      <td>50.00</td>\n",
       "      <td>51</td>\n",
       "      <td>Male</td>\n",
       "      <td>China</td>\n",
       "      <td>1</td>\n",
       "      <td>novice</td>\n",
       "      <td>41.16</td>\n",
       "      <td>0.5000</td>\n",
       "    </tr>\n",
       "    <tr>\n",
       "      <th>6</th>\n",
       "      <td>John Liu</td>\n",
       "      <td>battleship</td>\n",
       "      <td>106</td>\n",
       "      <td>29</td>\n",
       "      <td>77</td>\n",
       "      <td>5086</td>\n",
       "      <td>2936</td>\n",
       "      <td>27.36</td>\n",
       "      <td>32</td>\n",
       "      <td>Male</td>\n",
       "      <td>China</td>\n",
       "      <td>0</td>\n",
       "      <td>intermediate</td>\n",
       "      <td>100.00</td>\n",
       "      <td>0.2736</td>\n",
       "    </tr>\n",
       "    <tr>\n",
       "      <th>7</th>\n",
       "      <td>Carlos Tanaka</td>\n",
       "      <td>battleship</td>\n",
       "      <td>123</td>\n",
       "      <td>39</td>\n",
       "      <td>84</td>\n",
       "      <td>5765</td>\n",
       "      <td>3180</td>\n",
       "      <td>31.71</td>\n",
       "      <td>27</td>\n",
       "      <td>Male</td>\n",
       "      <td>Brazil</td>\n",
       "      <td>0</td>\n",
       "      <td>intermediate</td>\n",
       "      <td>100.00</td>\n",
       "      <td>0.3171</td>\n",
       "    </tr>\n",
       "    <tr>\n",
       "      <th>8</th>\n",
       "      <td>Haruto Davis</td>\n",
       "      <td>chess</td>\n",
       "      <td>89</td>\n",
       "      <td>25</td>\n",
       "      <td>59</td>\n",
       "      <td>4186</td>\n",
       "      <td>3545</td>\n",
       "      <td>28.09</td>\n",
       "      <td>50</td>\n",
       "      <td>Male</td>\n",
       "      <td>USA</td>\n",
       "      <td>0</td>\n",
       "      <td>intermediate</td>\n",
       "      <td>100.00</td>\n",
       "      <td>0.2809</td>\n",
       "    </tr>\n",
       "    <tr>\n",
       "      <th>9</th>\n",
       "      <td>Raj Williams</td>\n",
       "      <td>chess</td>\n",
       "      <td>28</td>\n",
       "      <td>15</td>\n",
       "      <td>13</td>\n",
       "      <td>1320</td>\n",
       "      <td>1152</td>\n",
       "      <td>53.57</td>\n",
       "      <td>18</td>\n",
       "      <td>Male</td>\n",
       "      <td>Canada</td>\n",
       "      <td>0</td>\n",
       "      <td>intermediate</td>\n",
       "      <td>74.24</td>\n",
       "      <td>0.5357</td>\n",
       "    </tr>\n",
       "  </tbody>\n",
       "</table>\n",
       "</div>"
      ]
     },
     "execution_count": 4,
     "metadata": {},
     "output_type": "execute_result"
    }
   ],
   "execution_count": 4
  },
  {
   "metadata": {},
   "cell_type": "markdown",
   "source": "### Check class distribution",
   "id": "e297310f9745bf88"
  },
  {
   "metadata": {
    "ExecuteTime": {
     "end_time": "2025-01-09T20:07:35.056646Z",
     "start_time": "2025-01-09T20:07:35.043447Z"
    }
   },
   "cell_type": "code",
   "source": [
    "print(\"\\nChurn distribution:\")\n",
    "print(df['is_churned'].value_counts())\n",
    "print(\"\\nChurn distribution (percentage):\")\n",
    "print(df['is_churned'].value_counts(normalize=True) * 100)\n",
    "print(\"\\nThis shows an unbalanced dataset\")"
   ],
   "id": "277645c8881de0c3",
   "outputs": [
    {
     "name": "stdout",
     "output_type": "stream",
     "text": [
      "\n",
      "Churn distribution:\n",
      "is_churned\n",
      "0    941\n",
      "1     59\n",
      "Name: count, dtype: int64\n",
      "\n",
      "Churn distribution (percentage):\n",
      "is_churned\n",
      "0    94.1\n",
      "1     5.9\n",
      "Name: proportion, dtype: float64\n",
      "\n",
      "This shows an unbalanced dataset\n"
     ]
    }
   ],
   "execution_count": 5
  },
  {
   "metadata": {},
   "cell_type": "markdown",
   "source": "## Data Preprocessing for Churn Prediction",
   "id": "57224a3f87fbad7e"
  },
  {
   "metadata": {
    "ExecuteTime": {
     "end_time": "2025-01-09T20:07:35.506002Z",
     "start_time": "2025-01-09T20:07:35.153042Z"
    }
   },
   "cell_type": "code",
   "source": [
    "# Convert categorical variables - use separate encoders\n",
    "gender_encoder = LabelEncoder()\n",
    "country_encoder = LabelEncoder()\n",
    "game_encoder = LabelEncoder()\n",
    "\n",
    "# First, fit the encoders on the unique values including 'unknown'\n",
    "game_encoder.fit(list(df['game_name'].unique()) + ['unknown'])\n",
    "gender_encoder.fit(list(df['gender'].unique()) + ['unknown'])\n",
    "country_encoder.fit(list(df['country'].unique()) + ['unknown'])\n",
    "\n",
    "# Function to safely transform values\n",
    "def safe_transform(encoder, series):\n",
    "    transformed = series.copy()\n",
    "    unknown_value = len(encoder.classes_) - 1\n",
    "    \n",
    "    for idx, value in enumerate(series):\n",
    "        try:\n",
    "            transformed.iloc[idx] = encoder.transform([value])[0]\n",
    "        except:\n",
    "            transformed.iloc[idx] = unknown_value\n",
    "    \n",
    "    return transformed\n",
    "\n",
    "# Transform the data using safe transform\n",
    "df['game_encoded'] = safe_transform(game_encoder, df['game_name'])\n",
    "df['gender_encoded'] = safe_transform(gender_encoder, df['gender'])\n",
    "df['country_encoded'] = safe_transform(country_encoder, df['country'])\n",
    "\n",
    "# Select features for churn prediction\n",
    "features = ['total_games_played', 'win_ratio', 'total_time_played_minutes', 'total_moves',\n",
    "            'gender_encoded', 'country_encoded','game_encoded', 'age']\n",
    "\n",
    "X = df[features]\n",
    "y = df['is_churned']"
   ],
   "id": "9eeff97f2f9b33b5",
   "outputs": [],
   "execution_count": 6
  },
  {
   "metadata": {},
   "cell_type": "markdown",
   "source": "#### Split the data",
   "id": "83bbfc8a0dc57c74"
  },
  {
   "metadata": {
    "ExecuteTime": {
     "end_time": "2025-01-09T20:07:35.536486Z",
     "start_time": "2025-01-09T20:07:35.515055Z"
    }
   },
   "cell_type": "code",
   "source": "X_train, X_test, y_train, y_test = train_test_split(X, y, test_size=0.2, random_state=42)",
   "id": "aa2960982d572cbc",
   "outputs": [],
   "execution_count": 7
  },
  {
   "metadata": {},
   "cell_type": "markdown",
   "source": "#### Scale the features",
   "id": "deb01e8feeaadd08"
  },
  {
   "metadata": {
    "ExecuteTime": {
     "end_time": "2025-01-09T20:07:35.628812Z",
     "start_time": "2025-01-09T20:07:35.587212Z"
    }
   },
   "cell_type": "code",
   "source": [
    "scaler = StandardScaler()\n",
    "X_train_scaled = scaler.fit_transform(X_train)\n",
    "X_test_scaled = scaler.transform(X_test)\n",
    "\n",
    "# Apply SMOTE to balance the training data by Oversampling the minority class:\n",
    "smote = SMOTE(random_state=42)\n",
    "X_train_balanced, y_train_balanced = smote.fit_resample(X_train_scaled, y_train)\n",
    "\n",
    "# Check balanced class distribution\n",
    "print(\"\\nClass distribution after SMOTE balancing (training set):\")\n",
    "print(pd.Series(y_train_balanced).value_counts())\n",
    "print()\n",
    "print()\n",
    "print(\"Now the dataset is balanced!\")"
   ],
   "id": "1ff828fc6464bc38",
   "outputs": [
    {
     "name": "stdout",
     "output_type": "stream",
     "text": [
      "\n",
      "Class distribution after SMOTE balancing (training set):\n",
      "is_churned\n",
      "0    760\n",
      "1    760\n",
      "Name: count, dtype: int64\n",
      "\n",
      "\n",
      "Now the dataset is balanced!\n"
     ]
    }
   ],
   "execution_count": 8
  },
  {
   "metadata": {},
   "cell_type": "markdown",
   "source": "### Initialize models",
   "id": "89db9ef867bd1f5"
  },
  {
   "metadata": {
    "ExecuteTime": {
     "end_time": "2025-01-09T20:07:35.722721Z",
     "start_time": "2025-01-09T20:07:35.704531Z"
    }
   },
   "cell_type": "code",
   "source": [
    "models = {\n",
    "    'Random Forest': RandomForestClassifier(random_state=42, class_weight='balanced'),\n",
    "    'Gradient Boosting': GradientBoostingClassifier(random_state=42),\n",
    "    'Logistic Regression': LogisticRegression(random_state=42, class_weight='balanced'),\n",
    "    'SVM': SVC(random_state=42, class_weight='balanced')\n",
    "}\n"
   ],
   "id": "8cbe7987f824d19a",
   "outputs": [],
   "execution_count": 9
  },
  {
   "metadata": {},
   "cell_type": "markdown",
   "source": "### Train and evaluate each model",
   "id": "1e8d5dacb5d7ecb2"
  },
  {
   "metadata": {
    "ExecuteTime": {
     "end_time": "2025-01-09T20:07:39.391105Z",
     "start_time": "2025-01-09T20:07:35.820146Z"
    }
   },
   "cell_type": "code",
   "source": [
    "results = {}\n",
    "for name, model in models.items():\n",
    "    print(f\"\\nTraining {name}...\")\n",
    "    \n",
    "    # Train the model on balanced data\n",
    "    model.fit(X_train_balanced, y_train_balanced)\n",
    "    \n",
    "    # Make predictions\n",
    "    y_pred = model.predict(X_test_scaled)\n",
    "    \n",
    "    # Store results\n",
    "    results[name] = {\n",
    "        'Classification Report': classification_report(y_test, y_pred, zero_division=0),\n",
    "        'Confusion Matrix': confusion_matrix(y_test, y_pred)\n",
    "    }\n",
    "    \n",
    "    # Cross-validation score using stratified k-fold\n",
    "    cv = StratifiedKFold(n_splits=5, shuffle=True, random_state=42)\n",
    "    cv_scores = cross_val_score(model, X_train_balanced, y_train_balanced, cv=cv)\n",
    "    results[name]['CV Scores'] = cv_scores\n",
    "    \n",
    "    print(f\"\\n{name} Results:\")\n",
    "    print(\"Cross-validation scores:\", cv_scores.mean())\n",
    "    print(\"\\nClassification Report:\")\n",
    "    print(results[name]['Classification Report'])\n",
    "    "
   ],
   "id": "84ac771074b79b24",
   "outputs": [
    {
     "name": "stdout",
     "output_type": "stream",
     "text": [
      "\n",
      "Training Random Forest...\n",
      "\n",
      "Random Forest Results:\n",
      "Cross-validation scores: 0.975\n",
      "\n",
      "Classification Report:\n",
      "              precision    recall  f1-score   support\n",
      "\n",
      "           0       0.97      0.96      0.96       181\n",
      "           1       0.62      0.68      0.65        19\n",
      "\n",
      "    accuracy                           0.93       200\n",
      "   macro avg       0.79      0.82      0.81       200\n",
      "weighted avg       0.93      0.93      0.93       200\n",
      "\n",
      "\n",
      "Training Gradient Boosting...\n",
      "\n",
      "Gradient Boosting Results:\n",
      "Cross-validation scores: 0.9697368421052632\n",
      "\n",
      "Classification Report:\n",
      "              precision    recall  f1-score   support\n",
      "\n",
      "           0       0.98      0.96      0.97       181\n",
      "           1       0.65      0.79      0.71        19\n",
      "\n",
      "    accuracy                           0.94       200\n",
      "   macro avg       0.81      0.87      0.84       200\n",
      "weighted avg       0.95      0.94      0.94       200\n",
      "\n",
      "\n",
      "Training Logistic Regression...\n",
      "\n",
      "Logistic Regression Results:\n",
      "Cross-validation scores: 0.9184210526315789\n",
      "\n",
      "Classification Report:\n",
      "              precision    recall  f1-score   support\n",
      "\n",
      "           0       0.99      0.87      0.92       181\n",
      "           1       0.41      0.89      0.57        19\n",
      "\n",
      "    accuracy                           0.87       200\n",
      "   macro avg       0.70      0.88      0.75       200\n",
      "weighted avg       0.93      0.87      0.89       200\n",
      "\n",
      "\n",
      "Training SVM...\n",
      "\n",
      "SVM Results:\n",
      "Cross-validation scores: 0.9394736842105263\n",
      "\n",
      "Classification Report:\n",
      "              precision    recall  f1-score   support\n",
      "\n",
      "           0       0.99      0.88      0.93       181\n",
      "           1       0.45      0.95      0.61        19\n",
      "\n",
      "    accuracy                           0.89       200\n",
      "   macro avg       0.72      0.91      0.77       200\n",
      "weighted avg       0.94      0.89      0.90       200\n",
      "\n"
     ]
    }
   ],
   "execution_count": 10
  },
  {
   "metadata": {},
   "cell_type": "markdown",
   "source": "### Feature Importance",
   "id": "65d931153ad8a050"
  },
  {
   "metadata": {
    "ExecuteTime": {
     "end_time": "2025-01-09T20:07:39.686852Z",
     "start_time": "2025-01-09T20:07:39.424910Z"
    }
   },
   "cell_type": "code",
   "source": [
    "# Feature Importance for Random Forest\n",
    "rf_model = models['Random Forest']\n",
    "feature_importance = pd.DataFrame({\n",
    "    'feature': features,\n",
    "    'importance': rf_model.feature_importances_\n",
    "})\n",
    "feature_importance = feature_importance.sort_values('importance', ascending=False)\n",
    "\n",
    "plt.figure(figsize=(10, 6))\n",
    "sns.barplot(data=feature_importance, x='importance', y='feature')\n",
    "plt.title('Feature Importance for Churn Prediction')\n",
    "plt.show()"
   ],
   "id": "18f0f9834fa0a488",
   "outputs": [
    {
     "data": {
      "text/plain": [
       "<Figure size 1000x600 with 1 Axes>"
      ],
      "image/png": "[encoded data removed]"
     },
     "metadata": {},
     "output_type": "display_data"
    }
   ],
   "execution_count": 11
  },
  {
   "metadata": {
    "ExecuteTime": {
     "end_time": "2025-01-09T20:07:39.918951Z",
     "start_time": "2025-01-09T20:07:39.735955Z"
    }
   },
   "cell_type": "code",
   "source": [
    "# Feature Importance for Gradient Boosting\n",
    "rf_model = models['Gradient Boosting']\n",
    "feature_importance = pd.DataFrame({\n",
    "    'feature': features,\n",
    "    'importance': rf_model.feature_importances_\n",
    "})\n",
    "feature_importance = feature_importance.sort_values('importance', ascending=False)\n",
    "\n",
    "plt.figure(figsize=(10, 6))\n",
    "sns.barplot(data=feature_importance, x='importance', y='feature')\n",
    "plt.title('Feature Importance for Churn Prediction')\n",
    "plt.show()"
   ],
   "id": "2abf60b093f9c159",
   "outputs": [
    {
     "data": {
      "text/plain": [
       "<Figure size 1000x600 with 1 Axes>"
      ],
      "image/png": "[encoded data removed]"
     },
     "metadata": {},
     "output_type": "display_data"
    }
   ],
   "execution_count": 12
  },
  {
   "metadata": {
    "ExecuteTime": {
     "end_time": "2025-01-09T20:07:39.966485Z",
     "start_time": "2025-01-09T20:07:39.953221Z"
    }
   },
   "cell_type": "code",
   "source": "display(y_train_balanced.value_counts())",
   "id": "8e70853fc53e8318",
   "outputs": [
    {
     "data": {
      "text/plain": [
       "is_churned\n",
       "0    760\n",
       "1    760\n",
       "Name: count, dtype: int64"
      ]
     },
     "metadata": {},
     "output_type": "display_data"
    }
   ],
   "execution_count": 13
  },
  {
   "metadata": {
    "ExecuteTime": {
     "end_time": "2025-01-09T20:07:40.183203Z",
     "start_time": "2025-01-09T20:07:40.000764Z"
    }
   },
   "cell_type": "code",
   "source": [
    "# Plot ROC curves for all models\n",
    "plt.figure(figsize=(10, 6))\n",
    "\n",
    "for name, model in models.items():\n",
    "    if hasattr(model, \"predict_proba\"):\n",
    "        y_pred_proba = model.predict_proba(X_test_scaled)[:, 1]\n",
    "        fpr, tpr, _ = roc_curve(y_test, y_pred_proba)\n",
    "        roc_auc = auc(fpr, tpr)\n",
    "        \n",
    "        plt.plot(fpr, tpr, label=f'{name} (AUC = {roc_auc:.2f})')\n",
    "\n",
    "plt.plot([0, 1], [0, 1], 'k--')\n",
    "plt.xlim([0.0, 1.0])\n",
    "plt.ylim([0.0, 1.05])\n",
    "plt.xlabel('False Positive Rate')\n",
    "plt.ylabel('True Positive Rate')\n",
    "plt.title('ROC Curves for Different Models')\n",
    "plt.legend(loc=\"lower right\")\n",
    "plt.show()"
   ],
   "id": "9248b2407f96bd9d",
   "outputs": [
    {
     "data": {
      "text/plain": [
       "<Figure size 1000x600 with 1 Axes>"
      ],
      "image/png": "[encoded data removed]"
     },
     "metadata": {},
     "output_type": "display_data"
    }
   ],
   "execution_count": 14
  },
  {
   "metadata": {},
   "cell_type": "markdown",
   "source": "### Select the best model based on cross-validation scores",
   "id": "7a2dab5f66a59de5"
  },
  {
   "metadata": {
    "ExecuteTime": {
     "end_time": "2025-01-09T20:07:40.306870Z",
     "start_time": "2025-01-09T20:07:40.293564Z"
    }
   },
   "cell_type": "code",
   "source": [
    "best_model_name = max(results, key=lambda x: np.mean(results[x]['CV Scores']))\n",
    "best_model = models[best_model_name]\n",
    "best_cv_score = np.mean(results[best_model_name]['CV Scores'])\n",
    "\n",
    "print(f\"\\nBest Model: {best_model_name}\")\n",
    "print(f\"Best Cross-validation Score: {best_cv_score:.4f}\")"
   ],
   "id": "486e9b563b493d63",
   "outputs": [
    {
     "name": "stdout",
     "output_type": "stream",
     "text": [
      "\n",
      "Best Model: Random Forest\n",
      "Best Cross-validation Score: 0.9750\n"
     ]
    }
   ],
   "execution_count": 15
  },
  {
   "metadata": {},
   "cell_type": "markdown",
   "source": "### Save the models",
   "id": "ed6b87957fe4c868"
  },
  {
   "metadata": {
    "ExecuteTime": {
     "end_time": "2025-01-09T20:07:40.369035Z",
     "start_time": "2025-01-09T20:07:40.356149Z"
    }
   },
   "cell_type": "code",
   "source": [
    "# Save the best model\n",
    "with open('../models/churn_model.pkl','wb') as f:\n",
    "    pickle.dump(best_model, f)\n",
    "\n",
    "# Save the scaler\n",
    "with open('../models/churn_scaler.pkl','wb') as f:\n",
    "    pickle.dump(scaler, f)\n",
    "\n",
    "# Save the label encoders\n",
    "encoder_dict = {\n",
    "    'gender_encoder': gender_encoder,\n",
    "    'country_encoder': country_encoder,\n",
    "    'game_encoder': game_encoder\n",
    "}\n",
    "\n",
    "with open('../models/churn_encoders.pkl','wb') as f:\n",
    "    pickle.dump(encoder_dict, f)\n",
    "    \n"
   ],
   "id": "5b2949235fde3545",
   "outputs": [],
   "execution_count": 16
  },
  {
   "metadata": {},
   "cell_type": "markdown",
   "source": "### Loading the models",
   "id": "a009e1bfcee104f4"
  },
  {
   "metadata": {
    "ExecuteTime": {
     "end_time": "2025-01-09T20:07:40.431534Z",
     "start_time": "2025-01-09T20:07:40.419118Z"
    }
   },
   "cell_type": "code",
   "source": [
    "def load_churn_model():\n",
    "    \"\"\"Load the saved churn prediction model and preprocessing objects\"\"\"\n",
    "    with open('../models/churn_model.pkl', 'rb') as f:\n",
    "        model = pickle.load(f)\n",
    "\n",
    "    with open('../models/churn_scaler.pkl', 'rb') as f:\n",
    "        scaler = pickle.load(f)\n",
    "\n",
    "    with open('../models/churn_encoders.pkl', 'rb') as f:\n",
    "        encoders = pickle.load(f)\n",
    "\n",
    "    return model, scaler, encoders"
   ],
   "id": "16cb072f1db70a7f",
   "outputs": [],
   "execution_count": 17
  },
  {
   "metadata": {},
   "cell_type": "markdown",
   "source": "### Make Predictions",
   "id": "362278e07a41b72"
  },
  {
   "metadata": {
    "ExecuteTime": {
     "end_time": "2025-01-09T20:07:40.509123Z",
     "start_time": "2025-01-09T20:07:40.480730Z"
    }
   },
   "cell_type": "code",
   "source": [
    "def predict_churn(data, model, scaler, encoders):\n",
    "    \"\"\"\n",
    "    Make churn predictions on new data\n",
    "\n",
    "    Parameters:\n",
    "    data (pd.DataFrame): DataFrame containing the required features\n",
    "    model: Loaded model\n",
    "    scaler: Loaded scaler\n",
    "    gender_encoder: LabelEncoder for gender\n",
    "    country_encoder: LabelEncoder for country\n",
    "    game_encoder: LabelEncoder for game\n",
    "\n",
    "    Returns:\n",
    "    np.array: Predicted churn probabilities\n",
    "    \"\"\"\n",
    "    # Preprocess the data\n",
    "    data_processed = data.copy()\n",
    "    \n",
    "    data_processed['gender_encoded'] = safe_transform(encoders['gender_encoder'], data_processed['gender'])\n",
    "    data_processed['country_encoded'] = safe_transform(encoders['country_encoder'], data_processed['country'])\n",
    "    data_processed['game_encoded'] = safe_transform(encoders['game_encoder'], data_processed['game_name'])\n",
    "\n",
    "    # Select and scale features\n",
    "    features = ['total_games_played', 'win_ratio', 'total_time_played_minutes', 'total_moves',\n",
    "            'gender_encoded', 'country_encoded','game_encoded', 'age']\n",
    "    X = data_processed[features]\n",
    "    X_scaled = scaler.transform(X)\n",
    "\n",
    "    # Make predictions\n",
    "    return model.predict(X_scaled)\n",
    "\n",
    "\n",
    "# Example usage\n",
    "import pandas as pd\n",
    "\n",
    "# Load the saved model and components\n",
    "model, scaler, encoders = load_churn_model()\n",
    "\n",
    "# Create a sample input\n",
    "sample_input = pd.DataFrame({\n",
    "    'total_games_played': [100],\n",
    "    'win_ratio': [6.0],\n",
    "    'total_time_played_minutes': [5000],\n",
    "    'total_moves': [60],\n",
    "    'gender': ['Male'],  \n",
    "    'country': ['South Korea'], \n",
    "    'game_name': ['battleship'], \n",
    "    'age': [27]\n",
    "})\n",
    "\n",
    "# Make prediction\n",
    "prediction = predict_churn(sample_input, model, scaler, encoders)\n",
    "print(f\"Churn Prediction for sample input: {'Yes' if prediction[0] else 'No'}\")"
   ],
   "id": "dbeabdb15ce4ad2c",
   "outputs": [
    {
     "name": "stdout",
     "output_type": "stream",
     "text": [
      "Churn Prediction for sample input: No\n"
     ]
    }
   ],
   "execution_count": 18
  },
  {
   "metadata": {
    "ExecuteTime": {
     "end_time": "2025-01-09T20:07:40.633753Z",
     "start_time": "2025-01-09T20:07:40.603469Z"
    }
   },
   "cell_type": "code",
   "source": [
    "def predict_churn(data, model, scaler, encoders):\n",
    "    \"\"\"\n",
    "    Make churn predictions on new data\n",
    "\n",
    "    Parameters:\n",
    "    data (pd.DataFrame): DataFrame containing the required features\n",
    "    model: Loaded model\n",
    "    scaler: Loaded scaler\n",
    "    gender_encoder: LabelEncoder for gender\n",
    "    country_encoder: LabelEncoder for country\n",
    "    game_encoder: LabelEncoder for game\n",
    "\n",
    "    Returns:\n",
    "    np.array: Predicted churn probabilities\n",
    "    \"\"\"\n",
    "    # Preprocess the data\n",
    "    data_processed = data.copy()\n",
    "    \n",
    "    data_processed['gender_encoded'] = safe_transform(encoders['gender_encoder'], data_processed['gender'])\n",
    "    data_processed['country_encoded'] = safe_transform(encoders['country_encoder'], data_processed['country'])\n",
    "    data_processed['game_encoded'] = safe_transform(encoders['game_encoder'], data_processed['game_name'])\n",
    "\n",
    "    # Select and scale features\n",
    "    features = ['total_games_played', 'win_ratio', 'total_time_played_minutes', 'total_moves',\n",
    "            'gender_encoded', 'country_encoded','game_encoded', 'age']\n",
    "    X = data_processed[features]\n",
    "    X_scaled = scaler.transform(X)\n",
    "\n",
    "    # Make predictions\n",
    "    return model.predict(X_scaled)\n",
    "\n",
    "\n",
    "# Example usage\n",
    "import pandas as pd\n",
    "\n",
    "# Load the saved model and components\n",
    "model, scaler, encoders = load_churn_model()\n",
    "\n",
    "# Create a sample input\n",
    "sample_input = pd.DataFrame({\n",
    "    'total_games_played': [8],\n",
    "    'win_ratio': [5.0],\n",
    "    'total_time_played_minutes': [15],\n",
    "    'total_moves': [60],\n",
    "    'gender': ['Female'],  \n",
    "    'country': ['Jamaica'], \n",
    "    'game_name': ['COD'], \n",
    "    'age': [28]\n",
    "})\n",
    "\n",
    "# Make prediction\n",
    "prediction = predict_churn(sample_input, model, scaler, encoders)\n",
    "print(f\"Churn Prediction for sample input: {'Yes' if prediction[0] else 'No'}\")\n"
   ],
   "id": "c2b1433c4ac04084",
   "outputs": [
    {
     "name": "stdout",
     "output_type": "stream",
     "text": [
      "Churn Prediction for sample input: Yes\n"
     ]
    }
   ],
   "execution_count": 19
  },
  {
   "metadata": {
    "ExecuteTime": {
     "end_time": "2025-01-09T20:07:40.649548Z",
     "start_time": "2025-01-09T20:07:40.642453Z"
    }
   },
   "cell_type": "code",
   "source": [
    "# Print available categories\n",
    "print(\"Available countries:\", country_encoder.classes_)\n",
    "print(\"Available genders:\", gender_encoder.classes_)\n"
   ],
   "id": "566d30ef2eb68a0b",
   "outputs": [
    {
     "name": "stdout",
     "output_type": "stream",
     "text": [
      "Available countries: ['Australia' 'Brazil' 'Canada' 'China' 'France' 'Germany' 'India' 'Japan'\n",
      " 'Netherlands' 'Russia' 'Singapore' 'South Korea' 'Spain' 'UK' 'USA'\n",
      " 'unknown']\n",
      "Available genders: ['Female' 'Male' 'Non-Binary' 'unknown']\n"
     ]
    }
   ],
   "execution_count": 20
  },
  {
   "metadata": {
    "ExecuteTime": {
     "end_time": "2025-01-09T20:07:40.711004Z",
     "start_time": "2025-01-09T20:07:40.696491Z"
    }
   },
   "cell_type": "code",
   "source": "",
   "id": "ee0076215157831",
   "outputs": [],
   "execution_count": null
  }
 ],
 "metadata": {
  "kernelspec": {
   "display_name": "Python 3",
   "language": "python",
   "name": "python3"
  },
  "language_info": {
   "codemirror_mode": {
    "name": "ipython",
    "version": 2
   },
   "file_extension": ".py",
   "mimetype": "text/x-python",
   "name": "python",
   "nbconvert_exporter": "python",
   "pygments_lexer": "ipython2",
   "version": "2.7.6"
  }
 },
 "nbformat": 4,
 "nbformat_minor": 5
}
